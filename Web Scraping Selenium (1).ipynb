{
 "cells": [
  {
   "cell_type": "markdown",
   "metadata": {},
   "source": [
    "# Q1: Write a python program to scrape data for “Data Analyst” Job position in “Bangalore” location. You have to scrape the job-title, job-location, company_name, experience_required. You have to scrape first 10 jobs data."
   ]
  },
  {
   "cell_type": "markdown",
   "metadata": {},
   "source": [
    "This task will be done in following steps:\n",
    "1. first get the webpage https://www.naukri.com/\n",
    "2. Enter “Data Analyst” in “Skill,Designations,Companies” field and enter “Bangalore” in “enter the location” field.\n",
    "3. Then click the search button.\n",
    "4. Then scrape the data for the first 10 jobs results you get.\n",
    "5. Finally create a dataframe of the scraped data.\n"
   ]
  },
  {
   "cell_type": "code",
   "execution_count": 1,
   "metadata": {},
   "outputs": [],
   "source": [
    "#Importing reqiured libraries\n",
    "import selenium\n",
    "import pandas as pd\n",
    "from selenium import webdriver"
   ]
  },
  {
   "cell_type": "code",
   "execution_count": 2,
   "metadata": {},
   "outputs": [],
   "source": [
    "#Connecting to web driver\n",
    "driver = webdriver.Chrome(r\"C://chromedriver.exe\")"
   ]
  },
  {
   "cell_type": "code",
   "execution_count": 3,
   "metadata": {},
   "outputs": [],
   "source": [
    "driver.get(\"https://www.naukri.com\")"
   ]
  },
  {
   "cell_type": "code",
   "execution_count": 4,
   "metadata": {},
   "outputs": [],
   "source": [
    "search_job = driver.find_element_by_id(\"qsb-keyword-sugg\")"
   ]
  },
  {
   "cell_type": "code",
   "execution_count": 5,
   "metadata": {},
   "outputs": [],
   "source": [
    "search_job.send_keys(\"Data Analyst\")"
   ]
  },
  {
   "cell_type": "code",
   "execution_count": 6,
   "metadata": {},
   "outputs": [],
   "source": [
    "search_loc = driver.find_element_by_id(\"qsb-location-sugg\")"
   ]
  },
  {
   "cell_type": "code",
   "execution_count": 7,
   "metadata": {},
   "outputs": [],
   "source": [
    "search_loc.send_keys(\"Bangalore\")"
   ]
  },
  {
   "cell_type": "code",
   "execution_count": 8,
   "metadata": {},
   "outputs": [],
   "source": [
    "search_btn = driver.find_element_by_xpath(\"//div[@class='search-btn']/button\")\n",
    "search_btn.click()"
   ]
  },
  {
   "cell_type": "code",
   "execution_count": 9,
   "metadata": {},
   "outputs": [],
   "source": [
    "#url of the webpage to be scraped\n",
    "url = \"https://www.naukri.com/data-analyst-jobs-in-bangalore?k=data%20analyst&l=bangalore\""
   ]
  },
  {
   "cell_type": "code",
   "execution_count": 10,
   "metadata": {},
   "outputs": [],
   "source": [
    "driver.get(url)"
   ]
  },
  {
   "cell_type": "code",
   "execution_count": 11,
   "metadata": {},
   "outputs": [],
   "source": [
    "#List for storing information\n",
    "job_title = []\n",
    "comp_name = []\n",
    "loca = []\n",
    "exp = []"
   ]
  },
  {
   "cell_type": "code",
   "execution_count": 12,
   "metadata": {},
   "outputs": [],
   "source": [
    "#Extracting job title\n",
    "t_t = driver.find_elements_by_xpath(\"//a[@class = 'title fw500 ellipsis']\")"
   ]
  },
  {
   "cell_type": "code",
   "execution_count": 13,
   "metadata": {},
   "outputs": [
    {
     "data": {
      "text/plain": [
       "['Azure Data Analyst', 'Data Analyst', 'Data Analyst', 'Data Analyst']"
      ]
     },
     "execution_count": 13,
     "metadata": {},
     "output_type": "execute_result"
    }
   ],
   "source": [
    "for i in t_t:\n",
    "    title = i.text\n",
    "    job_title.append(title)\n",
    "job_title[0:4]"
   ]
  },
  {
   "cell_type": "code",
   "execution_count": 14,
   "metadata": {},
   "outputs": [],
   "source": [
    "#Extracting company name\n",
    "c_n = driver.find_elements_by_xpath(\"//a[@class = 'subTitle ellipsis fleft']\")"
   ]
  },
  {
   "cell_type": "code",
   "execution_count": 15,
   "metadata": {},
   "outputs": [
    {
     "data": {
      "text/plain": [
       "['Capgemini Technology Services India Limited',\n",
       " 'RedLock, Inc',\n",
       " 'Super India Tech Mark',\n",
       " 'tech mahindra ltd']"
      ]
     },
     "execution_count": 15,
     "metadata": {},
     "output_type": "execute_result"
    }
   ],
   "source": [
    "for i in c_n:\n",
    "    names = i.text\n",
    "    comp_name.append(names)\n",
    "comp_name[0:4]"
   ]
  },
  {
   "cell_type": "code",
   "execution_count": 16,
   "metadata": {},
   "outputs": [],
   "source": [
    "#Extracting location\n",
    "l_n = driver.find_elements_by_xpath(\"//li[@class = 'fleft grey-text br2 placeHolderLi location']/span[1]\")"
   ]
  },
  {
   "cell_type": "code",
   "execution_count": 17,
   "metadata": {},
   "outputs": [
    {
     "data": {
      "text/plain": [
       "['Bangalore/Bengaluru',\n",
       " 'Bangalore/Bengaluru',\n",
       " 'Bangalore/Bengaluru(Devalapur)',\n",
       " 'Bangalore/Bengaluru']"
      ]
     },
     "execution_count": 17,
     "metadata": {},
     "output_type": "execute_result"
    }
   ],
   "source": [
    "for i in l_n:\n",
    "    locations = i.text\n",
    "    loca.append(locations)\n",
    "loca[0:4]"
   ]
  },
  {
   "cell_type": "code",
   "execution_count": 18,
   "metadata": {},
   "outputs": [],
   "source": [
    "#Extracting company name\n",
    "e_r = driver.find_elements_by_xpath(\"//li[@class='fleft grey-text br2 placeHolderLi experience']/span[1]\")"
   ]
  },
  {
   "cell_type": "code",
   "execution_count": 19,
   "metadata": {},
   "outputs": [
    {
     "data": {
      "text/plain": [
       "['6-8 Yrs', '0-0 Yrs', '0-2 Yrs', '4-8 Yrs']"
      ]
     },
     "execution_count": 19,
     "metadata": {},
     "output_type": "execute_result"
    }
   ],
   "source": [
    "for i in e_r:\n",
    "    expe = i.text\n",
    "    exp.append(expe)\n",
    "exp[0:4]"
   ]
  },
  {
   "cell_type": "code",
   "execution_count": 20,
   "metadata": {},
   "outputs": [
    {
     "name": "stdout",
     "output_type": "stream",
     "text": [
      "20 20 20 20\n"
     ]
    }
   ],
   "source": [
    "#Checking lengths of all four lists\n",
    "print(len(t_t),len(c_n),len(l_n),len(e_r))"
   ]
  },
  {
   "cell_type": "code",
   "execution_count": 21,
   "metadata": {},
   "outputs": [],
   "source": [
    "#Creating and storing data in a dataframe\n",
    "naukri = pd.DataFrame({})\n",
    "naukri['Title']=job_title\n",
    "naukri['Company Name']=comp_name\n",
    "naukri['Locations']=loca\n",
    "naukri['Experience Required']= exp"
   ]
  },
  {
   "cell_type": "code",
   "execution_count": 22,
   "metadata": {},
   "outputs": [
    {
     "data": {
      "text/html": [
       "<div>\n",
       "<style scoped>\n",
       "    .dataframe tbody tr th:only-of-type {\n",
       "        vertical-align: middle;\n",
       "    }\n",
       "\n",
       "    .dataframe tbody tr th {\n",
       "        vertical-align: top;\n",
       "    }\n",
       "\n",
       "    .dataframe thead th {\n",
       "        text-align: right;\n",
       "    }\n",
       "</style>\n",
       "<table border=\"1\" class=\"dataframe\">\n",
       "  <thead>\n",
       "    <tr style=\"text-align: right;\">\n",
       "      <th></th>\n",
       "      <th>Title</th>\n",
       "      <th>Company Name</th>\n",
       "      <th>Locations</th>\n",
       "      <th>Experience Required</th>\n",
       "    </tr>\n",
       "  </thead>\n",
       "  <tbody>\n",
       "    <tr>\n",
       "      <th>0</th>\n",
       "      <td>Azure Data Analyst</td>\n",
       "      <td>Capgemini Technology Services India Limited</td>\n",
       "      <td>Bangalore/Bengaluru</td>\n",
       "      <td>6-8 Yrs</td>\n",
       "    </tr>\n",
       "    <tr>\n",
       "      <th>1</th>\n",
       "      <td>Data Analyst</td>\n",
       "      <td>RedLock, Inc</td>\n",
       "      <td>Bangalore/Bengaluru</td>\n",
       "      <td>0-0 Yrs</td>\n",
       "    </tr>\n",
       "    <tr>\n",
       "      <th>2</th>\n",
       "      <td>Data Analyst</td>\n",
       "      <td>Super India Tech Mark</td>\n",
       "      <td>Bangalore/Bengaluru(Devalapur)</td>\n",
       "      <td>0-2 Yrs</td>\n",
       "    </tr>\n",
       "    <tr>\n",
       "      <th>3</th>\n",
       "      <td>Data Analyst</td>\n",
       "      <td>tech mahindra ltd</td>\n",
       "      <td>Bangalore/Bengaluru</td>\n",
       "      <td>4-8 Yrs</td>\n",
       "    </tr>\n",
       "    <tr>\n",
       "      <th>4</th>\n",
       "      <td>Data Analyst</td>\n",
       "      <td>CONDUENT BUSINESS SERVICES INDIA LLP</td>\n",
       "      <td>Bangalore/Bengaluru</td>\n",
       "      <td>1-2 Yrs</td>\n",
       "    </tr>\n",
       "    <tr>\n",
       "      <th>5</th>\n",
       "      <td>Data Analyst</td>\n",
       "      <td>GlaxoSmithKline Pharmaceuticals Limited</td>\n",
       "      <td>Bangalore/Bengaluru</td>\n",
       "      <td>2-7 Yrs</td>\n",
       "    </tr>\n",
       "    <tr>\n",
       "      <th>6</th>\n",
       "      <td>Data Analyst</td>\n",
       "      <td>Myntra Designs Pvt. Ltd.</td>\n",
       "      <td>Bangalore/Bengaluru</td>\n",
       "      <td>3-6 Yrs</td>\n",
       "    </tr>\n",
       "    <tr>\n",
       "      <th>7</th>\n",
       "      <td>Data Analyst</td>\n",
       "      <td>Myntra Designs Pvt. Ltd.</td>\n",
       "      <td>Bangalore/Bengaluru</td>\n",
       "      <td>4-8 Yrs</td>\n",
       "    </tr>\n",
       "    <tr>\n",
       "      <th>8</th>\n",
       "      <td>Data Analyst</td>\n",
       "      <td>Myntra Designs Pvt. Ltd.</td>\n",
       "      <td>Bangalore/Bengaluru</td>\n",
       "      <td>3-8 Yrs</td>\n",
       "    </tr>\n",
       "    <tr>\n",
       "      <th>9</th>\n",
       "      <td>Data Analyst</td>\n",
       "      <td>Myntra Designs Pvt. Ltd.</td>\n",
       "      <td>Bangalore/Bengaluru</td>\n",
       "      <td>4-8 Yrs</td>\n",
       "    </tr>\n",
       "  </tbody>\n",
       "</table>\n",
       "</div>"
      ],
      "text/plain": [
       "                Title                                 Company Name  \\\n",
       "0  Azure Data Analyst  Capgemini Technology Services India Limited   \n",
       "1        Data Analyst                                 RedLock, Inc   \n",
       "2        Data Analyst                        Super India Tech Mark   \n",
       "3        Data Analyst                            tech mahindra ltd   \n",
       "4        Data Analyst         CONDUENT BUSINESS SERVICES INDIA LLP   \n",
       "5        Data Analyst      GlaxoSmithKline Pharmaceuticals Limited   \n",
       "6        Data Analyst                     Myntra Designs Pvt. Ltd.   \n",
       "7        Data Analyst                     Myntra Designs Pvt. Ltd.   \n",
       "8        Data Analyst                     Myntra Designs Pvt. Ltd.   \n",
       "9        Data Analyst                     Myntra Designs Pvt. Ltd.   \n",
       "\n",
       "                        Locations Experience Required  \n",
       "0             Bangalore/Bengaluru             6-8 Yrs  \n",
       "1             Bangalore/Bengaluru             0-0 Yrs  \n",
       "2  Bangalore/Bengaluru(Devalapur)             0-2 Yrs  \n",
       "3             Bangalore/Bengaluru             4-8 Yrs  \n",
       "4             Bangalore/Bengaluru             1-2 Yrs  \n",
       "5             Bangalore/Bengaluru             2-7 Yrs  \n",
       "6             Bangalore/Bengaluru             3-6 Yrs  \n",
       "7             Bangalore/Bengaluru             4-8 Yrs  \n",
       "8             Bangalore/Bengaluru             3-8 Yrs  \n",
       "9             Bangalore/Bengaluru             4-8 Yrs  "
      ]
     },
     "execution_count": 22,
     "metadata": {},
     "output_type": "execute_result"
    }
   ],
   "source": [
    "naukri.head(10)"
   ]
  },
  {
   "cell_type": "markdown",
   "metadata": {},
   "source": [
    "# Q2. Write a python program to scrape data for “Data Scientist” Job position in “Bangalore” location. You have to scrape the job-title, job-location,company_name, full job-description. You have to scrape first 10 jobs data."
   ]
  },
  {
   "cell_type": "markdown",
   "metadata": {},
   "source": [
    "This task will be done in following steps:\n",
    "1. first get the webpage https://www.naukri.com/\n",
    "2. Enter “Data Scientist” in “Skill,Designations,Companies” field and enter “Bangalore” in “enter the location” field.\n",
    "3. Then click the search button.\n",
    "4. Then scrape the data for the first 10 jobs results you get.\n",
    "5. Finally create a dataframe of the scraped data.\n"
   ]
  },
  {
   "cell_type": "code",
   "execution_count": 23,
   "metadata": {},
   "outputs": [],
   "source": [
    "#Connecting to web driver\n",
    "driver = webdriver.Chrome(r\"C://chromedriver.exe\")"
   ]
  },
  {
   "cell_type": "code",
   "execution_count": 24,
   "metadata": {},
   "outputs": [],
   "source": [
    "driver.get(\"https://www.naukri.com\")"
   ]
  },
  {
   "cell_type": "code",
   "execution_count": 25,
   "metadata": {},
   "outputs": [],
   "source": [
    "search_job = driver.find_element_by_id(\"qsb-keyword-sugg\")"
   ]
  },
  {
   "cell_type": "code",
   "execution_count": 26,
   "metadata": {},
   "outputs": [],
   "source": [
    "search_job.send_keys(\"Data Scientist\")"
   ]
  },
  {
   "cell_type": "code",
   "execution_count": 27,
   "metadata": {},
   "outputs": [],
   "source": [
    "search_loc = driver.find_element_by_id(\"qsb-location-sugg\")"
   ]
  },
  {
   "cell_type": "code",
   "execution_count": 28,
   "metadata": {},
   "outputs": [],
   "source": [
    "search_loc.send_keys(\"Bangalore\")"
   ]
  },
  {
   "cell_type": "code",
   "execution_count": 29,
   "metadata": {},
   "outputs": [],
   "source": [
    "search_btn = driver.find_element_by_xpath(\"//div[@class='search-btn']/button\")\n",
    "search_btn.click()"
   ]
  },
  {
   "cell_type": "code",
   "execution_count": 30,
   "metadata": {},
   "outputs": [],
   "source": [
    "#url of the webpage to be scraped\n",
    "url = \"https://www.naukri.com/data-scientist-jobs-in-bangalore?k=data%20scientist&l=bangalore\""
   ]
  },
  {
   "cell_type": "code",
   "execution_count": 31,
   "metadata": {},
   "outputs": [],
   "source": [
    "driver.get(url)"
   ]
  },
  {
   "cell_type": "code",
   "execution_count": 32,
   "metadata": {},
   "outputs": [],
   "source": [
    "#List for storing information\n",
    "job_title = []\n",
    "comp_name = []\n",
    "loca = []\n",
    "desc = []"
   ]
  },
  {
   "cell_type": "code",
   "execution_count": 33,
   "metadata": {},
   "outputs": [],
   "source": [
    "#Extracting job title\n",
    "t_t = driver.find_elements_by_xpath(\"//a[@class = 'title fw500 ellipsis']\")"
   ]
  },
  {
   "cell_type": "code",
   "execution_count": 34,
   "metadata": {},
   "outputs": [
    {
     "data": {
      "text/plain": [
       "['Data Scientist',\n",
       " 'Opportunity For Data Scientist Internship - Bengaluru',\n",
       " 'Data Scientist/ Analyst',\n",
       " 'Data Scientist - Machine Learning']"
      ]
     },
     "execution_count": 34,
     "metadata": {},
     "output_type": "execute_result"
    }
   ],
   "source": [
    "for i in t_t:\n",
    "    title = i.text\n",
    "    job_title.append(title)\n",
    "job_title[0:4]"
   ]
  },
  {
   "cell_type": "code",
   "execution_count": 35,
   "metadata": {},
   "outputs": [],
   "source": [
    "#Extracting company name\n",
    "c_n = driver.find_elements_by_xpath(\"//a[@class = 'subTitle ellipsis fleft']\")"
   ]
  },
  {
   "cell_type": "code",
   "execution_count": 36,
   "metadata": {},
   "outputs": [
    {
     "data": {
      "text/plain": [
       "['CronJ IT Technologies Private Limited',\n",
       " 'Corner Stone Solutions',\n",
       " 'Becton Dickinson India Pvt. Ltd',\n",
       " 'AugmatrixGo']"
      ]
     },
     "execution_count": 36,
     "metadata": {},
     "output_type": "execute_result"
    }
   ],
   "source": [
    "for i in c_n:\n",
    "    names = i.text\n",
    "    comp_name.append(names)\n",
    "comp_name[0:4]"
   ]
  },
  {
   "cell_type": "code",
   "execution_count": 37,
   "metadata": {},
   "outputs": [],
   "source": [
    "#Extracting location\n",
    "l_n = driver.find_elements_by_xpath(\"//li[@class = 'fleft grey-text br2 placeHolderLi location']/span[1]\")"
   ]
  },
  {
   "cell_type": "code",
   "execution_count": 38,
   "metadata": {},
   "outputs": [
    {
     "data": {
      "text/plain": [
       "['Bangalore/Bengaluru',\n",
       " 'Bangalore/Bengaluru',\n",
       " 'Bangalore/Bengaluru',\n",
       " 'Bangalore/Bengaluru']"
      ]
     },
     "execution_count": 38,
     "metadata": {},
     "output_type": "execute_result"
    }
   ],
   "source": [
    "for i in l_n:\n",
    "    locations = i.text\n",
    "    loca.append(locations)\n",
    "loca[0:4]"
   ]
  },
  {
   "cell_type": "code",
   "execution_count": 39,
   "metadata": {},
   "outputs": [],
   "source": [
    "#Extracting Description\n",
    "d_c = driver.find_elements_by_xpath(\"//div[@class='job-description fs12 grey-text']\")"
   ]
  },
  {
   "cell_type": "code",
   "execution_count": 40,
   "metadata": {},
   "outputs": [
    {
     "data": {
      "text/plain": [
       "['Flexibility in working independently and do needful research whenever requiredGood Know...',\n",
       " 'Looking for IIT, IIIT IISc, NIT, BIT & Equivalent colleges (Preferred)Flexibility in wo...',\n",
       " 'Minimum 2 years of relevant work experience PreferredExperience with Python, R, Hadoop,...',\n",
       " 'BTech / MTech degree in from reputed institutes like IIT / NIT / BITSSkills Required : ...']"
      ]
     },
     "execution_count": 40,
     "metadata": {},
     "output_type": "execute_result"
    }
   ],
   "source": [
    "for i in d_c:\n",
    "    des = i.text\n",
    "    desc.append(des)\n",
    "desc[0:4]"
   ]
  },
  {
   "cell_type": "code",
   "execution_count": 41,
   "metadata": {},
   "outputs": [
    {
     "name": "stdout",
     "output_type": "stream",
     "text": [
      "20 20 20 20\n"
     ]
    }
   ],
   "source": [
    "#Checking lengths of all four lists\n",
    "print(len(t_t),len(c_n),len(l_n),len(d_c))"
   ]
  },
  {
   "cell_type": "code",
   "execution_count": 42,
   "metadata": {},
   "outputs": [],
   "source": [
    "#Creating and storing data in a dataframe\n",
    "naukri = pd.DataFrame({})\n",
    "naukri['Title']=job_title\n",
    "naukri['Company Name']=comp_name\n",
    "naukri['Locations']=loca\n",
    "naukri['Description']=desc"
   ]
  },
  {
   "cell_type": "code",
   "execution_count": 43,
   "metadata": {},
   "outputs": [
    {
     "data": {
      "text/html": [
       "<div>\n",
       "<style scoped>\n",
       "    .dataframe tbody tr th:only-of-type {\n",
       "        vertical-align: middle;\n",
       "    }\n",
       "\n",
       "    .dataframe tbody tr th {\n",
       "        vertical-align: top;\n",
       "    }\n",
       "\n",
       "    .dataframe thead th {\n",
       "        text-align: right;\n",
       "    }\n",
       "</style>\n",
       "<table border=\"1\" class=\"dataframe\">\n",
       "  <thead>\n",
       "    <tr style=\"text-align: right;\">\n",
       "      <th></th>\n",
       "      <th>Title</th>\n",
       "      <th>Company Name</th>\n",
       "      <th>Locations</th>\n",
       "      <th>Description</th>\n",
       "    </tr>\n",
       "  </thead>\n",
       "  <tbody>\n",
       "    <tr>\n",
       "      <th>0</th>\n",
       "      <td>Data Scientist</td>\n",
       "      <td>CronJ IT Technologies Private Limited</td>\n",
       "      <td>Bangalore/Bengaluru</td>\n",
       "      <td>Flexibility in working independently and do ne...</td>\n",
       "    </tr>\n",
       "    <tr>\n",
       "      <th>1</th>\n",
       "      <td>Opportunity For Data Scientist Internship - Be...</td>\n",
       "      <td>Corner Stone Solutions</td>\n",
       "      <td>Bangalore/Bengaluru</td>\n",
       "      <td>Looking for IIT, IIIT IISc, NIT, BIT &amp; Equival...</td>\n",
       "    </tr>\n",
       "    <tr>\n",
       "      <th>2</th>\n",
       "      <td>Data Scientist/ Analyst</td>\n",
       "      <td>Becton Dickinson India Pvt. Ltd</td>\n",
       "      <td>Bangalore/Bengaluru</td>\n",
       "      <td>Minimum 2 years of relevant work experience Pr...</td>\n",
       "    </tr>\n",
       "    <tr>\n",
       "      <th>3</th>\n",
       "      <td>Data Scientist - Machine Learning</td>\n",
       "      <td>AugmatrixGo</td>\n",
       "      <td>Bangalore/Bengaluru</td>\n",
       "      <td>BTech / MTech degree in from reputed institute...</td>\n",
       "    </tr>\n",
       "    <tr>\n",
       "      <th>4</th>\n",
       "      <td>Data Scientist || Data Analyst || Data science</td>\n",
       "      <td>Inspiration Manpower Consultancy Pvt. Ltd.</td>\n",
       "      <td>Navi Mumbai, Bangalore/Bengaluru</td>\n",
       "      <td>Must HaveGood to haveHuman Resources experienc...</td>\n",
       "    </tr>\n",
       "    <tr>\n",
       "      <th>5</th>\n",
       "      <td>Data Scientist - IBM Garage</td>\n",
       "      <td>IBM India Pvt. Limited</td>\n",
       "      <td>Noida, Hyderabad/Secunderabad, Bangalore/Benga...</td>\n",
       "      <td>Required Technical and Professional ExpertiseP...</td>\n",
       "    </tr>\n",
       "    <tr>\n",
       "      <th>6</th>\n",
       "      <td>DBCG IND - GAMMA Senior Data Scientist</td>\n",
       "      <td>Boston Consulting Group</td>\n",
       "      <td>Mumbai, New Delhi, Chennai, Bangalore/Bengaluru</td>\n",
       "      <td>What Youll Do We re looking for a passionate a...</td>\n",
       "    </tr>\n",
       "    <tr>\n",
       "      <th>7</th>\n",
       "      <td>Data Scientist/Senior Data Scientist</td>\n",
       "      <td>GANIT BUSINESS SOLUTIONS PRIVATE LIMITED</td>\n",
       "      <td>Hyderabad/Secunderabad, Pune, Chennai, Bangalo...</td>\n",
       "      <td>Bachelors / Masters degree in Engineering / Te...</td>\n",
       "    </tr>\n",
       "    <tr>\n",
       "      <th>8</th>\n",
       "      <td>Senior Data Scientist | CES IT LTD | CMMI Level 5</td>\n",
       "      <td>CES Ltd.</td>\n",
       "      <td>Kolkata, Mumbai, Hyderabad/Secunderabad, Pune,...</td>\n",
       "      <td>Logical and Analytical skills must be really s...</td>\n",
       "    </tr>\n",
       "    <tr>\n",
       "      <th>9</th>\n",
       "      <td>Global Medical Data Scientist</td>\n",
       "      <td>GlaxoSmithKline Pharmaceuticals Limited</td>\n",
       "      <td>Bangalore/Bengaluru</td>\n",
       "      <td>medical voice of customer feedback, customer l...</td>\n",
       "    </tr>\n",
       "  </tbody>\n",
       "</table>\n",
       "</div>"
      ],
      "text/plain": [
       "                                               Title  \\\n",
       "0                                     Data Scientist   \n",
       "1  Opportunity For Data Scientist Internship - Be...   \n",
       "2                            Data Scientist/ Analyst   \n",
       "3                  Data Scientist - Machine Learning   \n",
       "4     Data Scientist || Data Analyst || Data science   \n",
       "5                        Data Scientist - IBM Garage   \n",
       "6             DBCG IND - GAMMA Senior Data Scientist   \n",
       "7               Data Scientist/Senior Data Scientist   \n",
       "8  Senior Data Scientist | CES IT LTD | CMMI Level 5   \n",
       "9                      Global Medical Data Scientist   \n",
       "\n",
       "                                 Company Name  \\\n",
       "0       CronJ IT Technologies Private Limited   \n",
       "1                      Corner Stone Solutions   \n",
       "2             Becton Dickinson India Pvt. Ltd   \n",
       "3                                 AugmatrixGo   \n",
       "4  Inspiration Manpower Consultancy Pvt. Ltd.   \n",
       "5                      IBM India Pvt. Limited   \n",
       "6                     Boston Consulting Group   \n",
       "7    GANIT BUSINESS SOLUTIONS PRIVATE LIMITED   \n",
       "8                                    CES Ltd.   \n",
       "9     GlaxoSmithKline Pharmaceuticals Limited   \n",
       "\n",
       "                                           Locations  \\\n",
       "0                                Bangalore/Bengaluru   \n",
       "1                                Bangalore/Bengaluru   \n",
       "2                                Bangalore/Bengaluru   \n",
       "3                                Bangalore/Bengaluru   \n",
       "4                   Navi Mumbai, Bangalore/Bengaluru   \n",
       "5  Noida, Hyderabad/Secunderabad, Bangalore/Benga...   \n",
       "6    Mumbai, New Delhi, Chennai, Bangalore/Bengaluru   \n",
       "7  Hyderabad/Secunderabad, Pune, Chennai, Bangalo...   \n",
       "8  Kolkata, Mumbai, Hyderabad/Secunderabad, Pune,...   \n",
       "9                                Bangalore/Bengaluru   \n",
       "\n",
       "                                         Description  \n",
       "0  Flexibility in working independently and do ne...  \n",
       "1  Looking for IIT, IIIT IISc, NIT, BIT & Equival...  \n",
       "2  Minimum 2 years of relevant work experience Pr...  \n",
       "3  BTech / MTech degree in from reputed institute...  \n",
       "4  Must HaveGood to haveHuman Resources experienc...  \n",
       "5  Required Technical and Professional ExpertiseP...  \n",
       "6  What Youll Do We re looking for a passionate a...  \n",
       "7  Bachelors / Masters degree in Engineering / Te...  \n",
       "8  Logical and Analytical skills must be really s...  \n",
       "9  medical voice of customer feedback, customer l...  "
      ]
     },
     "execution_count": 43,
     "metadata": {},
     "output_type": "execute_result"
    }
   ],
   "source": [
    "naukri.head(10)"
   ]
  },
  {
   "cell_type": "markdown",
   "metadata": {},
   "source": [
    "# Q3. Scrape data using the filters available on the webpage."
   ]
  },
  {
   "cell_type": "code",
   "execution_count": null,
   "metadata": {},
   "outputs": [],
   "source": []
  },
  {
   "cell_type": "code",
   "execution_count": 44,
   "metadata": {},
   "outputs": [],
   "source": [
    "#Connecting to web driver\n",
    "driver = webdriver.Chrome(r\"C://chromedriver.exe\")"
   ]
  },
  {
   "cell_type": "code",
   "execution_count": 45,
   "metadata": {},
   "outputs": [],
   "source": [
    "driver.get(\"https://www.naukri.com\")"
   ]
  },
  {
   "cell_type": "code",
   "execution_count": 46,
   "metadata": {},
   "outputs": [],
   "source": [
    "search_job = driver.find_element_by_id(\"qsb-keyword-sugg\")"
   ]
  },
  {
   "cell_type": "code",
   "execution_count": 47,
   "metadata": {},
   "outputs": [],
   "source": [
    "search_job.send_keys(\"Data Scientist\")"
   ]
  },
  {
   "cell_type": "code",
   "execution_count": 48,
   "metadata": {},
   "outputs": [],
   "source": [
    "search_btn = driver.find_element_by_xpath(\"//div[@class='search-btn']/button\")\n",
    "search_btn.click()"
   ]
  },
  {
   "cell_type": "code",
   "execution_count": 49,
   "metadata": {},
   "outputs": [],
   "source": [
    "#url of the webpage to be scraped\n",
    "url = \"https://www.naukri.com/data-scientist-jobs?k=data%20scientist\""
   ]
  },
  {
   "cell_type": "code",
   "execution_count": 50,
   "metadata": {},
   "outputs": [],
   "source": [
    "driver.get(url)"
   ]
  },
  {
   "cell_type": "code",
   "execution_count": 51,
   "metadata": {},
   "outputs": [],
   "source": [
    "#List for storing information\n",
    "job_title = []\n",
    "comp_name = []\n",
    "loca = []\n",
    "exp = []"
   ]
  },
  {
   "cell_type": "code",
   "execution_count": 52,
   "metadata": {},
   "outputs": [],
   "source": [
    "#Location Button\n",
    "loc_btn = driver.find_element_by_xpath(\"//span[@title='Delhi / NCR']\")\n",
    "loc_btn.click()"
   ]
  },
  {
   "cell_type": "code",
   "execution_count": 54,
   "metadata": {},
   "outputs": [],
   "source": [
    "#Salary Button\n",
    "sal_btn = driver.find_element_by_xpath(\"//span[@title='3-6 Lakhs']\")\n",
    "sal_btn.click()"
   ]
  },
  {
   "cell_type": "code",
   "execution_count": 55,
   "metadata": {},
   "outputs": [],
   "source": [
    "#Extracting job title\n",
    "t_t = driver.find_elements_by_xpath(\"//a[@class = 'title fw500 ellipsis']\")"
   ]
  },
  {
   "cell_type": "code",
   "execution_count": 56,
   "metadata": {},
   "outputs": [
    {
     "data": {
      "text/plain": [
       "['Data Scientist - IBM Garage',\n",
       " 'Data Scientist/Data Analyst - Python/Machine Learning',\n",
       " 'Data Scientist',\n",
       " 'Data Scientist - Python & Machine Learning']"
      ]
     },
     "execution_count": 56,
     "metadata": {},
     "output_type": "execute_result"
    }
   ],
   "source": [
    "for i in t_t:\n",
    "    title = i.text\n",
    "    job_title.append(title)\n",
    "job_title[0:4]"
   ]
  },
  {
   "cell_type": "code",
   "execution_count": 57,
   "metadata": {},
   "outputs": [],
   "source": [
    "#Extracting company name\n",
    "c_n = driver.find_elements_by_xpath(\"//a[@class = 'subTitle ellipsis fleft']\")"
   ]
  },
  {
   "cell_type": "code",
   "execution_count": 58,
   "metadata": {},
   "outputs": [
    {
     "data": {
      "text/plain": [
       "['IBM India Pvt. Limited',\n",
       " 'Change leaders',\n",
       " 'Amity University',\n",
       " 'FUTURES AND CAREERS']"
      ]
     },
     "execution_count": 58,
     "metadata": {},
     "output_type": "execute_result"
    }
   ],
   "source": [
    "for i in c_n:\n",
    "    names = i.text\n",
    "    comp_name.append(names)\n",
    "comp_name[0:4]"
   ]
  },
  {
   "cell_type": "code",
   "execution_count": 59,
   "metadata": {},
   "outputs": [],
   "source": [
    "#Extracting location\n",
    "l_n = driver.find_elements_by_xpath(\"//li[@class = 'fleft grey-text br2 placeHolderLi location']/span[1]\")"
   ]
  },
  {
   "cell_type": "code",
   "execution_count": 60,
   "metadata": {},
   "outputs": [
    {
     "data": {
      "text/plain": [
       "['Noida, Hyderabad/Secunderabad, Bangalore/Bengaluru',\n",
       " 'Mumbai, Ghaziabad',\n",
       " 'Ghaziabad, Faridabad, Delhi / NCR',\n",
       " 'Hyderabad/Secunderabad, Pune, Bangalore/Bengaluru, Delhi / NCR, Mumbai (All Areas)']"
      ]
     },
     "execution_count": 60,
     "metadata": {},
     "output_type": "execute_result"
    }
   ],
   "source": [
    "for i in l_n:\n",
    "    locations = i.text\n",
    "    loca.append(locations)\n",
    "loca[0:4]"
   ]
  },
  {
   "cell_type": "code",
   "execution_count": 61,
   "metadata": {},
   "outputs": [],
   "source": [
    "#Extracting company name\n",
    "e_r = driver.find_elements_by_xpath(\"//li[@class='fleft grey-text br2 placeHolderLi experience']/span[1]\")"
   ]
  },
  {
   "cell_type": "code",
   "execution_count": 62,
   "metadata": {},
   "outputs": [
    {
     "data": {
      "text/plain": [
       "['5-8 Yrs', '5-10 Yrs', '6-8 Yrs', '2-7 Yrs']"
      ]
     },
     "execution_count": 62,
     "metadata": {},
     "output_type": "execute_result"
    }
   ],
   "source": [
    "for i in e_r:\n",
    "    expe = i.text\n",
    "    exp.append(expe)\n",
    "exp[0:4]"
   ]
  },
  {
   "cell_type": "code",
   "execution_count": 63,
   "metadata": {},
   "outputs": [
    {
     "name": "stdout",
     "output_type": "stream",
     "text": [
      "20 20 20 20\n"
     ]
    }
   ],
   "source": [
    "#Checking lengths of all three lists\n",
    "print(len(t_t),len(c_n),len(l_n),len(e_r))"
   ]
  },
  {
   "cell_type": "code",
   "execution_count": 64,
   "metadata": {},
   "outputs": [],
   "source": [
    "#Creating and storing data in a dataframe\n",
    "naukri = pd.DataFrame({})\n",
    "naukri['Title']=job_title\n",
    "naukri['Company Name']=comp_name\n",
    "naukri['Locations']=loca\n",
    "naukri['Experience']= exp"
   ]
  },
  {
   "cell_type": "code",
   "execution_count": 65,
   "metadata": {},
   "outputs": [
    {
     "data": {
      "text/html": [
       "<div>\n",
       "<style scoped>\n",
       "    .dataframe tbody tr th:only-of-type {\n",
       "        vertical-align: middle;\n",
       "    }\n",
       "\n",
       "    .dataframe tbody tr th {\n",
       "        vertical-align: top;\n",
       "    }\n",
       "\n",
       "    .dataframe thead th {\n",
       "        text-align: right;\n",
       "    }\n",
       "</style>\n",
       "<table border=\"1\" class=\"dataframe\">\n",
       "  <thead>\n",
       "    <tr style=\"text-align: right;\">\n",
       "      <th></th>\n",
       "      <th>Title</th>\n",
       "      <th>Company Name</th>\n",
       "      <th>Locations</th>\n",
       "      <th>Experience</th>\n",
       "    </tr>\n",
       "  </thead>\n",
       "  <tbody>\n",
       "    <tr>\n",
       "      <th>0</th>\n",
       "      <td>Data Scientist - IBM Garage</td>\n",
       "      <td>IBM India Pvt. Limited</td>\n",
       "      <td>Noida, Hyderabad/Secunderabad, Bangalore/Benga...</td>\n",
       "      <td>5-8 Yrs</td>\n",
       "    </tr>\n",
       "    <tr>\n",
       "      <th>1</th>\n",
       "      <td>Data Scientist/Data Analyst - Python/Machine L...</td>\n",
       "      <td>Change leaders</td>\n",
       "      <td>Mumbai, Ghaziabad</td>\n",
       "      <td>5-10 Yrs</td>\n",
       "    </tr>\n",
       "    <tr>\n",
       "      <th>2</th>\n",
       "      <td>Data Scientist</td>\n",
       "      <td>Amity University</td>\n",
       "      <td>Ghaziabad, Faridabad, Delhi / NCR</td>\n",
       "      <td>6-8 Yrs</td>\n",
       "    </tr>\n",
       "    <tr>\n",
       "      <th>3</th>\n",
       "      <td>Data Scientist - Python &amp; Machine Learning</td>\n",
       "      <td>FUTURES AND CAREERS</td>\n",
       "      <td>Hyderabad/Secunderabad, Pune, Bangalore/Bengal...</td>\n",
       "      <td>2-7 Yrs</td>\n",
       "    </tr>\n",
       "    <tr>\n",
       "      <th>4</th>\n",
       "      <td>Data Scientist - Python &amp; Machine Learning</td>\n",
       "      <td>FUTURES AND CAREERS</td>\n",
       "      <td>Hyderabad/Secunderabad, Pune, Chennai, Bangalo...</td>\n",
       "      <td>2-7 Yrs</td>\n",
       "    </tr>\n",
       "    <tr>\n",
       "      <th>5</th>\n",
       "      <td>Females Required- Data Scientist- Noida</td>\n",
       "      <td>Randstad</td>\n",
       "      <td>Noida, Gurgaon/Gurugram, Delhi / NCR</td>\n",
       "      <td>3-7 Yrs</td>\n",
       "    </tr>\n",
       "    <tr>\n",
       "      <th>6</th>\n",
       "      <td>Data Scientist - Python / Machine Learning / T...</td>\n",
       "      <td>FUTURES AND CAREERS</td>\n",
       "      <td>Mumbai, Hyderabad/Secunderabad, Bangalore/Beng...</td>\n",
       "      <td>3-8 Yrs</td>\n",
       "    </tr>\n",
       "    <tr>\n",
       "      <th>7</th>\n",
       "      <td>Data Scientist - Python &amp; Machine Learning</td>\n",
       "      <td>FUTURES AND CAREERS</td>\n",
       "      <td>Hyderabad/Secunderabad, Bangalore/Bengaluru, D...</td>\n",
       "      <td>2-7 Yrs</td>\n",
       "    </tr>\n",
       "    <tr>\n",
       "      <th>8</th>\n",
       "      <td>Hiring For Data Scientist</td>\n",
       "      <td>Max Bupa Health Insurance Company Limited</td>\n",
       "      <td>Gurgaon/Gurugram, Delhi / NCR</td>\n",
       "      <td>1-6 Yrs</td>\n",
       "    </tr>\n",
       "    <tr>\n",
       "      <th>9</th>\n",
       "      <td>Required- Data Scientist (NLP)-Axis Bank - 6 m...</td>\n",
       "      <td>Axis Bank Limited</td>\n",
       "      <td>Kolkata, New Delhi, Hyderabad/Secunderabad, Pu...</td>\n",
       "      <td>4-9 Yrs</td>\n",
       "    </tr>\n",
       "  </tbody>\n",
       "</table>\n",
       "</div>"
      ],
      "text/plain": [
       "                                               Title  \\\n",
       "0                        Data Scientist - IBM Garage   \n",
       "1  Data Scientist/Data Analyst - Python/Machine L...   \n",
       "2                                     Data Scientist   \n",
       "3         Data Scientist - Python & Machine Learning   \n",
       "4         Data Scientist - Python & Machine Learning   \n",
       "5            Females Required- Data Scientist- Noida   \n",
       "6  Data Scientist - Python / Machine Learning / T...   \n",
       "7         Data Scientist - Python & Machine Learning   \n",
       "8                          Hiring For Data Scientist   \n",
       "9  Required- Data Scientist (NLP)-Axis Bank - 6 m...   \n",
       "\n",
       "                                Company Name  \\\n",
       "0                     IBM India Pvt. Limited   \n",
       "1                             Change leaders   \n",
       "2                           Amity University   \n",
       "3                        FUTURES AND CAREERS   \n",
       "4                        FUTURES AND CAREERS   \n",
       "5                                   Randstad   \n",
       "6                        FUTURES AND CAREERS   \n",
       "7                        FUTURES AND CAREERS   \n",
       "8  Max Bupa Health Insurance Company Limited   \n",
       "9                          Axis Bank Limited   \n",
       "\n",
       "                                           Locations Experience  \n",
       "0  Noida, Hyderabad/Secunderabad, Bangalore/Benga...    5-8 Yrs  \n",
       "1                                  Mumbai, Ghaziabad   5-10 Yrs  \n",
       "2                  Ghaziabad, Faridabad, Delhi / NCR    6-8 Yrs  \n",
       "3  Hyderabad/Secunderabad, Pune, Bangalore/Bengal...    2-7 Yrs  \n",
       "4  Hyderabad/Secunderabad, Pune, Chennai, Bangalo...    2-7 Yrs  \n",
       "5               Noida, Gurgaon/Gurugram, Delhi / NCR    3-7 Yrs  \n",
       "6  Mumbai, Hyderabad/Secunderabad, Bangalore/Beng...    3-8 Yrs  \n",
       "7  Hyderabad/Secunderabad, Bangalore/Bengaluru, D...    2-7 Yrs  \n",
       "8                      Gurgaon/Gurugram, Delhi / NCR    1-6 Yrs  \n",
       "9  Kolkata, New Delhi, Hyderabad/Secunderabad, Pu...    4-9 Yrs  "
      ]
     },
     "execution_count": 65,
     "metadata": {},
     "output_type": "execute_result"
    }
   ],
   "source": [
    "naukri.head(10)"
   ]
  },
  {
   "cell_type": "markdown",
   "metadata": {},
   "source": [
    "# Q4. Scrape data for first 10 job results for Data scientist Designation in Noida location. You have to scrape company_name, No. of days ago when job was posted, Rating of the company."
   ]
  },
  {
   "cell_type": "markdown",
   "metadata": {},
   "source": [
    "This task will be done in following steps:\n",
    "1. First get the webpage https://www.glassdoor.co.in/index.htm\n",
    "2. Enter “Data Scientist” in “Job Title,Keyword,Company” field and enter “Noida” in “location” field.\n",
    "3. Then click the search button.\n",
    "4. Then scrape the data for the first 10 jobs results you get in the above shown page.\n",
    "5. Finally create a dataframe of the scraped data."
   ]
  },
  {
   "cell_type": "code",
   "execution_count": 2,
   "metadata": {},
   "outputs": [],
   "source": [
    "#Connecting to web driver\n",
    "driver = webdriver.Chrome(r\"C://chromedriver.exe\")"
   ]
  },
  {
   "cell_type": "code",
   "execution_count": 4,
   "metadata": {},
   "outputs": [],
   "source": [
    "driver.get(\"https://www.glassdoor.co.in/index.htm\")"
   ]
  },
  {
   "cell_type": "code",
   "execution_count": 6,
   "metadata": {},
   "outputs": [],
   "source": [
    "search_job = driver.find_element_by_xpath(\"//input[@id='scKeyword'][1]\")"
   ]
  },
  {
   "cell_type": "code",
   "execution_count": 7,
   "metadata": {},
   "outputs": [],
   "source": [
    "search_job.send_keys(\"Data Scientist\")"
   ]
  },
  {
   "cell_type": "code",
   "execution_count": 8,
   "metadata": {},
   "outputs": [],
   "source": [
    "search_loc = driver.find_element_by_xpath(\"//input[@id='scLocation'][1]\")"
   ]
  },
  {
   "cell_type": "code",
   "execution_count": 9,
   "metadata": {},
   "outputs": [],
   "source": [
    "search_loc.send_keys(\"Noida\")"
   ]
  },
  {
   "cell_type": "code",
   "execution_count": 10,
   "metadata": {},
   "outputs": [],
   "source": [
    "search_btn=driver.find_element_by_xpath(\"//button[@class='pl-0 pr-xsm SearchStyles__searchKeywordSubmit']\")\n",
    "search_btn.click()"
   ]
  },
  {
   "cell_type": "code",
   "execution_count": 11,
   "metadata": {},
   "outputs": [],
   "source": [
    "url = \"https://www.glassdoor.co.in/Job/noida-data-scientist-jobs-SRCH_IL.0,5_IC4477468_KO6,20.htm\""
   ]
  },
  {
   "cell_type": "code",
   "execution_count": 12,
   "metadata": {},
   "outputs": [],
   "source": [
    "driver.get(url)"
   ]
  },
  {
   "cell_type": "code",
   "execution_count": 34,
   "metadata": {},
   "outputs": [],
   "source": [
    "#List for storing information\n",
    "job_title = []\n",
    "days = []\n",
    "rating = []"
   ]
  },
  {
   "cell_type": "code",
   "execution_count": 35,
   "metadata": {},
   "outputs": [
    {
     "data": {
      "text/plain": [
       "[<selenium.webdriver.remote.webelement.WebElement (session=\"f1ee8eb12a8ad3c16c40d27730a17355\", element=\"c0137f38-955c-49fb-b6aa-86d969d4b948\")>,\n",
       " <selenium.webdriver.remote.webelement.WebElement (session=\"f1ee8eb12a8ad3c16c40d27730a17355\", element=\"6de56ee6-99d5-4096-b82e-32eb7cf242cc\")>,\n",
       " <selenium.webdriver.remote.webelement.WebElement (session=\"f1ee8eb12a8ad3c16c40d27730a17355\", element=\"59446405-e1f8-4f6c-9a1e-bdd4e72fff1f\")>,\n",
       " <selenium.webdriver.remote.webelement.WebElement (session=\"f1ee8eb12a8ad3c16c40d27730a17355\", element=\"b415a12b-f19f-4989-9e66-70f5af3662b6\")>]"
      ]
     },
     "execution_count": 35,
     "metadata": {},
     "output_type": "execute_result"
    }
   ],
   "source": [
    "#Extracting Company title\n",
    "t_t = driver.find_elements_by_xpath(\"//a[@class=' css-l2wjgv e1n63ojh0 jobLink']\")\n",
    "t_t[0:4]"
   ]
  },
  {
   "cell_type": "code",
   "execution_count": 36,
   "metadata": {},
   "outputs": [
    {
     "data": {
      "text/plain": [
       "['Adobe', 'Biz2Credit Inc', 'MasterCard', 'Asquero']"
      ]
     },
     "execution_count": 36,
     "metadata": {},
     "output_type": "execute_result"
    }
   ],
   "source": [
    "for i in t_t:\n",
    "    title = i.text\n",
    "    job_title.append(title)\n",
    "job_title[0:4]"
   ]
  },
  {
   "cell_type": "code",
   "execution_count": 37,
   "metadata": {},
   "outputs": [
    {
     "data": {
      "text/plain": [
       "[<selenium.webdriver.remote.webelement.WebElement (session=\"f1ee8eb12a8ad3c16c40d27730a17355\", element=\"be77d3fe-8758-46de-88e2-623a3ed4dda6\")>,\n",
       " <selenium.webdriver.remote.webelement.WebElement (session=\"f1ee8eb12a8ad3c16c40d27730a17355\", element=\"33b63e23-1583-4f33-a8c9-dc6a517d4b48\")>,\n",
       " <selenium.webdriver.remote.webelement.WebElement (session=\"f1ee8eb12a8ad3c16c40d27730a17355\", element=\"4f76b001-455d-405d-bf67-4e1bda8a0ba1\")>,\n",
       " <selenium.webdriver.remote.webelement.WebElement (session=\"f1ee8eb12a8ad3c16c40d27730a17355\", element=\"67a8210d-666c-4748-9fd7-649fe8108640\")>]"
      ]
     },
     "execution_count": 37,
     "metadata": {},
     "output_type": "execute_result"
    }
   ],
   "source": [
    "#Extracting No of days\n",
    "n_d = driver.find_elements_by_xpath(\"//div[@class='d-flex align-items-end pl-std css-mi55ob']\")\n",
    "n_d[0:4]"
   ]
  },
  {
   "cell_type": "code",
   "execution_count": 38,
   "metadata": {},
   "outputs": [
    {
     "data": {
      "text/plain": [
       "['15d', '30d+', '2d', '10d']"
      ]
     },
     "execution_count": 38,
     "metadata": {},
     "output_type": "execute_result"
    }
   ],
   "source": [
    "for i in n_d:\n",
    "    da = i.text\n",
    "    days.append(da)\n",
    "days[0:4]"
   ]
  },
  {
   "cell_type": "code",
   "execution_count": 39,
   "metadata": {},
   "outputs": [
    {
     "data": {
      "text/plain": [
       "[<selenium.webdriver.remote.webelement.WebElement (session=\"f1ee8eb12a8ad3c16c40d27730a17355\", element=\"11a7c20c-c1dc-4163-8c2d-55951d3582ce\")>,\n",
       " <selenium.webdriver.remote.webelement.WebElement (session=\"f1ee8eb12a8ad3c16c40d27730a17355\", element=\"54aeeca0-fec8-4b53-91ca-3b865d2bb9c1\")>,\n",
       " <selenium.webdriver.remote.webelement.WebElement (session=\"f1ee8eb12a8ad3c16c40d27730a17355\", element=\"0e0b4272-fcb3-41da-8f11-db6062ae3101\")>,\n",
       " <selenium.webdriver.remote.webelement.WebElement (session=\"f1ee8eb12a8ad3c16c40d27730a17355\", element=\"46310ceb-0430-484c-8418-2ea80412b239\")>]"
      ]
     },
     "execution_count": 39,
     "metadata": {},
     "output_type": "execute_result"
    }
   ],
   "source": [
    "#Extracting Ratings\n",
    "r_t = driver.find_elements_by_xpath(\"//span[@class='css-19pjha7 e1cjmv6j1']\")\n",
    "r_t[0:4]"
   ]
  },
  {
   "cell_type": "code",
   "execution_count": 40,
   "metadata": {},
   "outputs": [
    {
     "data": {
      "text/plain": [
       "['4.4', '3.8', '4.2', '5.0']"
      ]
     },
     "execution_count": 40,
     "metadata": {},
     "output_type": "execute_result"
    }
   ],
   "source": [
    "for i in r_t:\n",
    "    rat = i.text\n",
    "    if rat != ' ':\n",
    "        rating.append(rat)\n",
    "    else:\n",
    "        rating.append(0)\n",
    "rating[0:4]"
   ]
  },
  {
   "cell_type": "code",
   "execution_count": 41,
   "metadata": {},
   "outputs": [
    {
     "name": "stdout",
     "output_type": "stream",
     "text": [
      "30 30 20\n"
     ]
    }
   ],
   "source": [
    "#Checking lengths of all three lists\n",
    "print(len(t_t),len(n_d),len(r_t))"
   ]
  },
  {
   "cell_type": "code",
   "execution_count": 42,
   "metadata": {},
   "outputs": [],
   "source": [
    "#Creating and storing data in a dataframe\n",
    "naukri = pd.DataFrame({})\n",
    "naukri['Company Name']= job_title[:10]\n",
    "naukri['No of days posted']=days[:10]\n",
    "naukri['Ratings']=rating[:10]"
   ]
  },
  {
   "cell_type": "code",
   "execution_count": 43,
   "metadata": {},
   "outputs": [
    {
     "data": {
      "text/html": [
       "<div>\n",
       "<style scoped>\n",
       "    .dataframe tbody tr th:only-of-type {\n",
       "        vertical-align: middle;\n",
       "    }\n",
       "\n",
       "    .dataframe tbody tr th {\n",
       "        vertical-align: top;\n",
       "    }\n",
       "\n",
       "    .dataframe thead th {\n",
       "        text-align: right;\n",
       "    }\n",
       "</style>\n",
       "<table border=\"1\" class=\"dataframe\">\n",
       "  <thead>\n",
       "    <tr style=\"text-align: right;\">\n",
       "      <th></th>\n",
       "      <th>Company Name</th>\n",
       "      <th>No of days posted</th>\n",
       "      <th>Ratings</th>\n",
       "    </tr>\n",
       "  </thead>\n",
       "  <tbody>\n",
       "    <tr>\n",
       "      <th>0</th>\n",
       "      <td>Adobe</td>\n",
       "      <td>15d</td>\n",
       "      <td>4.4</td>\n",
       "    </tr>\n",
       "    <tr>\n",
       "      <th>1</th>\n",
       "      <td>Biz2Credit Inc</td>\n",
       "      <td>30d+</td>\n",
       "      <td>3.8</td>\n",
       "    </tr>\n",
       "    <tr>\n",
       "      <th>2</th>\n",
       "      <td>MasterCard</td>\n",
       "      <td>2d</td>\n",
       "      <td>4.2</td>\n",
       "    </tr>\n",
       "    <tr>\n",
       "      <th>3</th>\n",
       "      <td>Asquero</td>\n",
       "      <td>10d</td>\n",
       "      <td>5.0</td>\n",
       "    </tr>\n",
       "    <tr>\n",
       "      <th>4</th>\n",
       "      <td>JLL</td>\n",
       "      <td>24h</td>\n",
       "      <td>4.0</td>\n",
       "    </tr>\n",
       "    <tr>\n",
       "      <th>5</th>\n",
       "      <td>Dürr Somac GmbH</td>\n",
       "      <td>30d+</td>\n",
       "      <td>3.8</td>\n",
       "    </tr>\n",
       "    <tr>\n",
       "      <th>6</th>\n",
       "      <td>WishFin</td>\n",
       "      <td>30d+</td>\n",
       "      <td>4.4</td>\n",
       "    </tr>\n",
       "    <tr>\n",
       "      <th>7</th>\n",
       "      <td>Microsoft</td>\n",
       "      <td>30d+</td>\n",
       "      <td>3.0</td>\n",
       "    </tr>\n",
       "    <tr>\n",
       "      <th>8</th>\n",
       "      <td>Salasar New Age Technologies</td>\n",
       "      <td>30d+</td>\n",
       "      <td>3.0</td>\n",
       "    </tr>\n",
       "    <tr>\n",
       "      <th>9</th>\n",
       "      <td>Ohmyhome</td>\n",
       "      <td>7d</td>\n",
       "      <td>3.9</td>\n",
       "    </tr>\n",
       "  </tbody>\n",
       "</table>\n",
       "</div>"
      ],
      "text/plain": [
       "                   Company Name No of days posted Ratings\n",
       "0                         Adobe               15d     4.4\n",
       "1                Biz2Credit Inc              30d+     3.8\n",
       "2                    MasterCard                2d     4.2\n",
       "3                       Asquero               10d     5.0\n",
       "4                           JLL               24h     4.0\n",
       "5               Dürr Somac GmbH              30d+     3.8\n",
       "6                       WishFin              30d+     4.4\n",
       "7                     Microsoft              30d+     3.0\n",
       "8  Salasar New Age Technologies              30d+     3.0\n",
       "9                      Ohmyhome                7d     3.9"
      ]
     },
     "execution_count": 43,
     "metadata": {},
     "output_type": "execute_result"
    }
   ],
   "source": [
    "naukri"
   ]
  },
  {
   "cell_type": "markdown",
   "metadata": {},
   "source": [
    "# Q5: Write a python program to scrape the salary data for Data Scientist designation in Noida location."
   ]
  },
  {
   "cell_type": "markdown",
   "metadata": {},
   "source": [
    "You have to scrape Company name, Number of salaries, Average salary, Min salary, Max Salary.\n",
    "The above task will be, done as shown in the below steps:\n",
    "1. first get the webpage https://www.glassdoor.co.in/Salaries/index.htm\n",
    "2. Enter “Data Scientist” in Job title field and “Noida” in location field.\n",
    "3. Click the search button.\n",
    "4. Scrape data for first 10 companies. Scrape the min salary, max salary, company name, Average salary and rating of the company.\n",
    "5. Store the data in a dataframe."
   ]
  },
  {
   "cell_type": "code",
   "execution_count": 44,
   "metadata": {},
   "outputs": [],
   "source": [
    "#Connecting to web driver\n",
    "driver = webdriver.Chrome(r\"C://chromedriver.exe\")"
   ]
  },
  {
   "cell_type": "code",
   "execution_count": 45,
   "metadata": {},
   "outputs": [],
   "source": [
    "driver.get(\"https://www.glassdoor.co.in/Salaries/index.htm\")"
   ]
  },
  {
   "cell_type": "code",
   "execution_count": 49,
   "metadata": {},
   "outputs": [],
   "source": [
    "search_job = driver.find_element_by_xpath(\"//input[@class='keyword']\")"
   ]
  },
  {
   "cell_type": "code",
   "execution_count": 50,
   "metadata": {},
   "outputs": [],
   "source": [
    "search_job.send_keys(\"Data Scientist\")"
   ]
  },
  {
   "cell_type": "code",
   "execution_count": 51,
   "metadata": {},
   "outputs": [],
   "source": [
    "search_loc = driver.find_element_by_xpath(\"//input[@class='loc'][1]\")"
   ]
  },
  {
   "cell_type": "code",
   "execution_count": 52,
   "metadata": {},
   "outputs": [],
   "source": [
    "search_loc.send_keys(\"Noida\")"
   ]
  },
  {
   "cell_type": "code",
   "execution_count": 53,
   "metadata": {},
   "outputs": [],
   "source": [
    "search_btn=driver.find_element_by_xpath(\"//button[@class='gd-btn-mkt']\")\n",
    "search_btn.click()"
   ]
  },
  {
   "cell_type": "code",
   "execution_count": 54,
   "metadata": {},
   "outputs": [],
   "source": [
    "url = \"https://www.glassdoor.co.in/Salaries/new-delhi-data-scientist-salary-SRCH_IL.0,9_IM1083_KO10,24.htm?clickSource=searchBtn\""
   ]
  },
  {
   "cell_type": "code",
   "execution_count": 57,
   "metadata": {},
   "outputs": [],
   "source": [
    "driver.get(url)"
   ]
  },
  {
   "cell_type": "code",
   "execution_count": 68,
   "metadata": {},
   "outputs": [],
   "source": [
    "comp_name = []\n",
    "salary = []\n",
    "avg_sal = []\n",
    "min_sal = []\n",
    "max_sal = []"
   ]
  },
  {
   "cell_type": "code",
   "execution_count": 66,
   "metadata": {},
   "outputs": [
    {
     "data": {
      "text/plain": [
       "[<selenium.webdriver.remote.webelement.WebElement (session=\"8d569c2c8c0d6c3d7fcf3f04cec3f7fd\", element=\"dc97dee9-7138-4574-b2db-4dd199ef5a6f\")>,\n",
       " <selenium.webdriver.remote.webelement.WebElement (session=\"8d569c2c8c0d6c3d7fcf3f04cec3f7fd\", element=\"1b01fa7e-0a90-4ee0-bd72-f99acb7ea83a\")>,\n",
       " <selenium.webdriver.remote.webelement.WebElement (session=\"8d569c2c8c0d6c3d7fcf3f04cec3f7fd\", element=\"0fca250b-b2dc-4530-ae86-90aeb22dfdfe\")>,\n",
       " <selenium.webdriver.remote.webelement.WebElement (session=\"8d569c2c8c0d6c3d7fcf3f04cec3f7fd\", element=\"963f8520-cb37-43e2-8bd9-5fdc05af19ab\")>]"
      ]
     },
     "execution_count": 66,
     "metadata": {},
     "output_type": "execute_result"
    }
   ],
   "source": [
    "#Extracting company name\n",
    "c_n = driver.find_elements_by_xpath(\"//div[@data-test='job-info']/p[2]\")\n",
    "c_n[0:4]"
   ]
  },
  {
   "cell_type": "code",
   "execution_count": 69,
   "metadata": {},
   "outputs": [
    {
     "data": {
      "text/plain": [
       "['Tata Consultancy Services', 'Accenture', 'Delhivery', 'IBM']"
      ]
     },
     "execution_count": 69,
     "metadata": {},
     "output_type": "execute_result"
    }
   ],
   "source": [
    "for i in c_n:\n",
    "    names = i.text\n",
    "    comp_name.append(names)\n",
    "comp_name[0:4]"
   ]
  },
  {
   "cell_type": "code",
   "execution_count": 70,
   "metadata": {},
   "outputs": [
    {
     "data": {
      "text/plain": [
       "[<selenium.webdriver.remote.webelement.WebElement (session=\"8d569c2c8c0d6c3d7fcf3f04cec3f7fd\", element=\"908531e3-bbfa-4997-b574-8e7e82de7aee\")>,\n",
       " <selenium.webdriver.remote.webelement.WebElement (session=\"8d569c2c8c0d6c3d7fcf3f04cec3f7fd\", element=\"384d7343-f167-452e-8fa2-f3d33ade9ad0\")>,\n",
       " <selenium.webdriver.remote.webelement.WebElement (session=\"8d569c2c8c0d6c3d7fcf3f04cec3f7fd\", element=\"a7108371-4719-4def-bb59-3b80d17f6fd4\")>,\n",
       " <selenium.webdriver.remote.webelement.WebElement (session=\"8d569c2c8c0d6c3d7fcf3f04cec3f7fd\", element=\"013d1ed7-5980-4129-a27f-0459e7c0962d\")>]"
      ]
     },
     "execution_count": 70,
     "metadata": {},
     "output_type": "execute_result"
    }
   ],
   "source": [
    "#Extracting no of salary\n",
    "s_ = driver.find_elements_by_xpath(\"//p[@class='css-1uyte9r css-1kuy7z7 m-0 ']\")\n",
    "s_[0:4]"
   ]
  },
  {
   "cell_type": "code",
   "execution_count": 71,
   "metadata": {},
   "outputs": [
    {
     "data": {
      "text/plain": [
       "['14 salaries', '14 salaries', '14 salaries', '13 salaries']"
      ]
     },
     "execution_count": 71,
     "metadata": {},
     "output_type": "execute_result"
    }
   ],
   "source": [
    "for i in s_:\n",
    "    nsal = i.text\n",
    "    salary.append(nsal)\n",
    "salary[0:4]"
   ]
  },
  {
   "cell_type": "code",
   "execution_count": 72,
   "metadata": {},
   "outputs": [
    {
     "data": {
      "text/plain": [
       "[<selenium.webdriver.remote.webelement.WebElement (session=\"8d569c2c8c0d6c3d7fcf3f04cec3f7fd\", element=\"b536106c-6fa2-45f9-bc18-540c0efa20f2\")>,\n",
       " <selenium.webdriver.remote.webelement.WebElement (session=\"8d569c2c8c0d6c3d7fcf3f04cec3f7fd\", element=\"805d4d48-1ad4-4122-8b21-bd0ff9f1c625\")>,\n",
       " <selenium.webdriver.remote.webelement.WebElement (session=\"8d569c2c8c0d6c3d7fcf3f04cec3f7fd\", element=\"5169e270-6019-431f-822b-34d9553ee074\")>,\n",
       " <selenium.webdriver.remote.webelement.WebElement (session=\"8d569c2c8c0d6c3d7fcf3f04cec3f7fd\", element=\"659d8c52-caba-47e7-93a1-9bcb680a47d2\")>]"
      ]
     },
     "execution_count": 72,
     "metadata": {},
     "output_type": "execute_result"
    }
   ],
   "source": [
    "#Extracting average salary\n",
    "a_s = driver.find_elements_by_xpath(\"//div[@class='col-2 d-none d-md-flex flex-row justify-content-end']\")\n",
    "a_s[0:4]"
   ]
  },
  {
   "cell_type": "code",
   "execution_count": 73,
   "metadata": {},
   "outputs": [
    {
     "data": {
      "text/plain": [
       "['₹ 5,97,967\\n/yr', '₹ 11,12,243\\n/yr', '₹ 12,12,741\\n/yr', '₹ 7,37,972\\n/yr']"
      ]
     },
     "execution_count": 73,
     "metadata": {},
     "output_type": "execute_result"
    }
   ],
   "source": [
    "for i in a_s:\n",
    "    asal = i.text\n",
    "    avg_sal.append(asal)\n",
    "avg_sal[0:4]"
   ]
  },
  {
   "cell_type": "code",
   "execution_count": 77,
   "metadata": {},
   "outputs": [
    {
     "data": {
      "text/plain": [
       "[<selenium.webdriver.remote.webelement.WebElement (session=\"8d569c2c8c0d6c3d7fcf3f04cec3f7fd\", element=\"8cafbdb1-cbe9-41ea-b0ee-7ab3fdb1ac7b\")>,\n",
       " <selenium.webdriver.remote.webelement.WebElement (session=\"8d569c2c8c0d6c3d7fcf3f04cec3f7fd\", element=\"54ad946f-5b94-4566-b7a6-fe04fd6b6b55\")>,\n",
       " <selenium.webdriver.remote.webelement.WebElement (session=\"8d569c2c8c0d6c3d7fcf3f04cec3f7fd\", element=\"051476bd-1c3f-434f-a7a8-a2cebd71d1ef\")>,\n",
       " <selenium.webdriver.remote.webelement.WebElement (session=\"8d569c2c8c0d6c3d7fcf3f04cec3f7fd\", element=\"37f1c5cf-e2da-4a4f-917f-4cbfd2a64787\")>]"
      ]
     },
     "execution_count": 77,
     "metadata": {},
     "output_type": "execute_result"
    }
   ],
   "source": [
    "#Extracting minimum salary\n",
    "mi_s = driver.find_elements_by_xpath(\"//div[@class='common__RangeBarStyle__values d-flex justify-content-between ']/span[1]\")\n",
    "mi_s[0:4]"
   ]
  },
  {
   "cell_type": "code",
   "execution_count": 78,
   "metadata": {},
   "outputs": [
    {
     "data": {
      "text/plain": [
       "['₹333K', '₹560K', '₹436K', '₹569K']"
      ]
     },
     "execution_count": 78,
     "metadata": {},
     "output_type": "execute_result"
    }
   ],
   "source": [
    "for i in mi_s:\n",
    "    misal = i.text\n",
    "    min_sal.append(misal)\n",
    "min_sal[0:4]"
   ]
  },
  {
   "cell_type": "code",
   "execution_count": 79,
   "metadata": {},
   "outputs": [
    {
     "data": {
      "text/plain": [
       "[<selenium.webdriver.remote.webelement.WebElement (session=\"8d569c2c8c0d6c3d7fcf3f04cec3f7fd\", element=\"7f1d17e4-cdd4-4827-8e0f-cdc8f480e96f\")>,\n",
       " <selenium.webdriver.remote.webelement.WebElement (session=\"8d569c2c8c0d6c3d7fcf3f04cec3f7fd\", element=\"948ac063-45cc-48a1-a285-3b2e9d674969\")>,\n",
       " <selenium.webdriver.remote.webelement.WebElement (session=\"8d569c2c8c0d6c3d7fcf3f04cec3f7fd\", element=\"36f101a9-1568-4e3f-b130-03df886b2071\")>,\n",
       " <selenium.webdriver.remote.webelement.WebElement (session=\"8d569c2c8c0d6c3d7fcf3f04cec3f7fd\", element=\"a1e1798a-9ec4-4847-a371-5f8fc309a7b4\")>]"
      ]
     },
     "execution_count": 79,
     "metadata": {},
     "output_type": "execute_result"
    }
   ],
   "source": [
    "#Extracting minimum salary\n",
    "ma_s = driver.find_elements_by_xpath(\"//div[@class='common__RangeBarStyle__values d-flex justify-content-between ']/span[2]\")\n",
    "ma_s[0:4]"
   ]
  },
  {
   "cell_type": "code",
   "execution_count": 80,
   "metadata": {},
   "outputs": [
    {
     "data": {
      "text/plain": [
       "['₹1,080K', '₹2,147K', '₹11,274K', '₹2,648K']"
      ]
     },
     "execution_count": 80,
     "metadata": {},
     "output_type": "execute_result"
    }
   ],
   "source": [
    "for i in ma_s:\n",
    "    masal = i.text\n",
    "    max_sal.append(masal)\n",
    "max_sal[0:4]"
   ]
  },
  {
   "cell_type": "code",
   "execution_count": 81,
   "metadata": {},
   "outputs": [
    {
     "name": "stdout",
     "output_type": "stream",
     "text": [
      "20 20 20 20\n"
     ]
    }
   ],
   "source": [
    "#Checking lengths of all three lists\n",
    "print(len(comp_name),len(a_s),len(mi_s),len(ma_s))"
   ]
  },
  {
   "cell_type": "code",
   "execution_count": 82,
   "metadata": {},
   "outputs": [],
   "source": [
    "#Creating and storing data in a dataframe\n",
    "gd = pd.DataFrame({})\n",
    "gd['Company Name']= comp_name[:10]\n",
    "gd['Average Salary']=avg_sal[:10]\n",
    "gd['Minimum Salary']=min_sal[:10]\n",
    "gd['Maximum Salary']=max_sal[:10]"
   ]
  },
  {
   "cell_type": "code",
   "execution_count": 83,
   "metadata": {},
   "outputs": [
    {
     "data": {
      "text/html": [
       "<div>\n",
       "<style scoped>\n",
       "    .dataframe tbody tr th:only-of-type {\n",
       "        vertical-align: middle;\n",
       "    }\n",
       "\n",
       "    .dataframe tbody tr th {\n",
       "        vertical-align: top;\n",
       "    }\n",
       "\n",
       "    .dataframe thead th {\n",
       "        text-align: right;\n",
       "    }\n",
       "</style>\n",
       "<table border=\"1\" class=\"dataframe\">\n",
       "  <thead>\n",
       "    <tr style=\"text-align: right;\">\n",
       "      <th></th>\n",
       "      <th>Company Name</th>\n",
       "      <th>Average Salary</th>\n",
       "      <th>Minimum Salary</th>\n",
       "      <th>Maximum Salary</th>\n",
       "    </tr>\n",
       "  </thead>\n",
       "  <tbody>\n",
       "    <tr>\n",
       "      <th>0</th>\n",
       "      <td>Tata Consultancy Services</td>\n",
       "      <td>₹ 5,97,967\\n/yr</td>\n",
       "      <td>₹333K</td>\n",
       "      <td>₹1,080K</td>\n",
       "    </tr>\n",
       "    <tr>\n",
       "      <th>1</th>\n",
       "      <td>Accenture</td>\n",
       "      <td>₹ 11,12,243\\n/yr</td>\n",
       "      <td>₹560K</td>\n",
       "      <td>₹2,147K</td>\n",
       "    </tr>\n",
       "    <tr>\n",
       "      <th>2</th>\n",
       "      <td>Delhivery</td>\n",
       "      <td>₹ 12,12,741\\n/yr</td>\n",
       "      <td>₹436K</td>\n",
       "      <td>₹11,274K</td>\n",
       "    </tr>\n",
       "    <tr>\n",
       "      <th>3</th>\n",
       "      <td>IBM</td>\n",
       "      <td>₹ 7,37,972\\n/yr</td>\n",
       "      <td>₹569K</td>\n",
       "      <td>₹2,648K</td>\n",
       "    </tr>\n",
       "    <tr>\n",
       "      <th>4</th>\n",
       "      <td>Ericsson-Worldwide</td>\n",
       "      <td>₹ 7,15,984\\n/yr</td>\n",
       "      <td>₹350K</td>\n",
       "      <td>₹1,565K</td>\n",
       "    </tr>\n",
       "    <tr>\n",
       "      <th>5</th>\n",
       "      <td>UnitedHealth Group</td>\n",
       "      <td>₹ 13,41,900\\n/yr</td>\n",
       "      <td>₹1,037K</td>\n",
       "      <td>₹1,500K</td>\n",
       "    </tr>\n",
       "    <tr>\n",
       "      <th>6</th>\n",
       "      <td>Valiance Solutions</td>\n",
       "      <td>₹ 7,90,812\\n/yr</td>\n",
       "      <td>₹487K</td>\n",
       "      <td>₹1,421K</td>\n",
       "    </tr>\n",
       "    <tr>\n",
       "      <th>7</th>\n",
       "      <td>Innovaccer</td>\n",
       "      <td>₹ 11,81,047\\n/yr</td>\n",
       "      <td>₹602K</td>\n",
       "      <td>₹1,644K</td>\n",
       "    </tr>\n",
       "    <tr>\n",
       "      <th>8</th>\n",
       "      <td>ZS Associates</td>\n",
       "      <td>₹ 9,89,924\\n/yr</td>\n",
       "      <td>₹196K</td>\n",
       "      <td>₹1,755K</td>\n",
       "    </tr>\n",
       "    <tr>\n",
       "      <th>9</th>\n",
       "      <td>EXL Service</td>\n",
       "      <td>₹ 11,73,127\\n/yr</td>\n",
       "      <td>₹558K</td>\n",
       "      <td>₹1,500K</td>\n",
       "    </tr>\n",
       "  </tbody>\n",
       "</table>\n",
       "</div>"
      ],
      "text/plain": [
       "                Company Name    Average Salary Minimum Salary Maximum Salary\n",
       "0  Tata Consultancy Services   ₹ 5,97,967\\n/yr          ₹333K        ₹1,080K\n",
       "1                  Accenture  ₹ 11,12,243\\n/yr          ₹560K        ₹2,147K\n",
       "2                  Delhivery  ₹ 12,12,741\\n/yr          ₹436K       ₹11,274K\n",
       "3                        IBM   ₹ 7,37,972\\n/yr          ₹569K        ₹2,648K\n",
       "4         Ericsson-Worldwide   ₹ 7,15,984\\n/yr          ₹350K        ₹1,565K\n",
       "5         UnitedHealth Group  ₹ 13,41,900\\n/yr        ₹1,037K        ₹1,500K\n",
       "6         Valiance Solutions   ₹ 7,90,812\\n/yr          ₹487K        ₹1,421K\n",
       "7                 Innovaccer  ₹ 11,81,047\\n/yr          ₹602K        ₹1,644K\n",
       "8              ZS Associates   ₹ 9,89,924\\n/yr          ₹196K        ₹1,755K\n",
       "9                EXL Service  ₹ 11,73,127\\n/yr          ₹558K        ₹1,500K"
      ]
     },
     "execution_count": 83,
     "metadata": {},
     "output_type": "execute_result"
    }
   ],
   "source": [
    "gd"
   ]
  },
  {
   "cell_type": "markdown",
   "metadata": {},
   "source": [
    "# Q6 : Scrape data of first 100 sunglasses listings on flipkart.com. You have to scrape four attributes : Brand, Product Description, Price, Discount %\n"
   ]
  },
  {
   "cell_type": "markdown",
   "metadata": {},
   "source": [
    "To scrape the data you have to go through following steps:\n",
    "1. Go to flipkart webpage by url https://www.flipkart.com/\n",
    "2. Enter “sunglasses” in the search field where “search for products, brands and more” is written and click the search icon\n",
    "3. after that you will reach to a webpage having a lot of sunglasses. From this page you can scrap the required data as usual.\n",
    "4. after scraping data from the first page, go to the “Next” Button at the bottom of the page , then click on it\n",
    "5. Now scrape data from this page as usual\n",
    "6. repeat this until you get data for 100 sunglasses."
   ]
  },
  {
   "cell_type": "code",
   "execution_count": 67,
   "metadata": {},
   "outputs": [],
   "source": [
    "driver.get('https://www.flipkart.com/')"
   ]
  },
  {
   "cell_type": "code",
   "execution_count": 68,
   "metadata": {},
   "outputs": [],
   "source": [
    "search_sun=driver.find_element_by_xpath(\"//input[@type='text']\")"
   ]
  },
  {
   "cell_type": "code",
   "execution_count": 69,
   "metadata": {},
   "outputs": [],
   "source": [
    "search_sun.send_keys(\"Sunglasses\")"
   ]
  },
  {
   "cell_type": "code",
   "execution_count": 70,
   "metadata": {},
   "outputs": [],
   "source": [
    "search_btn = driver.find_element_by_xpath(\"//button[@type='submit']\")\n",
    "search_btn.click()"
   ]
  },
  {
   "cell_type": "code",
   "execution_count": 71,
   "metadata": {},
   "outputs": [],
   "source": [
    "#URL for 1st 40 entries\n",
    "url = \"https://www.flipkart.com/search?q=Sunglasses&otracker=search&otracker1=search&marketplace=FLIPKART&as-show=on&as=off&page=1\""
   ]
  },
  {
   "cell_type": "code",
   "execution_count": 72,
   "metadata": {},
   "outputs": [],
   "source": [
    "driver.get(url)"
   ]
  },
  {
   "cell_type": "code",
   "execution_count": 73,
   "metadata": {},
   "outputs": [],
   "source": [
    "brand = []\n",
    "desc = []\n",
    "price =[]\n",
    "disc = []"
   ]
  },
  {
   "cell_type": "code",
   "execution_count": 74,
   "metadata": {},
   "outputs": [
    {
     "data": {
      "text/plain": [
       "[<selenium.webdriver.remote.webelement.WebElement (session=\"6929d4c8dde64b5cb6914c435aad8a32\", element=\"c257f373-cf36-481a-8e2f-381ea3636955\")>,\n",
       " <selenium.webdriver.remote.webelement.WebElement (session=\"6929d4c8dde64b5cb6914c435aad8a32\", element=\"cad00406-9ba4-43ef-b34f-8b56aeb8bf43\")>,\n",
       " <selenium.webdriver.remote.webelement.WebElement (session=\"6929d4c8dde64b5cb6914c435aad8a32\", element=\"5dc58577-c936-41f1-9aae-66b02bf4d8f5\")>,\n",
       " <selenium.webdriver.remote.webelement.WebElement (session=\"6929d4c8dde64b5cb6914c435aad8a32\", element=\"730906ff-55ee-4309-b841-0dd6af3d25fe\")>]"
      ]
     },
     "execution_count": 74,
     "metadata": {},
     "output_type": "execute_result"
    }
   ],
   "source": [
    "#Fetching brand 1-40\n",
    "b_t = driver.find_elements_by_xpath(\"//div[@class='_2WkVRV']\")\n",
    "b_t[0:4]"
   ]
  },
  {
   "cell_type": "code",
   "execution_count": 75,
   "metadata": {},
   "outputs": [
    {
     "data": {
      "text/plain": [
       "['ROZZETTA CRAFT', 'PIRASO', 'Aislin', 'FARENHEIT']"
      ]
     },
     "execution_count": 75,
     "metadata": {},
     "output_type": "execute_result"
    }
   ],
   "source": [
    "for i in b_t:\n",
    "    bra = i.text\n",
    "    brand.append(bra)\n",
    "brand[0:4]"
   ]
  },
  {
   "cell_type": "code",
   "execution_count": 76,
   "metadata": {},
   "outputs": [
    {
     "data": {
      "text/plain": [
       "[<selenium.webdriver.remote.webelement.WebElement (session=\"6929d4c8dde64b5cb6914c435aad8a32\", element=\"2e41f72e-c9f8-4f6d-8df9-7a7b038cbe1b\")>,\n",
       " <selenium.webdriver.remote.webelement.WebElement (session=\"6929d4c8dde64b5cb6914c435aad8a32\", element=\"cca6c732-4091-468d-8975-bed8c0118641\")>,\n",
       " <selenium.webdriver.remote.webelement.WebElement (session=\"6929d4c8dde64b5cb6914c435aad8a32\", element=\"e9bb1e4b-616d-490e-9ab5-5d23431e1731\")>,\n",
       " <selenium.webdriver.remote.webelement.WebElement (session=\"6929d4c8dde64b5cb6914c435aad8a32\", element=\"502a42de-b9e7-4db1-92bd-91e741971d31\")>]"
      ]
     },
     "execution_count": 76,
     "metadata": {},
     "output_type": "execute_result"
    }
   ],
   "source": [
    "#Fetching description 1-40\n",
    "d_t = driver.find_elements_by_xpath(\"//a[@class='IRpwTa']\")\n",
    "d_t[0:4]"
   ]
  },
  {
   "cell_type": "code",
   "execution_count": 77,
   "metadata": {},
   "outputs": [
    {
     "data": {
      "text/plain": [
       "['UV Protection, Gradient Retro Square Sunglasses (62)',\n",
       " 'UV Protection Aviator Sunglasses (Free Size)',\n",
       " 'UV Protection, Gradient Cat-eye Sunglasses (59)',\n",
       " 'Polarized, UV Protection Wrap-around Sunglasses (64)']"
      ]
     },
     "execution_count": 77,
     "metadata": {},
     "output_type": "execute_result"
    }
   ],
   "source": [
    "for i in d_t:\n",
    "    des = i.text\n",
    "    desc.append(des)\n",
    "desc[0:4]"
   ]
  },
  {
   "cell_type": "code",
   "execution_count": 78,
   "metadata": {},
   "outputs": [
    {
     "data": {
      "text/plain": [
       "[<selenium.webdriver.remote.webelement.WebElement (session=\"6929d4c8dde64b5cb6914c435aad8a32\", element=\"14bb954c-d4ff-41d8-8fe8-2b12746747a8\")>,\n",
       " <selenium.webdriver.remote.webelement.WebElement (session=\"6929d4c8dde64b5cb6914c435aad8a32\", element=\"46f24db0-36b9-4dbf-9d6b-fb00340be4ab\")>,\n",
       " <selenium.webdriver.remote.webelement.WebElement (session=\"6929d4c8dde64b5cb6914c435aad8a32\", element=\"76d8e059-2c15-4392-b490-d63f08616da6\")>,\n",
       " <selenium.webdriver.remote.webelement.WebElement (session=\"6929d4c8dde64b5cb6914c435aad8a32\", element=\"946a7ec0-00d8-4dca-bc6e-092777bf711f\")>]"
      ]
     },
     "execution_count": 78,
     "metadata": {},
     "output_type": "execute_result"
    }
   ],
   "source": [
    "#Fetching price 1-40\n",
    "p_t = driver.find_elements_by_xpath(\"//div[@class='_30jeq3']\")\n",
    "p_t[0:4]"
   ]
  },
  {
   "cell_type": "code",
   "execution_count": 79,
   "metadata": {},
   "outputs": [
    {
     "data": {
      "text/plain": [
       "['₹499', '₹349', '₹785', '₹599']"
      ]
     },
     "execution_count": 79,
     "metadata": {},
     "output_type": "execute_result"
    }
   ],
   "source": [
    "for i in p_t:\n",
    "    pri = i.text\n",
    "    price.append(pri)\n",
    "price[0:4]"
   ]
  },
  {
   "cell_type": "code",
   "execution_count": 80,
   "metadata": {},
   "outputs": [
    {
     "data": {
      "text/plain": [
       "[<selenium.webdriver.remote.webelement.WebElement (session=\"6929d4c8dde64b5cb6914c435aad8a32\", element=\"93019a40-0252-4286-90da-fc161ce074d8\")>,\n",
       " <selenium.webdriver.remote.webelement.WebElement (session=\"6929d4c8dde64b5cb6914c435aad8a32\", element=\"27e84735-2c35-4a9f-921e-7dd1853c1f21\")>,\n",
       " <selenium.webdriver.remote.webelement.WebElement (session=\"6929d4c8dde64b5cb6914c435aad8a32\", element=\"4696db64-318f-48c0-ba88-1b1d92a37c01\")>,\n",
       " <selenium.webdriver.remote.webelement.WebElement (session=\"6929d4c8dde64b5cb6914c435aad8a32\", element=\"80c660f2-4138-4bce-9f40-cacc8e05e611\")>]"
      ]
     },
     "execution_count": 80,
     "metadata": {},
     "output_type": "execute_result"
    }
   ],
   "source": [
    "#Fetching discount 1-40\n",
    "di_t = driver.find_elements_by_xpath(\"//div[@class='_3Ay6Sb']/span[1]\")\n",
    "di_t[0:4]"
   ]
  },
  {
   "cell_type": "code",
   "execution_count": 81,
   "metadata": {},
   "outputs": [
    {
     "data": {
      "text/plain": [
       "['75% off', '78% off', '75% off', '82% off']"
      ]
     },
     "execution_count": 81,
     "metadata": {},
     "output_type": "execute_result"
    }
   ],
   "source": [
    "for i in di_t:\n",
    "    dis = i.text\n",
    "    disc.append(dis)\n",
    "disc[0:4]"
   ]
  },
  {
   "cell_type": "code",
   "execution_count": 82,
   "metadata": {},
   "outputs": [],
   "source": [
    "search_btn1 = driver.find_element_by_xpath(\"//a[@class='_1LKTO3']/span[1]\")\n",
    "search_btn1.click()"
   ]
  },
  {
   "cell_type": "code",
   "execution_count": 83,
   "metadata": {},
   "outputs": [],
   "source": [
    "#URL for 40-80 entries\n",
    "url = \"https://www.flipkart.com/search?q=Sunglasses&otracker=search&otracker1=search&marketplace=FLIPKART&as-show=on&as=off&page=2\""
   ]
  },
  {
   "cell_type": "code",
   "execution_count": 84,
   "metadata": {},
   "outputs": [],
   "source": [
    "driver.get(url)"
   ]
  },
  {
   "cell_type": "code",
   "execution_count": 85,
   "metadata": {},
   "outputs": [
    {
     "data": {
      "text/plain": [
       "[<selenium.webdriver.remote.webelement.WebElement (session=\"6929d4c8dde64b5cb6914c435aad8a32\", element=\"5c4c352b-d2a1-426e-bb5a-83363e9b697e\")>,\n",
       " <selenium.webdriver.remote.webelement.WebElement (session=\"6929d4c8dde64b5cb6914c435aad8a32\", element=\"4a517fd6-3141-4ea4-a45a-ec10dfab1917\")>,\n",
       " <selenium.webdriver.remote.webelement.WebElement (session=\"6929d4c8dde64b5cb6914c435aad8a32\", element=\"430f06bb-3d53-4a71-88ea-5c97d8ee3659\")>,\n",
       " <selenium.webdriver.remote.webelement.WebElement (session=\"6929d4c8dde64b5cb6914c435aad8a32\", element=\"ac350f6f-1c1e-43ca-a7ab-ca16aab2159a\")>]"
      ]
     },
     "execution_count": 85,
     "metadata": {},
     "output_type": "execute_result"
    }
   ],
   "source": [
    "#Fetching brand 40-80\n",
    "b_t = driver.find_elements_by_xpath(\"//div[@class='_2WkVRV']\")\n",
    "b_t[0:4]"
   ]
  },
  {
   "cell_type": "code",
   "execution_count": 86,
   "metadata": {},
   "outputs": [
    {
     "data": {
      "text/plain": [
       "['DANIEL KLEIN', 'jaknap', 'BAJERO', 'ADRENEX']"
      ]
     },
     "execution_count": 86,
     "metadata": {},
     "output_type": "execute_result"
    }
   ],
   "source": [
    "for i in b_t:\n",
    "    bra = i.text\n",
    "    brand.append(bra)\n",
    "brand[40:44]"
   ]
  },
  {
   "cell_type": "code",
   "execution_count": 87,
   "metadata": {},
   "outputs": [
    {
     "data": {
      "text/plain": [
       "[<selenium.webdriver.remote.webelement.WebElement (session=\"6929d4c8dde64b5cb6914c435aad8a32\", element=\"911caee4-8b68-4140-8a0c-85b3fe816fa0\")>,\n",
       " <selenium.webdriver.remote.webelement.WebElement (session=\"6929d4c8dde64b5cb6914c435aad8a32\", element=\"b552fd1a-a29d-4694-8777-4caae795c539\")>,\n",
       " <selenium.webdriver.remote.webelement.WebElement (session=\"6929d4c8dde64b5cb6914c435aad8a32\", element=\"76a12e7c-9c3c-4377-84bd-77f113878264\")>,\n",
       " <selenium.webdriver.remote.webelement.WebElement (session=\"6929d4c8dde64b5cb6914c435aad8a32\", element=\"0e1a0898-877d-4dcc-bec1-55705b0abdc6\")>]"
      ]
     },
     "execution_count": 87,
     "metadata": {},
     "output_type": "execute_result"
    }
   ],
   "source": [
    "#Fetching description 40-80\n",
    "d_t = driver.find_elements_by_xpath(\"//a[@class='IRpwTa']\")\n",
    "d_t[0:4]"
   ]
  },
  {
   "cell_type": "code",
   "execution_count": 88,
   "metadata": {},
   "outputs": [
    {
     "data": {
      "text/plain": [
       "['UV Protection Retro Square Sunglasses (Free Size)',\n",
       " 'UV Protection Retro Square Sunglasses (Free Size)',\n",
       " 'UV Protection Aviator Sunglasses (54)']"
      ]
     },
     "execution_count": 88,
     "metadata": {},
     "output_type": "execute_result"
    }
   ],
   "source": [
    "for i in d_t:\n",
    "    des = i.text\n",
    "    desc.append(des)\n",
    "desc[40:44]"
   ]
  },
  {
   "cell_type": "code",
   "execution_count": 89,
   "metadata": {},
   "outputs": [
    {
     "data": {
      "text/plain": [
       "[<selenium.webdriver.remote.webelement.WebElement (session=\"6929d4c8dde64b5cb6914c435aad8a32\", element=\"3060405b-3cb8-489a-9e70-7781b3deaf6d\")>,\n",
       " <selenium.webdriver.remote.webelement.WebElement (session=\"6929d4c8dde64b5cb6914c435aad8a32\", element=\"80e0bbaf-f933-4789-a6f6-1d7e1e07f1f5\")>,\n",
       " <selenium.webdriver.remote.webelement.WebElement (session=\"6929d4c8dde64b5cb6914c435aad8a32\", element=\"ca92d7c6-c125-45a1-8722-9dbfc919f732\")>,\n",
       " <selenium.webdriver.remote.webelement.WebElement (session=\"6929d4c8dde64b5cb6914c435aad8a32\", element=\"080a41b7-c28d-4694-988b-7bc0339d662a\")>]"
      ]
     },
     "execution_count": 89,
     "metadata": {},
     "output_type": "execute_result"
    }
   ],
   "source": [
    "#Fetching price 40-80\n",
    "p_t = driver.find_elements_by_xpath(\"//div[@class='_30jeq3']\")\n",
    "p_t[0:4]"
   ]
  },
  {
   "cell_type": "code",
   "execution_count": 90,
   "metadata": {},
   "outputs": [
    {
     "data": {
      "text/plain": [
       "['₹1,185', '₹249', '₹1,299', '₹699']"
      ]
     },
     "execution_count": 90,
     "metadata": {},
     "output_type": "execute_result"
    }
   ],
   "source": [
    "for i in p_t:\n",
    "    pri = i.text\n",
    "    price.append(pri)\n",
    "price[40:44]"
   ]
  },
  {
   "cell_type": "code",
   "execution_count": 91,
   "metadata": {},
   "outputs": [
    {
     "data": {
      "text/plain": [
       "[<selenium.webdriver.remote.webelement.WebElement (session=\"6929d4c8dde64b5cb6914c435aad8a32\", element=\"cfd8e389-c5e6-456a-a91b-c0ab4f9412c2\")>,\n",
       " <selenium.webdriver.remote.webelement.WebElement (session=\"6929d4c8dde64b5cb6914c435aad8a32\", element=\"5fe3b9f9-cf7e-4775-9f85-a998acba70ea\")>,\n",
       " <selenium.webdriver.remote.webelement.WebElement (session=\"6929d4c8dde64b5cb6914c435aad8a32\", element=\"b48768b0-7092-4b45-914a-ca9f9641d770\")>,\n",
       " <selenium.webdriver.remote.webelement.WebElement (session=\"6929d4c8dde64b5cb6914c435aad8a32\", element=\"51957799-bc13-43ea-b0e7-ea2fcf8a4607\")>]"
      ]
     },
     "execution_count": 91,
     "metadata": {},
     "output_type": "execute_result"
    }
   ],
   "source": [
    "#Fetching discount 40-80\n",
    "di_t = driver.find_elements_by_xpath(\"//div[@class='_3Ay6Sb']/span[1]\")\n",
    "di_t[0:4]"
   ]
  },
  {
   "cell_type": "code",
   "execution_count": 92,
   "metadata": {},
   "outputs": [
    {
     "data": {
      "text/plain": [
       "['75% off', '50% off', '76% off', '66% off']"
      ]
     },
     "execution_count": 92,
     "metadata": {},
     "output_type": "execute_result"
    }
   ],
   "source": [
    "for i in di_t:\n",
    "    dis = i.text\n",
    "    disc.append(dis)\n",
    "disc[40:44]"
   ]
  },
  {
   "cell_type": "code",
   "execution_count": 94,
   "metadata": {},
   "outputs": [],
   "source": [
    "#URL for 80-120 entries\n",
    "url = \"https://www.flipkart.com/search?q=Sunglasses&otracker=search&otracker1=search&marketplace=FLIPKART&as-show=on&as=off&page=3\""
   ]
  },
  {
   "cell_type": "code",
   "execution_count": 95,
   "metadata": {},
   "outputs": [],
   "source": [
    "driver.get(url)"
   ]
  },
  {
   "cell_type": "code",
   "execution_count": 96,
   "metadata": {},
   "outputs": [
    {
     "data": {
      "text/plain": [
       "[<selenium.webdriver.remote.webelement.WebElement (session=\"6929d4c8dde64b5cb6914c435aad8a32\", element=\"d4d13763-72f8-437e-8564-0ced08fd52ba\")>,\n",
       " <selenium.webdriver.remote.webelement.WebElement (session=\"6929d4c8dde64b5cb6914c435aad8a32\", element=\"9dab94c3-7d27-4715-8c5c-21f113c17637\")>,\n",
       " <selenium.webdriver.remote.webelement.WebElement (session=\"6929d4c8dde64b5cb6914c435aad8a32\", element=\"950bb80a-cbd2-4dd1-bb89-4320dabb1e78\")>,\n",
       " <selenium.webdriver.remote.webelement.WebElement (session=\"6929d4c8dde64b5cb6914c435aad8a32\", element=\"535340ca-5fd1-43f0-84aa-735172d7da82\")>]"
      ]
     },
     "execution_count": 96,
     "metadata": {},
     "output_type": "execute_result"
    }
   ],
   "source": [
    "#Fetching brand 80-120\n",
    "b_t = driver.find_elements_by_xpath(\"//div[@class='_2WkVRV']\")\n",
    "b_t[0:4]"
   ]
  },
  {
   "cell_type": "code",
   "execution_count": 97,
   "metadata": {},
   "outputs": [
    {
     "data": {
      "text/plain": [
       "['FARENHEIT', 'DANIEL KLEIN', 'BAJERO', 'ROZZETTA CRAFT']"
      ]
     },
     "execution_count": 97,
     "metadata": {},
     "output_type": "execute_result"
    }
   ],
   "source": [
    "for i in b_t:\n",
    "    bra = i.text\n",
    "    brand.append(bra)\n",
    "brand[80:84]"
   ]
  },
  {
   "cell_type": "code",
   "execution_count": 98,
   "metadata": {},
   "outputs": [
    {
     "data": {
      "text/plain": [
       "[<selenium.webdriver.remote.webelement.WebElement (session=\"6929d4c8dde64b5cb6914c435aad8a32\", element=\"88623074-c104-41b2-8ab8-426a082ba092\")>,\n",
       " <selenium.webdriver.remote.webelement.WebElement (session=\"6929d4c8dde64b5cb6914c435aad8a32\", element=\"8857c79d-cfa5-42cc-8117-02dcaf363116\")>,\n",
       " <selenium.webdriver.remote.webelement.WebElement (session=\"6929d4c8dde64b5cb6914c435aad8a32\", element=\"019b9430-43b3-4d20-8083-df45bbc4f428\")>,\n",
       " <selenium.webdriver.remote.webelement.WebElement (session=\"6929d4c8dde64b5cb6914c435aad8a32\", element=\"97d837b4-6a88-48e3-804f-0e649b4b8252\")>]"
      ]
     },
     "execution_count": 98,
     "metadata": {},
     "output_type": "execute_result"
    }
   ],
   "source": [
    "#Fetching description 80-120\n",
    "d_t = driver.find_elements_by_xpath(\"//a[@class='IRpwTa']\")\n",
    "d_t[0:4]"
   ]
  },
  {
   "cell_type": "code",
   "execution_count": 99,
   "metadata": {},
   "outputs": [
    {
     "data": {
      "text/plain": [
       "[]"
      ]
     },
     "execution_count": 99,
     "metadata": {},
     "output_type": "execute_result"
    }
   ],
   "source": [
    "for i in d_t:\n",
    "    des = i.text\n",
    "    desc.append(des)\n",
    "desc[80:84]"
   ]
  },
  {
   "cell_type": "code",
   "execution_count": 100,
   "metadata": {},
   "outputs": [
    {
     "data": {
      "text/plain": [
       "[<selenium.webdriver.remote.webelement.WebElement (session=\"6929d4c8dde64b5cb6914c435aad8a32\", element=\"24b88204-1961-47c6-96b8-4f33a0f53c77\")>,\n",
       " <selenium.webdriver.remote.webelement.WebElement (session=\"6929d4c8dde64b5cb6914c435aad8a32\", element=\"a864ab2c-e617-4a1d-a9c1-0348f85a13bf\")>,\n",
       " <selenium.webdriver.remote.webelement.WebElement (session=\"6929d4c8dde64b5cb6914c435aad8a32\", element=\"f9ff2ab5-2078-4842-93e9-3e2b94348a6e\")>,\n",
       " <selenium.webdriver.remote.webelement.WebElement (session=\"6929d4c8dde64b5cb6914c435aad8a32\", element=\"dde7b309-b749-4650-8627-540c01e44f38\")>]"
      ]
     },
     "execution_count": 100,
     "metadata": {},
     "output_type": "execute_result"
    }
   ],
   "source": [
    "#Fetching price 80-120\n",
    "p_t = driver.find_elements_by_xpath(\"//div[@class='_30jeq3']\")\n",
    "p_t[0:4]"
   ]
  },
  {
   "cell_type": "code",
   "execution_count": 101,
   "metadata": {},
   "outputs": [
    {
     "data": {
      "text/plain": [
       "['₹599', '₹1,306', '₹1,299', '₹499']"
      ]
     },
     "execution_count": 101,
     "metadata": {},
     "output_type": "execute_result"
    }
   ],
   "source": [
    "for i in p_t:\n",
    "    pri = i.text\n",
    "    price.append(pri)\n",
    "price[80:84]"
   ]
  },
  {
   "cell_type": "code",
   "execution_count": 102,
   "metadata": {},
   "outputs": [
    {
     "data": {
      "text/plain": [
       "[<selenium.webdriver.remote.webelement.WebElement (session=\"6929d4c8dde64b5cb6914c435aad8a32\", element=\"cb8c618b-9f57-45da-a8ee-804cfb557b56\")>,\n",
       " <selenium.webdriver.remote.webelement.WebElement (session=\"6929d4c8dde64b5cb6914c435aad8a32\", element=\"fa7a349f-df55-49b3-a9a4-f2804b4c6f6c\")>,\n",
       " <selenium.webdriver.remote.webelement.WebElement (session=\"6929d4c8dde64b5cb6914c435aad8a32\", element=\"2bcd3ec3-549c-4b88-bbd2-376ff61951ba\")>,\n",
       " <selenium.webdriver.remote.webelement.WebElement (session=\"6929d4c8dde64b5cb6914c435aad8a32\", element=\"5994dadf-ff37-437a-aef6-0d367f4c8666\")>]"
      ]
     },
     "execution_count": 102,
     "metadata": {},
     "output_type": "execute_result"
    }
   ],
   "source": [
    "#Fetching discount 80-120\n",
    "di_t = driver.find_elements_by_xpath(\"//div[@class='_3Ay6Sb']/span[1]\")\n",
    "di_t[0:4]"
   ]
  },
  {
   "cell_type": "code",
   "execution_count": 103,
   "metadata": {},
   "outputs": [
    {
     "data": {
      "text/plain": [
       "['75% off', '81% off', '41% off', '78% off']"
      ]
     },
     "execution_count": 103,
     "metadata": {},
     "output_type": "execute_result"
    }
   ],
   "source": [
    "for i in di_t:\n",
    "    dis = i.text\n",
    "    disc.append(dis)\n",
    "disc[80:84]"
   ]
  },
  {
   "cell_type": "code",
   "execution_count": 104,
   "metadata": {},
   "outputs": [
    {
     "name": "stdout",
     "output_type": "stream",
     "text": [
      "120 63 120 117\n"
     ]
    }
   ],
   "source": [
    "print(len(brand),len(desc),len(price),len(disc))"
   ]
  },
  {
   "cell_type": "code",
   "execution_count": 108,
   "metadata": {},
   "outputs": [],
   "source": [
    "sunglasses=pd.DataFrame({})\n",
    "sunglasses['Brand']=brand[:60]\n",
    "sunglasses['Product_Description']=desc[:60]\n",
    "sunglasses['Price']=price[:60]\n",
    "sunglasses['Discount']=disc[:60]"
   ]
  },
  {
   "cell_type": "code",
   "execution_count": 109,
   "metadata": {},
   "outputs": [
    {
     "data": {
      "text/html": [
       "<div>\n",
       "<style scoped>\n",
       "    .dataframe tbody tr th:only-of-type {\n",
       "        vertical-align: middle;\n",
       "    }\n",
       "\n",
       "    .dataframe tbody tr th {\n",
       "        vertical-align: top;\n",
       "    }\n",
       "\n",
       "    .dataframe thead th {\n",
       "        text-align: right;\n",
       "    }\n",
       "</style>\n",
       "<table border=\"1\" class=\"dataframe\">\n",
       "  <thead>\n",
       "    <tr style=\"text-align: right;\">\n",
       "      <th></th>\n",
       "      <th>Brand</th>\n",
       "      <th>Product_Description</th>\n",
       "      <th>Price</th>\n",
       "      <th>Discount</th>\n",
       "    </tr>\n",
       "  </thead>\n",
       "  <tbody>\n",
       "    <tr>\n",
       "      <th>0</th>\n",
       "      <td>ROZZETTA CRAFT</td>\n",
       "      <td>UV Protection, Gradient Retro Square Sunglasse...</td>\n",
       "      <td>₹499</td>\n",
       "      <td>75% off</td>\n",
       "    </tr>\n",
       "    <tr>\n",
       "      <th>1</th>\n",
       "      <td>PIRASO</td>\n",
       "      <td>UV Protection Aviator Sunglasses (Free Size)</td>\n",
       "      <td>₹349</td>\n",
       "      <td>78% off</td>\n",
       "    </tr>\n",
       "    <tr>\n",
       "      <th>2</th>\n",
       "      <td>Aislin</td>\n",
       "      <td>UV Protection, Gradient Cat-eye Sunglasses (59)</td>\n",
       "      <td>₹785</td>\n",
       "      <td>75% off</td>\n",
       "    </tr>\n",
       "    <tr>\n",
       "      <th>3</th>\n",
       "      <td>FARENHEIT</td>\n",
       "      <td>Polarized, UV Protection Wrap-around Sunglasse...</td>\n",
       "      <td>₹599</td>\n",
       "      <td>82% off</td>\n",
       "    </tr>\n",
       "    <tr>\n",
       "      <th>4</th>\n",
       "      <td>Gio Collection</td>\n",
       "      <td>UV Protection Cat-eye Sunglasses (Free Size)</td>\n",
       "      <td>₹1,645</td>\n",
       "      <td>50% off</td>\n",
       "    </tr>\n",
       "    <tr>\n",
       "      <th>5</th>\n",
       "      <td>GIORDANO</td>\n",
       "      <td>UV Protection Aviator Sunglasses (Free Size)</td>\n",
       "      <td>₹2,495</td>\n",
       "      <td>50% off</td>\n",
       "    </tr>\n",
       "    <tr>\n",
       "      <th>6</th>\n",
       "      <td>Resist</td>\n",
       "      <td>UV Protection Spectacle Sunglasses (54)</td>\n",
       "      <td>₹999</td>\n",
       "      <td>50% off</td>\n",
       "    </tr>\n",
       "    <tr>\n",
       "      <th>7</th>\n",
       "      <td>DANIEL KLEIN</td>\n",
       "      <td>UV Protection Butterfly Sunglasses (55)</td>\n",
       "      <td>₹1,306</td>\n",
       "      <td>40% off</td>\n",
       "    </tr>\n",
       "    <tr>\n",
       "      <th>8</th>\n",
       "      <td>BAJERO</td>\n",
       "      <td>UV Protection Butterfly Sunglasses (Free Size)</td>\n",
       "      <td>₹999</td>\n",
       "      <td>85% off</td>\n",
       "    </tr>\n",
       "    <tr>\n",
       "      <th>9</th>\n",
       "      <td>OCnik</td>\n",
       "      <td>UV Protection Wayfarer Sunglasses (Free Size)</td>\n",
       "      <td>₹269</td>\n",
       "      <td>73% off</td>\n",
       "    </tr>\n",
       "    <tr>\n",
       "      <th>10</th>\n",
       "      <td>Rim &amp; Co.</td>\n",
       "      <td>UV Protection Rectangular Sunglasses (Free Size)</td>\n",
       "      <td>₹699</td>\n",
       "      <td>53% off</td>\n",
       "    </tr>\n",
       "    <tr>\n",
       "      <th>11</th>\n",
       "      <td>GENEVE</td>\n",
       "      <td>UV Protection Aviator Sunglasses (Free Size)</td>\n",
       "      <td>₹449</td>\n",
       "      <td>55% off</td>\n",
       "    </tr>\n",
       "    <tr>\n",
       "      <th>12</th>\n",
       "      <td>I-GOG</td>\n",
       "      <td>UV Protection Retro Square Sunglasses (Free Size)</td>\n",
       "      <td>₹1,650</td>\n",
       "      <td>86% off</td>\n",
       "    </tr>\n",
       "    <tr>\n",
       "      <th>13</th>\n",
       "      <td>PIRASO</td>\n",
       "      <td>UV Protection Rectangular Sunglasses (16)</td>\n",
       "      <td>₹209</td>\n",
       "      <td>30% off</td>\n",
       "    </tr>\n",
       "    <tr>\n",
       "      <th>14</th>\n",
       "      <td>Invu</td>\n",
       "      <td>UV Protection Aviator Sunglasses (54)</td>\n",
       "      <td>₹2,169</td>\n",
       "      <td>40% off</td>\n",
       "    </tr>\n",
       "    <tr>\n",
       "      <th>15</th>\n",
       "      <td>Double Battery</td>\n",
       "      <td>UV Protection Butterfly Sunglasses (60)</td>\n",
       "      <td>₹479</td>\n",
       "      <td>81% off</td>\n",
       "    </tr>\n",
       "    <tr>\n",
       "      <th>16</th>\n",
       "      <td>Irayz</td>\n",
       "      <td>UV Protection Rectangular Sunglasses (55)</td>\n",
       "      <td>₹189</td>\n",
       "      <td>83% off</td>\n",
       "    </tr>\n",
       "    <tr>\n",
       "      <th>17</th>\n",
       "      <td>Perazzi</td>\n",
       "      <td>Gradient Retro Square Sunglasses (66)</td>\n",
       "      <td>₹199</td>\n",
       "      <td>5% off</td>\n",
       "    </tr>\n",
       "    <tr>\n",
       "      <th>18</th>\n",
       "      <td>Fastrack</td>\n",
       "      <td>Polarized Retro Square Sunglasses (52)</td>\n",
       "      <td>₹759</td>\n",
       "      <td>81% off</td>\n",
       "    </tr>\n",
       "    <tr>\n",
       "      <th>19</th>\n",
       "      <td>PIRASO</td>\n",
       "      <td>Mirrored Retro Square Sunglasses (53)</td>\n",
       "      <td>₹299</td>\n",
       "      <td>85% off</td>\n",
       "    </tr>\n",
       "    <tr>\n",
       "      <th>20</th>\n",
       "      <td>Dannilo</td>\n",
       "      <td>Polarized, UV Protection Sports, Wrap-around S...</td>\n",
       "      <td>₹220</td>\n",
       "      <td>84% off</td>\n",
       "    </tr>\n",
       "    <tr>\n",
       "      <th>21</th>\n",
       "      <td>Marc Jones</td>\n",
       "      <td>UV Protection Oval Sunglasses (57)</td>\n",
       "      <td>₹189</td>\n",
       "      <td>80% off</td>\n",
       "    </tr>\n",
       "    <tr>\n",
       "      <th>22</th>\n",
       "      <td>xevidence</td>\n",
       "      <td>UV Protection Cat-eye Sunglasses (58)</td>\n",
       "      <td>₹293</td>\n",
       "      <td>86% off</td>\n",
       "    </tr>\n",
       "    <tr>\n",
       "      <th>23</th>\n",
       "      <td>PIRASO</td>\n",
       "      <td>UV Protection Over-sized Sunglasses (59)</td>\n",
       "      <td>₹359</td>\n",
       "      <td>64% off</td>\n",
       "    </tr>\n",
       "    <tr>\n",
       "      <th>24</th>\n",
       "      <td>SP</td>\n",
       "      <td>UV Protection Aviator Sunglasses (58)</td>\n",
       "      <td>₹269</td>\n",
       "      <td>70% off</td>\n",
       "    </tr>\n",
       "    <tr>\n",
       "      <th>25</th>\n",
       "      <td>GENXTRA</td>\n",
       "      <td>UV Protection, Gradient Retro Square Sunglasse...</td>\n",
       "      <td>₹149</td>\n",
       "      <td>9% off</td>\n",
       "    </tr>\n",
       "    <tr>\n",
       "      <th>26</th>\n",
       "      <td>Ray-Ban</td>\n",
       "      <td>UV Protection Retro Square Sunglasses (Free Size)</td>\n",
       "      <td>₹15,895</td>\n",
       "      <td>58% off</td>\n",
       "    </tr>\n",
       "    <tr>\n",
       "      <th>27</th>\n",
       "      <td>OWO</td>\n",
       "      <td>UV Protection Aviator Sunglasses (Free Size)</td>\n",
       "      <td>₹249</td>\n",
       "      <td>78% off</td>\n",
       "    </tr>\n",
       "    <tr>\n",
       "      <th>28</th>\n",
       "      <td>VAST</td>\n",
       "      <td>UV Protection Retro Square Sunglasses (58)</td>\n",
       "      <td>₹655</td>\n",
       "      <td>85% off</td>\n",
       "    </tr>\n",
       "    <tr>\n",
       "      <th>29</th>\n",
       "      <td>PIRASO</td>\n",
       "      <td>Gradient Cat-eye Sunglasses (Free Size)</td>\n",
       "      <td>₹225</td>\n",
       "      <td>37% off</td>\n",
       "    </tr>\n",
       "    <tr>\n",
       "      <th>30</th>\n",
       "      <td>Shade House</td>\n",
       "      <td>UV Protection Retro Square Sunglasses (Free Size)</td>\n",
       "      <td>₹249</td>\n",
       "      <td>15% off</td>\n",
       "    </tr>\n",
       "    <tr>\n",
       "      <th>31</th>\n",
       "      <td>POLAROID</td>\n",
       "      <td>Others Round Sunglasses (Free Size)</td>\n",
       "      <td>₹3,060</td>\n",
       "      <td>80% off</td>\n",
       "    </tr>\n",
       "    <tr>\n",
       "      <th>32</th>\n",
       "      <td>GB Fashion Sunglasses</td>\n",
       "      <td>UV Protection Butterfly Sunglasses (55)</td>\n",
       "      <td>₹789</td>\n",
       "      <td>86% off</td>\n",
       "    </tr>\n",
       "    <tr>\n",
       "      <th>33</th>\n",
       "      <td>PIRASO</td>\n",
       "      <td>UV Protection Aviator Sunglasses (56)</td>\n",
       "      <td>₹359</td>\n",
       "      <td>81% off</td>\n",
       "    </tr>\n",
       "    <tr>\n",
       "      <th>34</th>\n",
       "      <td>CHORIOTIS</td>\n",
       "      <td>Aviator Sunglasses (55)</td>\n",
       "      <td>₹1,299</td>\n",
       "      <td>50% off</td>\n",
       "    </tr>\n",
       "    <tr>\n",
       "      <th>35</th>\n",
       "      <td>fashion sunglasses</td>\n",
       "      <td>UV Protection Retro Square Sunglasses (Free Size)</td>\n",
       "      <td>₹999</td>\n",
       "      <td>80% off</td>\n",
       "    </tr>\n",
       "    <tr>\n",
       "      <th>36</th>\n",
       "      <td>TOUCH OF FINE</td>\n",
       "      <td>UV Protection Retro Square Sunglasses (Free Size)</td>\n",
       "      <td>₹195</td>\n",
       "      <td>75% off</td>\n",
       "    </tr>\n",
       "    <tr>\n",
       "      <th>37</th>\n",
       "      <td>jaknap</td>\n",
       "      <td>UV Protection Retro Square Sunglasses (Free Size)</td>\n",
       "      <td>₹249</td>\n",
       "      <td>58% off</td>\n",
       "    </tr>\n",
       "    <tr>\n",
       "      <th>38</th>\n",
       "      <td>VOYAGE</td>\n",
       "      <td>UV Protection Wayfarer Sunglasses (Free Size)</td>\n",
       "      <td>₹750</td>\n",
       "      <td>60% off</td>\n",
       "    </tr>\n",
       "    <tr>\n",
       "      <th>39</th>\n",
       "      <td>ROYAL SON</td>\n",
       "      <td>UV Protection Over-sized Sunglasses (60)</td>\n",
       "      <td>₹599</td>\n",
       "      <td>40% off</td>\n",
       "    </tr>\n",
       "    <tr>\n",
       "      <th>40</th>\n",
       "      <td>DANIEL KLEIN</td>\n",
       "      <td>UV Protection Retro Square Sunglasses (Free Size)</td>\n",
       "      <td>₹1,185</td>\n",
       "      <td>75% off</td>\n",
       "    </tr>\n",
       "    <tr>\n",
       "      <th>41</th>\n",
       "      <td>jaknap</td>\n",
       "      <td>UV Protection Retro Square Sunglasses (Free Size)</td>\n",
       "      <td>₹249</td>\n",
       "      <td>50% off</td>\n",
       "    </tr>\n",
       "    <tr>\n",
       "      <th>42</th>\n",
       "      <td>BAJERO</td>\n",
       "      <td>UV Protection Aviator Sunglasses (54)</td>\n",
       "      <td>₹1,299</td>\n",
       "      <td>76% off</td>\n",
       "    </tr>\n",
       "    <tr>\n",
       "      <th>43</th>\n",
       "      <td>ADRENEX</td>\n",
       "      <td>UV Protection, Gradient Oval Sunglasses (60)</td>\n",
       "      <td>₹699</td>\n",
       "      <td>66% off</td>\n",
       "    </tr>\n",
       "    <tr>\n",
       "      <th>44</th>\n",
       "      <td>VOYAGE</td>\n",
       "      <td>UV Protection Aviator Sunglasses (Free Size)</td>\n",
       "      <td>₹499</td>\n",
       "      <td>60% off</td>\n",
       "    </tr>\n",
       "    <tr>\n",
       "      <th>45</th>\n",
       "      <td>Resist</td>\n",
       "      <td>UV Protection, Gradient Retro Square Sunglasse...</td>\n",
       "      <td>₹999</td>\n",
       "      <td>70% off</td>\n",
       "    </tr>\n",
       "    <tr>\n",
       "      <th>46</th>\n",
       "      <td>Aislin</td>\n",
       "      <td>UV Protection Oval Sunglasses (59)</td>\n",
       "      <td>₹732</td>\n",
       "      <td>78% off</td>\n",
       "    </tr>\n",
       "    <tr>\n",
       "      <th>47</th>\n",
       "      <td>FARENHEIT</td>\n",
       "      <td>Mirrored Retro Square Sunglasses (Free Size)</td>\n",
       "      <td>₹549</td>\n",
       "      <td>50% off</td>\n",
       "    </tr>\n",
       "    <tr>\n",
       "      <th>48</th>\n",
       "      <td>Gio Collection</td>\n",
       "      <td>UV Protection Aviator Sunglasses (Free Size)</td>\n",
       "      <td>₹1,995</td>\n",
       "      <td>75% off</td>\n",
       "    </tr>\n",
       "    <tr>\n",
       "      <th>49</th>\n",
       "      <td>ROZZETTA CRAFT</td>\n",
       "      <td>UV Protection Aviator Sunglasses (Free Size)</td>\n",
       "      <td>₹499</td>\n",
       "      <td>30% off</td>\n",
       "    </tr>\n",
       "    <tr>\n",
       "      <th>50</th>\n",
       "      <td>Invu</td>\n",
       "      <td>UV Protection Retro Square Sunglasses (Free Size)</td>\n",
       "      <td>₹2,169</td>\n",
       "      <td>10% off</td>\n",
       "    </tr>\n",
       "    <tr>\n",
       "      <th>51</th>\n",
       "      <td>Ray-Ban</td>\n",
       "      <td>UV Protection Wayfarer Sunglasses (55)</td>\n",
       "      <td>₹6,381</td>\n",
       "      <td>81% off</td>\n",
       "    </tr>\n",
       "    <tr>\n",
       "      <th>52</th>\n",
       "      <td>CHORIOTIS</td>\n",
       "      <td>UV Protection Retro Square Sunglasses (58)</td>\n",
       "      <td>₹1,299</td>\n",
       "      <td>78% off</td>\n",
       "    </tr>\n",
       "    <tr>\n",
       "      <th>53</th>\n",
       "      <td>PIRASO</td>\n",
       "      <td>UV Protection Retro Square Sunglasses (58)</td>\n",
       "      <td>₹349</td>\n",
       "      <td>66% off</td>\n",
       "    </tr>\n",
       "    <tr>\n",
       "      <th>54</th>\n",
       "      <td>jaknap</td>\n",
       "      <td>UV Protection Rectangular Sunglasses (Free Size)</td>\n",
       "      <td>₹249</td>\n",
       "      <td>50% off</td>\n",
       "    </tr>\n",
       "    <tr>\n",
       "      <th>55</th>\n",
       "      <td>BAJERO</td>\n",
       "      <td>UV Protection Aviator Sunglasses (Free Size)</td>\n",
       "      <td>₹1,299</td>\n",
       "      <td>40% off</td>\n",
       "    </tr>\n",
       "    <tr>\n",
       "      <th>56</th>\n",
       "      <td>DANIEL KLEIN</td>\n",
       "      <td>Polarized Retro Square Sunglasses (Free Size)</td>\n",
       "      <td>₹1,004</td>\n",
       "      <td>60% off</td>\n",
       "    </tr>\n",
       "    <tr>\n",
       "      <th>57</th>\n",
       "      <td>Resist</td>\n",
       "      <td>UV Protection Retro Square Sunglasses (Free Size)</td>\n",
       "      <td>₹999</td>\n",
       "      <td>85% off</td>\n",
       "    </tr>\n",
       "    <tr>\n",
       "      <th>58</th>\n",
       "      <td>FARENHEIT</td>\n",
       "      <td>UV Protection, Gradient Retro Square Sunglasse...</td>\n",
       "      <td>₹449</td>\n",
       "      <td>80% off</td>\n",
       "    </tr>\n",
       "    <tr>\n",
       "      <th>59</th>\n",
       "      <td>ROZZETTA CRAFT</td>\n",
       "      <td>UV Protection Retro Square Sunglasses (58)</td>\n",
       "      <td>₹499</td>\n",
       "      <td>81% off</td>\n",
       "    </tr>\n",
       "  </tbody>\n",
       "</table>\n",
       "</div>"
      ],
      "text/plain": [
       "                    Brand                                Product_Description  \\\n",
       "0          ROZZETTA CRAFT  UV Protection, Gradient Retro Square Sunglasse...   \n",
       "1                  PIRASO       UV Protection Aviator Sunglasses (Free Size)   \n",
       "2                  Aislin    UV Protection, Gradient Cat-eye Sunglasses (59)   \n",
       "3               FARENHEIT  Polarized, UV Protection Wrap-around Sunglasse...   \n",
       "4          Gio Collection       UV Protection Cat-eye Sunglasses (Free Size)   \n",
       "5                GIORDANO       UV Protection Aviator Sunglasses (Free Size)   \n",
       "6                  Resist            UV Protection Spectacle Sunglasses (54)   \n",
       "7            DANIEL KLEIN            UV Protection Butterfly Sunglasses (55)   \n",
       "8                  BAJERO     UV Protection Butterfly Sunglasses (Free Size)   \n",
       "9                   OCnik      UV Protection Wayfarer Sunglasses (Free Size)   \n",
       "10              Rim & Co.   UV Protection Rectangular Sunglasses (Free Size)   \n",
       "11                 GENEVE       UV Protection Aviator Sunglasses (Free Size)   \n",
       "12                  I-GOG  UV Protection Retro Square Sunglasses (Free Size)   \n",
       "13                 PIRASO          UV Protection Rectangular Sunglasses (16)   \n",
       "14                   Invu              UV Protection Aviator Sunglasses (54)   \n",
       "15         Double Battery            UV Protection Butterfly Sunglasses (60)   \n",
       "16                  Irayz          UV Protection Rectangular Sunglasses (55)   \n",
       "17                Perazzi              Gradient Retro Square Sunglasses (66)   \n",
       "18               Fastrack             Polarized Retro Square Sunglasses (52)   \n",
       "19                 PIRASO              Mirrored Retro Square Sunglasses (53)   \n",
       "20                Dannilo  Polarized, UV Protection Sports, Wrap-around S...   \n",
       "21             Marc Jones                 UV Protection Oval Sunglasses (57)   \n",
       "22              xevidence              UV Protection Cat-eye Sunglasses (58)   \n",
       "23                 PIRASO           UV Protection Over-sized Sunglasses (59)   \n",
       "24                     SP              UV Protection Aviator Sunglasses (58)   \n",
       "25                GENXTRA  UV Protection, Gradient Retro Square Sunglasse...   \n",
       "26                Ray-Ban  UV Protection Retro Square Sunglasses (Free Size)   \n",
       "27                    OWO       UV Protection Aviator Sunglasses (Free Size)   \n",
       "28                   VAST         UV Protection Retro Square Sunglasses (58)   \n",
       "29                 PIRASO            Gradient Cat-eye Sunglasses (Free Size)   \n",
       "30            Shade House  UV Protection Retro Square Sunglasses (Free Size)   \n",
       "31               POLAROID                Others Round Sunglasses (Free Size)   \n",
       "32  GB Fashion Sunglasses            UV Protection Butterfly Sunglasses (55)   \n",
       "33                 PIRASO              UV Protection Aviator Sunglasses (56)   \n",
       "34              CHORIOTIS                            Aviator Sunglasses (55)   \n",
       "35     fashion sunglasses  UV Protection Retro Square Sunglasses (Free Size)   \n",
       "36          TOUCH OF FINE  UV Protection Retro Square Sunglasses (Free Size)   \n",
       "37                 jaknap  UV Protection Retro Square Sunglasses (Free Size)   \n",
       "38                 VOYAGE      UV Protection Wayfarer Sunglasses (Free Size)   \n",
       "39              ROYAL SON           UV Protection Over-sized Sunglasses (60)   \n",
       "40           DANIEL KLEIN  UV Protection Retro Square Sunglasses (Free Size)   \n",
       "41                 jaknap  UV Protection Retro Square Sunglasses (Free Size)   \n",
       "42                 BAJERO              UV Protection Aviator Sunglasses (54)   \n",
       "43                ADRENEX       UV Protection, Gradient Oval Sunglasses (60)   \n",
       "44                 VOYAGE       UV Protection Aviator Sunglasses (Free Size)   \n",
       "45                 Resist  UV Protection, Gradient Retro Square Sunglasse...   \n",
       "46                 Aislin                 UV Protection Oval Sunglasses (59)   \n",
       "47              FARENHEIT       Mirrored Retro Square Sunglasses (Free Size)   \n",
       "48         Gio Collection       UV Protection Aviator Sunglasses (Free Size)   \n",
       "49         ROZZETTA CRAFT       UV Protection Aviator Sunglasses (Free Size)   \n",
       "50                   Invu  UV Protection Retro Square Sunglasses (Free Size)   \n",
       "51                Ray-Ban             UV Protection Wayfarer Sunglasses (55)   \n",
       "52              CHORIOTIS         UV Protection Retro Square Sunglasses (58)   \n",
       "53                 PIRASO         UV Protection Retro Square Sunglasses (58)   \n",
       "54                 jaknap   UV Protection Rectangular Sunglasses (Free Size)   \n",
       "55                 BAJERO       UV Protection Aviator Sunglasses (Free Size)   \n",
       "56           DANIEL KLEIN      Polarized Retro Square Sunglasses (Free Size)   \n",
       "57                 Resist  UV Protection Retro Square Sunglasses (Free Size)   \n",
       "58              FARENHEIT  UV Protection, Gradient Retro Square Sunglasse...   \n",
       "59         ROZZETTA CRAFT         UV Protection Retro Square Sunglasses (58)   \n",
       "\n",
       "      Price Discount  \n",
       "0      ₹499  75% off  \n",
       "1      ₹349  78% off  \n",
       "2      ₹785  75% off  \n",
       "3      ₹599  82% off  \n",
       "4    ₹1,645  50% off  \n",
       "5    ₹2,495  50% off  \n",
       "6      ₹999  50% off  \n",
       "7    ₹1,306  40% off  \n",
       "8      ₹999  85% off  \n",
       "9      ₹269  73% off  \n",
       "10     ₹699  53% off  \n",
       "11     ₹449  55% off  \n",
       "12   ₹1,650  86% off  \n",
       "13     ₹209  30% off  \n",
       "14   ₹2,169  40% off  \n",
       "15     ₹479  81% off  \n",
       "16     ₹189  83% off  \n",
       "17     ₹199   5% off  \n",
       "18     ₹759  81% off  \n",
       "19     ₹299  85% off  \n",
       "20     ₹220  84% off  \n",
       "21     ₹189  80% off  \n",
       "22     ₹293  86% off  \n",
       "23     ₹359  64% off  \n",
       "24     ₹269  70% off  \n",
       "25     ₹149   9% off  \n",
       "26  ₹15,895  58% off  \n",
       "27     ₹249  78% off  \n",
       "28     ₹655  85% off  \n",
       "29     ₹225  37% off  \n",
       "30     ₹249  15% off  \n",
       "31   ₹3,060  80% off  \n",
       "32     ₹789  86% off  \n",
       "33     ₹359  81% off  \n",
       "34   ₹1,299  50% off  \n",
       "35     ₹999  80% off  \n",
       "36     ₹195  75% off  \n",
       "37     ₹249  58% off  \n",
       "38     ₹750  60% off  \n",
       "39     ₹599  40% off  \n",
       "40   ₹1,185  75% off  \n",
       "41     ₹249  50% off  \n",
       "42   ₹1,299  76% off  \n",
       "43     ₹699  66% off  \n",
       "44     ₹499  60% off  \n",
       "45     ₹999  70% off  \n",
       "46     ₹732  78% off  \n",
       "47     ₹549  50% off  \n",
       "48   ₹1,995  75% off  \n",
       "49     ₹499  30% off  \n",
       "50   ₹2,169  10% off  \n",
       "51   ₹6,381  81% off  \n",
       "52   ₹1,299  78% off  \n",
       "53     ₹349  66% off  \n",
       "54     ₹249  50% off  \n",
       "55   ₹1,299  40% off  \n",
       "56   ₹1,004  60% off  \n",
       "57     ₹999  85% off  \n",
       "58     ₹449  80% off  \n",
       "59     ₹499  81% off  "
      ]
     },
     "execution_count": 109,
     "metadata": {},
     "output_type": "execute_result"
    }
   ],
   "source": [
    "sunglasses"
   ]
  },
  {
   "cell_type": "markdown",
   "metadata": {},
   "source": [
    "# Q7: Scrape 100 reviews data from flipkart.com for iphone11 phone. You have to go the link: https://www.flipkart.com/apple-iphone-11-black-64-gb-includesearpods-poweradapter/p/itm0f37c2240b217?pid=MOBFKCTSVZAXUHGR&lid=LSTMOBFKCTSVZAXUHGREPBFGI&marketplace."
   ]
  },
  {
   "cell_type": "markdown",
   "metadata": {},
   "source": [
    "As shown in the above page you have to scrape the tick marked attributes.\n",
    "These are: \n",
    "1. Rating\n",
    "2. Review_summary\n",
    "3. Full review\n",
    "- You have to scrape this data for first 100 reviews."
   ]
  },
  {
   "cell_type": "code",
   "execution_count": 110,
   "metadata": {},
   "outputs": [],
   "source": [
    "#Connecting to web driver\n",
    "driver = webdriver.Chrome(r\"C://chromedriver.exe\")"
   ]
  },
  {
   "cell_type": "code",
   "execution_count": 112,
   "metadata": {},
   "outputs": [],
   "source": [
    "driver.get(\" https://www.flipkart.com/apple-iphone-11-black-64-gb-includesearpods-poweradapter/p/itm0f37c2240b217?pid=MOBFKCTSVZAXUHGR&lid=LSTMOBFKCTSVZAXUHGREPBFGI&marketplace\")"
   ]
  },
  {
   "cell_type": "code",
   "execution_count": 113,
   "metadata": {},
   "outputs": [],
   "source": [
    "r_t=driver.find_element_by_xpath(\"//div[@class='_3UAT2v _16PBlm']/span\")\n",
    "r_t.click()"
   ]
  },
  {
   "cell_type": "code",
   "execution_count": 115,
   "metadata": {},
   "outputs": [],
   "source": [
    "rat=[]\n",
    "rev=[]\n",
    "f_rev=[]"
   ]
  },
  {
   "cell_type": "code",
   "execution_count": 116,
   "metadata": {},
   "outputs": [],
   "source": [
    "url= 'https://www.flipkart.com/apple-iphone-11-black-64-gb-includes-earpods-power-adapter/product-reviews/itm0f37c2240b217?pid=MOBFKCTSVZAXUHGR&lid=LSTMOBFKCTSVZAXUHGREPBFGI&marketplace=FLIPKART'"
   ]
  },
  {
   "cell_type": "code",
   "execution_count": 117,
   "metadata": {},
   "outputs": [],
   "source": [
    "f_p=0\n",
    "l_p=1\n",
    "urls = []\n",
    "for page in range(f_p,l_p+1):\n",
    "    driver.get(url)\n",
    "    p_urls=driver.find_elements_by_xpath(\"//a[@class='ge-49M _2Kfbh8']|//a[@class='ge-49M']\")\n",
    "    for i in p_urls:\n",
    "        urls.append(i.get_attribute('href'))"
   ]
  },
  {
   "cell_type": "code",
   "execution_count": 118,
   "metadata": {},
   "outputs": [
    {
     "data": {
      "text/plain": [
       "['https://www.flipkart.com/apple-iphone-11-black-64-gb-includes-earpods-power-adapter/product-reviews/itm0f37c2240b217?pid=MOBFKCTSVZAXUHGR&lid=LSTMOBFKCTSVZAXUHGREPBFGI&marketplace=FLIPKART&page=1',\n",
       " 'https://www.flipkart.com/apple-iphone-11-black-64-gb-includes-earpods-power-adapter/product-reviews/itm0f37c2240b217?pid=MOBFKCTSVZAXUHGR&lid=LSTMOBFKCTSVZAXUHGREPBFGI&marketplace=FLIPKART&page=2',\n",
       " 'https://www.flipkart.com/apple-iphone-11-black-64-gb-includes-earpods-power-adapter/product-reviews/itm0f37c2240b217?pid=MOBFKCTSVZAXUHGR&lid=LSTMOBFKCTSVZAXUHGREPBFGI&marketplace=FLIPKART&page=3',\n",
       " 'https://www.flipkart.com/apple-iphone-11-black-64-gb-includes-earpods-power-adapter/product-reviews/itm0f37c2240b217?pid=MOBFKCTSVZAXUHGR&lid=LSTMOBFKCTSVZAXUHGREPBFGI&marketplace=FLIPKART&page=4',\n",
       " 'https://www.flipkart.com/apple-iphone-11-black-64-gb-includes-earpods-power-adapter/product-reviews/itm0f37c2240b217?pid=MOBFKCTSVZAXUHGR&lid=LSTMOBFKCTSVZAXUHGREPBFGI&marketplace=FLIPKART&page=5',\n",
       " 'https://www.flipkart.com/apple-iphone-11-black-64-gb-includes-earpods-power-adapter/product-reviews/itm0f37c2240b217?pid=MOBFKCTSVZAXUHGR&lid=LSTMOBFKCTSVZAXUHGREPBFGI&marketplace=FLIPKART&page=6',\n",
       " 'https://www.flipkart.com/apple-iphone-11-black-64-gb-includes-earpods-power-adapter/product-reviews/itm0f37c2240b217?pid=MOBFKCTSVZAXUHGR&lid=LSTMOBFKCTSVZAXUHGREPBFGI&marketplace=FLIPKART&page=7',\n",
       " 'https://www.flipkart.com/apple-iphone-11-black-64-gb-includes-earpods-power-adapter/product-reviews/itm0f37c2240b217?pid=MOBFKCTSVZAXUHGR&lid=LSTMOBFKCTSVZAXUHGREPBFGI&marketplace=FLIPKART&page=8',\n",
       " 'https://www.flipkart.com/apple-iphone-11-black-64-gb-includes-earpods-power-adapter/product-reviews/itm0f37c2240b217?pid=MOBFKCTSVZAXUHGR&lid=LSTMOBFKCTSVZAXUHGREPBFGI&marketplace=FLIPKART&page=9',\n",
       " 'https://www.flipkart.com/apple-iphone-11-black-64-gb-includes-earpods-power-adapter/product-reviews/itm0f37c2240b217?pid=MOBFKCTSVZAXUHGR&lid=LSTMOBFKCTSVZAXUHGREPBFGI&marketplace=FLIPKART&page=10']"
      ]
     },
     "execution_count": 118,
     "metadata": {},
     "output_type": "execute_result"
    }
   ],
   "source": [
    "urls=urls[:10]\n",
    "urls"
   ]
  },
  {
   "cell_type": "code",
   "execution_count": 120,
   "metadata": {},
   "outputs": [
    {
     "data": {
      "text/plain": [
       "['5', '5', '5', '5', '5']"
      ]
     },
     "execution_count": 120,
     "metadata": {},
     "output_type": "execute_result"
    }
   ],
   "source": [
    "for i in urls:\n",
    "        driver.get(i)\n",
    "        rating=driver.find_elements_by_xpath(\"//div[@class='_3LWZlK _1BLPMq']\")\n",
    "        for i in rating:\n",
    "            if i is not None:\n",
    "                rat.append(i.text)\n",
    "            else:\n",
    "                rat.append('-')\n",
    "                \n",
    "rat[:5]"
   ]
  },
  {
   "cell_type": "code",
   "execution_count": 121,
   "metadata": {},
   "outputs": [
    {
     "data": {
      "text/plain": [
       "['Brilliant',\n",
       " 'Perfect product!',\n",
       " 'Worth every penny',\n",
       " 'Great product',\n",
       " 'Highly recommended']"
      ]
     },
     "execution_count": 121,
     "metadata": {},
     "output_type": "execute_result"
    }
   ],
   "source": [
    "for i in urls:\n",
    "        driver.get(i)\n",
    "        review=driver.find_elements_by_xpath(\"//p[@class='_2-N8zT']\")\n",
    "        for j in review:\n",
    "            if j is not None:\n",
    "                rev.append(j.text)\n",
    "            else:\n",
    "                rev.append('-')\n",
    "                \n",
    "rev[:5]"
   ]
  },
  {
   "cell_type": "code",
   "execution_count": 122,
   "metadata": {},
   "outputs": [
    {
     "data": {
      "text/plain": [
       "['The Best Phone for the Money\\n\\nThe iPhone 11 offers superb cameras, a more durable design and excellent battery life for an affordable price.\\n\\nCompelling ultra-wide camera\\nNew Night mode is excellent\\nLong battery life',\n",
       " 'Amazing phone with great cameras and better battery which gives you the best performance. I just love the camera .',\n",
       " 'Previously I was using one plus 3t it was a great phone\\nAnd then I decided to upgrade I am stuck between Samsung s10 plus or iPhone 11\\nI have seen the specs and everything were good except the display it’s somewhere between 720-1080 and it’s not even an amoled it’s an LCD display\\nBut I decided to go with iPhone because I have never used an IOS device I have Been an android user from the past 9 years I ordered IPhone 11 (128gb) product red\\nMy experience after using 3 weeks\\n1. The delivery ...\\nREAD MORE',\n",
       " 'Amazing Powerful and Durable Gadget.\\n\\nI’m am very happy with the camera picture quality, Amazing face id unlocked in dark room, Strong battery with perfect screen size as you can carry easily in pocket. This is my third iPhone.\\n\\nI shifted from android Samsung Note series to iPhone because of the strong build quality and peace of mind for next 3-4 years.\\n\\nDon’t think to much just go for it and I suggest you to go for minimum 128gb variant or more 256gb.\\n\\nI’ve attached my puppy pics and no fi...\\nREAD MORE',\n",
       " 'iphone 11 is a very good phone to buy only if you can compromise for the display. The display on this is device is pretty good but you can get other options with better displays in this price segment.\\nIf you can survive with an HD+ LCD panel with thicker bezels and a notch up top then this is a very good phone for you.\\nCameras are awesome, battery backup excellent, great performance and a decent premium look. Good job Apple !']"
      ]
     },
     "execution_count": 122,
     "metadata": {},
     "output_type": "execute_result"
    }
   ],
   "source": [
    "for i in urls:\n",
    "        driver.get(i)\n",
    "        freview=driver.find_elements_by_xpath(\"//div[@class='t-ZTKy']\")\n",
    "        for j in freview:\n",
    "            if j is not None:\n",
    "                f_rev.append(j.text)\n",
    "            else:\n",
    "                f_rev.append('-')\n",
    "f_rev[:5]"
   ]
  },
  {
   "cell_type": "code",
   "execution_count": 123,
   "metadata": {},
   "outputs": [
    {
     "name": "stdout",
     "output_type": "stream",
     "text": [
      "89 100 100\n"
     ]
    }
   ],
   "source": [
    "print(len(rat),len(rev),len(f_rev))"
   ]
  },
  {
   "cell_type": "code",
   "execution_count": 124,
   "metadata": {},
   "outputs": [],
   "source": [
    "ipf = pd.DataFrame({})\n",
    "ipf['Rating']=rat[:89]\n",
    "ipf['Review_summary']=rev[:89]\n",
    "ipf['Full_review']=f_rev[:89]"
   ]
  },
  {
   "cell_type": "code",
   "execution_count": 125,
   "metadata": {},
   "outputs": [
    {
     "data": {
      "text/html": [
       "<div>\n",
       "<style scoped>\n",
       "    .dataframe tbody tr th:only-of-type {\n",
       "        vertical-align: middle;\n",
       "    }\n",
       "\n",
       "    .dataframe tbody tr th {\n",
       "        vertical-align: top;\n",
       "    }\n",
       "\n",
       "    .dataframe thead th {\n",
       "        text-align: right;\n",
       "    }\n",
       "</style>\n",
       "<table border=\"1\" class=\"dataframe\">\n",
       "  <thead>\n",
       "    <tr style=\"text-align: right;\">\n",
       "      <th></th>\n",
       "      <th>Rating</th>\n",
       "      <th>Review_summary</th>\n",
       "      <th>Full_review</th>\n",
       "    </tr>\n",
       "  </thead>\n",
       "  <tbody>\n",
       "    <tr>\n",
       "      <th>0</th>\n",
       "      <td>5</td>\n",
       "      <td>Brilliant</td>\n",
       "      <td>The Best Phone for the Money\\n\\nThe iPhone 11 ...</td>\n",
       "    </tr>\n",
       "    <tr>\n",
       "      <th>1</th>\n",
       "      <td>5</td>\n",
       "      <td>Perfect product!</td>\n",
       "      <td>Amazing phone with great cameras and better ba...</td>\n",
       "    </tr>\n",
       "    <tr>\n",
       "      <th>2</th>\n",
       "      <td>5</td>\n",
       "      <td>Worth every penny</td>\n",
       "      <td>Previously I was using one plus 3t it was a gr...</td>\n",
       "    </tr>\n",
       "    <tr>\n",
       "      <th>3</th>\n",
       "      <td>5</td>\n",
       "      <td>Great product</td>\n",
       "      <td>Amazing Powerful and Durable Gadget.\\n\\nI’m am...</td>\n",
       "    </tr>\n",
       "    <tr>\n",
       "      <th>4</th>\n",
       "      <td>5</td>\n",
       "      <td>Highly recommended</td>\n",
       "      <td>iphone 11 is a very good phone to buy only if ...</td>\n",
       "    </tr>\n",
       "    <tr>\n",
       "      <th>5</th>\n",
       "      <td>5</td>\n",
       "      <td>Perfect product!</td>\n",
       "      <td>It’s a must buy who is looking for an upgrade ...</td>\n",
       "    </tr>\n",
       "    <tr>\n",
       "      <th>6</th>\n",
       "      <td>5</td>\n",
       "      <td>Fabulous!</td>\n",
       "      <td>This is my first iOS phone. I am very happy wi...</td>\n",
       "    </tr>\n",
       "    <tr>\n",
       "      <th>7</th>\n",
       "      <td>5</td>\n",
       "      <td>Perfect product!</td>\n",
       "      <td>Value for money❤️❤️\\nIts awesome mobile phone ...</td>\n",
       "    </tr>\n",
       "    <tr>\n",
       "      <th>8</th>\n",
       "      <td>5</td>\n",
       "      <td>Wonderful</td>\n",
       "      <td>*Review after 10 months of usage*\\nDoesn't see...</td>\n",
       "    </tr>\n",
       "    <tr>\n",
       "      <th>9</th>\n",
       "      <td>5</td>\n",
       "      <td>Worth every penny</td>\n",
       "      <td>Best budget Iphone till date ❤️ go for it guys...</td>\n",
       "    </tr>\n",
       "  </tbody>\n",
       "</table>\n",
       "</div>"
      ],
      "text/plain": [
       "  Rating      Review_summary  \\\n",
       "0      5           Brilliant   \n",
       "1      5    Perfect product!   \n",
       "2      5   Worth every penny   \n",
       "3      5       Great product   \n",
       "4      5  Highly recommended   \n",
       "5      5    Perfect product!   \n",
       "6      5           Fabulous!   \n",
       "7      5    Perfect product!   \n",
       "8      5           Wonderful   \n",
       "9      5   Worth every penny   \n",
       "\n",
       "                                         Full_review  \n",
       "0  The Best Phone for the Money\\n\\nThe iPhone 11 ...  \n",
       "1  Amazing phone with great cameras and better ba...  \n",
       "2  Previously I was using one plus 3t it was a gr...  \n",
       "3  Amazing Powerful and Durable Gadget.\\n\\nI’m am...  \n",
       "4  iphone 11 is a very good phone to buy only if ...  \n",
       "5  It’s a must buy who is looking for an upgrade ...  \n",
       "6  This is my first iOS phone. I am very happy wi...  \n",
       "7  Value for money❤️❤️\\nIts awesome mobile phone ...  \n",
       "8  *Review after 10 months of usage*\\nDoesn't see...  \n",
       "9  Best budget Iphone till date ❤️ go for it guys...  "
      ]
     },
     "execution_count": 125,
     "metadata": {},
     "output_type": "execute_result"
    }
   ],
   "source": [
    "ipf.head(10)"
   ]
  },
  {
   "cell_type": "markdown",
   "metadata": {},
   "source": [
    "# Q8: Scrape data for first 100 sneakers you find when you visit flipkart.com and search for “sneakers” in the search field."
   ]
  },
  {
   "cell_type": "markdown",
   "metadata": {},
   "source": [
    "You have to scrape 4 attributes of each sneaker :\n",
    "1. Brand\n",
    "2. Product Description\n",
    "3. Price\n",
    "4. discount %"
   ]
  },
  {
   "cell_type": "code",
   "execution_count": 144,
   "metadata": {},
   "outputs": [],
   "source": [
    "#Connecting to web driver\n",
    "driver = webdriver.Chrome(r\"C://chromedriver.exe\")"
   ]
  },
  {
   "cell_type": "code",
   "execution_count": 145,
   "metadata": {},
   "outputs": [],
   "source": [
    "driver.get('https://www.flipkart.com/')"
   ]
  },
  {
   "cell_type": "code",
   "execution_count": 146,
   "metadata": {},
   "outputs": [],
   "source": [
    "search_sne=driver.find_element_by_xpath(\"//input[@type='text']\")"
   ]
  },
  {
   "cell_type": "code",
   "execution_count": 147,
   "metadata": {},
   "outputs": [],
   "source": [
    "search_sne.send_keys(\"Sneakers\")"
   ]
  },
  {
   "cell_type": "code",
   "execution_count": 148,
   "metadata": {},
   "outputs": [],
   "source": [
    "search_btn = driver.find_element_by_xpath(\"//button[@type='submit']\")\n",
    "search_btn.click()"
   ]
  },
  {
   "cell_type": "code",
   "execution_count": 149,
   "metadata": {},
   "outputs": [],
   "source": [
    "#URL for 1st 40 entries\n",
    "url = \"https://www.flipkart.com/search?q=Sneakers&otracker=search&otracker1=search&marketplace=FLIPKART&as-show=on&as=off\""
   ]
  },
  {
   "cell_type": "code",
   "execution_count": 150,
   "metadata": {},
   "outputs": [],
   "source": [
    "driver.get(url)"
   ]
  },
  {
   "cell_type": "code",
   "execution_count": 151,
   "metadata": {},
   "outputs": [],
   "source": [
    "brand = []\n",
    "desc = []\n",
    "price =[]\n",
    "disc = []"
   ]
  },
  {
   "cell_type": "code",
   "execution_count": 152,
   "metadata": {},
   "outputs": [
    {
     "data": {
      "text/plain": [
       "[<selenium.webdriver.remote.webelement.WebElement (session=\"445510a6f39897f7c2f8c74c1a8f2e85\", element=\"1fe5e8b1-2572-482d-80a1-e75f07fd87f6\")>,\n",
       " <selenium.webdriver.remote.webelement.WebElement (session=\"445510a6f39897f7c2f8c74c1a8f2e85\", element=\"d00da0b1-5bf0-4588-87b1-fc590d5761b7\")>,\n",
       " <selenium.webdriver.remote.webelement.WebElement (session=\"445510a6f39897f7c2f8c74c1a8f2e85\", element=\"d58fb550-bd5f-40b6-b879-a0bb521a18cb\")>,\n",
       " <selenium.webdriver.remote.webelement.WebElement (session=\"445510a6f39897f7c2f8c74c1a8f2e85\", element=\"b2650a00-39db-45e8-bcae-939a2633c409\")>]"
      ]
     },
     "execution_count": 152,
     "metadata": {},
     "output_type": "execute_result"
    }
   ],
   "source": [
    "#Fetching brand 1-40\n",
    "b_t = driver.find_elements_by_xpath(\"//div[@class='_2WkVRV']\")\n",
    "b_t[0:4]"
   ]
  },
  {
   "cell_type": "code",
   "execution_count": 153,
   "metadata": {},
   "outputs": [
    {
     "data": {
      "text/plain": [
       "['Chevit', 'KWIK FIT', 'CLARKS', 'SPARX']"
      ]
     },
     "execution_count": 153,
     "metadata": {},
     "output_type": "execute_result"
    }
   ],
   "source": [
    "for i in b_t:\n",
    "    bra = i.text\n",
    "    brand.append(bra)\n",
    "brand[0:4]"
   ]
  },
  {
   "cell_type": "code",
   "execution_count": 154,
   "metadata": {},
   "outputs": [
    {
     "data": {
      "text/plain": [
       "[<selenium.webdriver.remote.webelement.WebElement (session=\"445510a6f39897f7c2f8c74c1a8f2e85\", element=\"55246ccb-54e7-4f77-8603-cbf06017dc77\")>,\n",
       " <selenium.webdriver.remote.webelement.WebElement (session=\"445510a6f39897f7c2f8c74c1a8f2e85\", element=\"4baab0d9-17f5-4467-9876-aba62f68faa3\")>,\n",
       " <selenium.webdriver.remote.webelement.WebElement (session=\"445510a6f39897f7c2f8c74c1a8f2e85\", element=\"781f9a88-55fc-4a6d-a5a2-28ec23d3b0cd\")>,\n",
       " <selenium.webdriver.remote.webelement.WebElement (session=\"445510a6f39897f7c2f8c74c1a8f2e85\", element=\"58f4819c-6535-4c6f-9191-f3be3fc05ff0\")>]"
      ]
     },
     "execution_count": 154,
     "metadata": {},
     "output_type": "execute_result"
    }
   ],
   "source": [
    "#Fetching description 1-40\n",
    "d_t = driver.find_elements_by_xpath(\"//a[@class='IRpwTa']\")\n",
    "d_t[0:4]"
   ]
  },
  {
   "cell_type": "code",
   "execution_count": 155,
   "metadata": {},
   "outputs": [
    {
     "data": {
      "text/plain": [
       "[\"Men's Combo Pack of 02 Shoes for Men Casual Sneakers Ou...\",\n",
       " 'Sneakers For Men',\n",
       " 'Men Brown Solid Mahogany Leather Mid-Top Sneakers Sneak...',\n",
       " 'Men White Sneakers Sneakers For Men',\n",
       " 'SM-439 Sneakers For Men']"
      ]
     },
     "execution_count": 155,
     "metadata": {},
     "output_type": "execute_result"
    }
   ],
   "source": [
    "for i in d_t:\n",
    "    if i is not None:\n",
    "        desc.append(i.text)\n",
    "    else:\n",
    "        desc.append('-')\n",
    "desc[:5]                "
   ]
  },
  {
   "cell_type": "code",
   "execution_count": 156,
   "metadata": {},
   "outputs": [
    {
     "data": {
      "text/plain": [
       "[<selenium.webdriver.remote.webelement.WebElement (session=\"445510a6f39897f7c2f8c74c1a8f2e85\", element=\"876e041b-7093-48f6-a27d-419360ddce69\")>,\n",
       " <selenium.webdriver.remote.webelement.WebElement (session=\"445510a6f39897f7c2f8c74c1a8f2e85\", element=\"8214dc50-e8ee-43be-8654-3f69dd232768\")>,\n",
       " <selenium.webdriver.remote.webelement.WebElement (session=\"445510a6f39897f7c2f8c74c1a8f2e85\", element=\"2532e843-bab0-4f0c-a1c2-eb55f7c66a83\")>,\n",
       " <selenium.webdriver.remote.webelement.WebElement (session=\"445510a6f39897f7c2f8c74c1a8f2e85\", element=\"f6b2cb97-b74b-4c0e-bf77-975c3040ba73\")>]"
      ]
     },
     "execution_count": 156,
     "metadata": {},
     "output_type": "execute_result"
    }
   ],
   "source": [
    "#Fetching price 1-40\n",
    "p_t = driver.find_elements_by_xpath(\"//div[@class='_30jeq3']\")\n",
    "p_t[0:4]"
   ]
  },
  {
   "cell_type": "code",
   "execution_count": 157,
   "metadata": {},
   "outputs": [
    {
     "data": {
      "text/plain": [
       "['₹420', '₹399', '₹2,566', '₹615', '₹699']"
      ]
     },
     "execution_count": 157,
     "metadata": {},
     "output_type": "execute_result"
    }
   ],
   "source": [
    "for i in p_t:\n",
    "    if i is not None:\n",
    "        price.append(i.text)\n",
    "    else:\n",
    "        price.append('-')\n",
    "price[:5]"
   ]
  },
  {
   "cell_type": "code",
   "execution_count": 158,
   "metadata": {},
   "outputs": [
    {
     "data": {
      "text/plain": [
       "[<selenium.webdriver.remote.webelement.WebElement (session=\"445510a6f39897f7c2f8c74c1a8f2e85\", element=\"300f897e-21d1-46c0-a2a7-6c71341fa56b\")>,\n",
       " <selenium.webdriver.remote.webelement.WebElement (session=\"445510a6f39897f7c2f8c74c1a8f2e85\", element=\"adb7fe5e-1d01-48d2-aa23-6913f44b65de\")>,\n",
       " <selenium.webdriver.remote.webelement.WebElement (session=\"445510a6f39897f7c2f8c74c1a8f2e85\", element=\"a43b6dac-0c7d-46ca-bea3-07bbf481860c\")>,\n",
       " <selenium.webdriver.remote.webelement.WebElement (session=\"445510a6f39897f7c2f8c74c1a8f2e85\", element=\"3d7c4eec-b68a-4ffc-b440-9da7299e221f\")>]"
      ]
     },
     "execution_count": 158,
     "metadata": {},
     "output_type": "execute_result"
    }
   ],
   "source": [
    "#Fetching discount 1-40\n",
    "di_t = driver.find_elements_by_xpath(\"//div[@class='_3Ay6Sb']/span[1]\")\n",
    "di_t[0:4]"
   ]
  },
  {
   "cell_type": "code",
   "execution_count": 159,
   "metadata": {},
   "outputs": [],
   "source": [
    "for i in di_t:\n",
    "    if i is not None:\n",
    "        disc.append(i.text)\n",
    "    else:\n",
    "        disc.append('-')"
   ]
  },
  {
   "cell_type": "code",
   "execution_count": 160,
   "metadata": {},
   "outputs": [
    {
     "name": "stdout",
     "output_type": "stream",
     "text": [
      "40 33 40 36\n"
     ]
    }
   ],
   "source": [
    "print(len(brand),len(desc),len(price),len(disc))"
   ]
  },
  {
   "cell_type": "code",
   "execution_count": 162,
   "metadata": {},
   "outputs": [],
   "source": [
    "search_btn1 = driver.find_element_by_xpath(\"//a[@class='_1LKTO3']/span[1]\")\n",
    "search_btn1.click()"
   ]
  },
  {
   "cell_type": "code",
   "execution_count": 163,
   "metadata": {},
   "outputs": [
    {
     "data": {
      "text/plain": [
       "[<selenium.webdriver.remote.webelement.WebElement (session=\"445510a6f39897f7c2f8c74c1a8f2e85\", element=\"5dc4e751-c38d-43d2-9269-746145ffb6bb\")>,\n",
       " <selenium.webdriver.remote.webelement.WebElement (session=\"445510a6f39897f7c2f8c74c1a8f2e85\", element=\"63e231ab-0f12-47b7-97e9-318e5bbd4e75\")>,\n",
       " <selenium.webdriver.remote.webelement.WebElement (session=\"445510a6f39897f7c2f8c74c1a8f2e85\", element=\"93f3a3a7-2744-43f5-8569-29d3270f77c3\")>,\n",
       " <selenium.webdriver.remote.webelement.WebElement (session=\"445510a6f39897f7c2f8c74c1a8f2e85\", element=\"733c13c3-4c92-40cd-a37c-2f5a1fb68f82\")>]"
      ]
     },
     "execution_count": 163,
     "metadata": {},
     "output_type": "execute_result"
    }
   ],
   "source": [
    "#Fetching brand 40-80\n",
    "b_t = driver.find_elements_by_xpath(\"//div[@class='_2WkVRV']\")\n",
    "b_t[0:4]"
   ]
  },
  {
   "cell_type": "code",
   "execution_count": 164,
   "metadata": {},
   "outputs": [
    {
     "data": {
      "text/plain": [
       "['Chevit', 'KWIK FIT', 'CLARKS', 'SPARX']"
      ]
     },
     "execution_count": 164,
     "metadata": {},
     "output_type": "execute_result"
    }
   ],
   "source": [
    "for i in b_t:\n",
    "    bra = i.text\n",
    "    brand.append(bra)\n",
    "brand[0:4]"
   ]
  },
  {
   "cell_type": "code",
   "execution_count": 165,
   "metadata": {},
   "outputs": [
    {
     "data": {
      "text/plain": [
       "[<selenium.webdriver.remote.webelement.WebElement (session=\"445510a6f39897f7c2f8c74c1a8f2e85\", element=\"34fd1ca5-001f-467d-80e2-8de7789174e1\")>,\n",
       " <selenium.webdriver.remote.webelement.WebElement (session=\"445510a6f39897f7c2f8c74c1a8f2e85\", element=\"711d9f68-897e-4772-bd0d-963e8973ae09\")>,\n",
       " <selenium.webdriver.remote.webelement.WebElement (session=\"445510a6f39897f7c2f8c74c1a8f2e85\", element=\"00ab5a92-f2d8-4fd9-b7e5-432932c1346b\")>,\n",
       " <selenium.webdriver.remote.webelement.WebElement (session=\"445510a6f39897f7c2f8c74c1a8f2e85\", element=\"9ec85b16-427d-4eee-a1bf-3ada9f52d349\")>]"
      ]
     },
     "execution_count": 165,
     "metadata": {},
     "output_type": "execute_result"
    }
   ],
   "source": [
    "#Fetching description 40-80\n",
    "d_t = driver.find_elements_by_xpath(\"//a[@class='IRpwTa']\")\n",
    "d_t[0:4]"
   ]
  },
  {
   "cell_type": "code",
   "execution_count": 166,
   "metadata": {},
   "outputs": [],
   "source": [
    "for i in d_t:\n",
    "    if i is not None:\n",
    "        desc.append(i.text)\n",
    "    else:\n",
    "        desc.append('-')"
   ]
  },
  {
   "cell_type": "code",
   "execution_count": 167,
   "metadata": {},
   "outputs": [
    {
     "data": {
      "text/plain": [
       "[<selenium.webdriver.remote.webelement.WebElement (session=\"445510a6f39897f7c2f8c74c1a8f2e85\", element=\"850c935e-ee4e-40b5-9a50-aa05196ed251\")>,\n",
       " <selenium.webdriver.remote.webelement.WebElement (session=\"445510a6f39897f7c2f8c74c1a8f2e85\", element=\"c403ea75-c4d0-455f-afb4-04f77adbf87e\")>,\n",
       " <selenium.webdriver.remote.webelement.WebElement (session=\"445510a6f39897f7c2f8c74c1a8f2e85\", element=\"81607208-08f6-4cec-9029-b6c1dbf6fb26\")>,\n",
       " <selenium.webdriver.remote.webelement.WebElement (session=\"445510a6f39897f7c2f8c74c1a8f2e85\", element=\"386368af-3c16-412f-b1f5-440dac03f5a8\")>]"
      ]
     },
     "execution_count": 167,
     "metadata": {},
     "output_type": "execute_result"
    }
   ],
   "source": [
    "#Fetching price 40-80\n",
    "p_t = driver.find_elements_by_xpath(\"//div[@class='_30jeq3']\")\n",
    "p_t[0:4]"
   ]
  },
  {
   "cell_type": "code",
   "execution_count": 168,
   "metadata": {},
   "outputs": [],
   "source": [
    "for i in p_t:\n",
    "    if i is not None:\n",
    "        price.append(i.text)\n",
    "    else:\n",
    "        price.append('-')"
   ]
  },
  {
   "cell_type": "code",
   "execution_count": 169,
   "metadata": {},
   "outputs": [
    {
     "data": {
      "text/plain": [
       "[<selenium.webdriver.remote.webelement.WebElement (session=\"445510a6f39897f7c2f8c74c1a8f2e85\", element=\"914406ff-59c2-4597-ae47-05e78fa1dbf0\")>,\n",
       " <selenium.webdriver.remote.webelement.WebElement (session=\"445510a6f39897f7c2f8c74c1a8f2e85\", element=\"67a41c54-62ea-4a80-b3c0-52c590c80202\")>,\n",
       " <selenium.webdriver.remote.webelement.WebElement (session=\"445510a6f39897f7c2f8c74c1a8f2e85\", element=\"b447d9a6-5cd3-4656-87e5-7c60ccce5164\")>,\n",
       " <selenium.webdriver.remote.webelement.WebElement (session=\"445510a6f39897f7c2f8c74c1a8f2e85\", element=\"2e62d086-e748-42c3-bca0-bba102b65062\")>]"
      ]
     },
     "execution_count": 169,
     "metadata": {},
     "output_type": "execute_result"
    }
   ],
   "source": [
    "#Fetching discount 40-80\n",
    "di_t = driver.find_elements_by_xpath(\"//div[@class='_3Ay6Sb']/span[1]\")\n",
    "di_t[0:4]"
   ]
  },
  {
   "cell_type": "code",
   "execution_count": 170,
   "metadata": {},
   "outputs": [],
   "source": [
    "for i in di_t:\n",
    "    if i is not None:\n",
    "        disc.append(i.text)\n",
    "    else:\n",
    "        disc.append('-')"
   ]
  },
  {
   "cell_type": "code",
   "execution_count": 171,
   "metadata": {},
   "outputs": [
    {
     "name": "stdout",
     "output_type": "stream",
     "text": [
      "80 66 80 76\n"
     ]
    }
   ],
   "source": [
    "print(len(brand),len(desc),len(price),len(disc))"
   ]
  },
  {
   "cell_type": "code",
   "execution_count": 172,
   "metadata": {},
   "outputs": [],
   "source": [
    "search_btn2=driver.find_element_by_xpath(\"//a[@class='_1LKTO3'][2]/span[1]\")\n",
    "search_btn2.click()"
   ]
  },
  {
   "cell_type": "code",
   "execution_count": 173,
   "metadata": {},
   "outputs": [
    {
     "data": {
      "text/plain": [
       "[<selenium.webdriver.remote.webelement.WebElement (session=\"445510a6f39897f7c2f8c74c1a8f2e85\", element=\"1b86d61a-7ea6-4131-861c-33a2967e6410\")>,\n",
       " <selenium.webdriver.remote.webelement.WebElement (session=\"445510a6f39897f7c2f8c74c1a8f2e85\", element=\"cd8fefa3-8269-40e5-adfa-aa94e89d43e3\")>,\n",
       " <selenium.webdriver.remote.webelement.WebElement (session=\"445510a6f39897f7c2f8c74c1a8f2e85\", element=\"961c4e13-ffc9-46ac-bd03-bd93db3b88e4\")>,\n",
       " <selenium.webdriver.remote.webelement.WebElement (session=\"445510a6f39897f7c2f8c74c1a8f2e85\", element=\"1af0243a-87e8-4d6e-bc93-c7cee9841257\")>]"
      ]
     },
     "execution_count": 173,
     "metadata": {},
     "output_type": "execute_result"
    }
   ],
   "source": [
    "#Fetching brand 80-120\n",
    "b_t = driver.find_elements_by_xpath(\"//div[@class='_2WkVRV']\")\n",
    "b_t[0:4]"
   ]
  },
  {
   "cell_type": "code",
   "execution_count": 174,
   "metadata": {},
   "outputs": [],
   "source": [
    "for i in b_t:\n",
    "    bra = i.text\n",
    "    brand.append(bra)"
   ]
  },
  {
   "cell_type": "code",
   "execution_count": 175,
   "metadata": {},
   "outputs": [
    {
     "data": {
      "text/plain": [
       "[<selenium.webdriver.remote.webelement.WebElement (session=\"445510a6f39897f7c2f8c74c1a8f2e85\", element=\"5c3bc3d6-3cba-47ee-af53-9b5d906b5ae4\")>,\n",
       " <selenium.webdriver.remote.webelement.WebElement (session=\"445510a6f39897f7c2f8c74c1a8f2e85\", element=\"5c5cff84-55f2-4e3d-a565-5e23ab69f96f\")>,\n",
       " <selenium.webdriver.remote.webelement.WebElement (session=\"445510a6f39897f7c2f8c74c1a8f2e85\", element=\"5f99a360-4c90-4112-87f7-4775b2cc6b8a\")>,\n",
       " <selenium.webdriver.remote.webelement.WebElement (session=\"445510a6f39897f7c2f8c74c1a8f2e85\", element=\"74132ab9-13c8-46bc-8867-fabac13077c7\")>]"
      ]
     },
     "execution_count": 175,
     "metadata": {},
     "output_type": "execute_result"
    }
   ],
   "source": [
    "#Fetching description 80-120\n",
    "d_t = driver.find_elements_by_xpath(\"//a[@class='IRpwTa']\")\n",
    "d_t[0:4]"
   ]
  },
  {
   "cell_type": "code",
   "execution_count": 176,
   "metadata": {},
   "outputs": [],
   "source": [
    "for i in d_t:\n",
    "    if i is not None:\n",
    "        desc.append(i.text)\n",
    "    else:\n",
    "        desc.append('-')"
   ]
  },
  {
   "cell_type": "code",
   "execution_count": 177,
   "metadata": {},
   "outputs": [
    {
     "data": {
      "text/plain": [
       "[<selenium.webdriver.remote.webelement.WebElement (session=\"445510a6f39897f7c2f8c74c1a8f2e85\", element=\"af204b62-a562-4398-a130-0305d88b430d\")>,\n",
       " <selenium.webdriver.remote.webelement.WebElement (session=\"445510a6f39897f7c2f8c74c1a8f2e85\", element=\"c07d4589-e411-4266-8daf-51d44d26561c\")>,\n",
       " <selenium.webdriver.remote.webelement.WebElement (session=\"445510a6f39897f7c2f8c74c1a8f2e85\", element=\"afe6231d-3186-4915-9814-032324e59c05\")>,\n",
       " <selenium.webdriver.remote.webelement.WebElement (session=\"445510a6f39897f7c2f8c74c1a8f2e85\", element=\"4082b5e7-47c9-47e0-89dd-297ee85f6e67\")>]"
      ]
     },
     "execution_count": 177,
     "metadata": {},
     "output_type": "execute_result"
    }
   ],
   "source": [
    "#Fetching price 80-120\n",
    "p_t = driver.find_elements_by_xpath(\"//div[@class='_30jeq3']\")\n",
    "p_t[0:4]"
   ]
  },
  {
   "cell_type": "code",
   "execution_count": 178,
   "metadata": {},
   "outputs": [],
   "source": [
    "for i in p_t:\n",
    "    if i is not None:\n",
    "        price.append(i.text)\n",
    "    else:\n",
    "        price.append('-')"
   ]
  },
  {
   "cell_type": "code",
   "execution_count": 179,
   "metadata": {},
   "outputs": [
    {
     "data": {
      "text/plain": [
       "[<selenium.webdriver.remote.webelement.WebElement (session=\"445510a6f39897f7c2f8c74c1a8f2e85\", element=\"a5870bb7-4e8b-4fcd-b68d-47dd86216c8a\")>,\n",
       " <selenium.webdriver.remote.webelement.WebElement (session=\"445510a6f39897f7c2f8c74c1a8f2e85\", element=\"9493c57e-385a-4fe7-b3ec-eeae5abca13a\")>,\n",
       " <selenium.webdriver.remote.webelement.WebElement (session=\"445510a6f39897f7c2f8c74c1a8f2e85\", element=\"46f01351-9972-4b7c-9ae9-254beec4054c\")>,\n",
       " <selenium.webdriver.remote.webelement.WebElement (session=\"445510a6f39897f7c2f8c74c1a8f2e85\", element=\"c52ca60f-abb4-4288-8db5-da504d44d1db\")>]"
      ]
     },
     "execution_count": 179,
     "metadata": {},
     "output_type": "execute_result"
    }
   ],
   "source": [
    "#Fetching discount 80-120\n",
    "di_t = driver.find_elements_by_xpath(\"//div[@class='_3Ay6Sb']/span[1]\")\n",
    "di_t[0:4]"
   ]
  },
  {
   "cell_type": "code",
   "execution_count": 180,
   "metadata": {},
   "outputs": [],
   "source": [
    "for i in di_t:\n",
    "    if i is not None:\n",
    "        disc.append(i.text)\n",
    "    else:\n",
    "        disc.append('-')"
   ]
  },
  {
   "cell_type": "code",
   "execution_count": 181,
   "metadata": {},
   "outputs": [
    {
     "name": "stdout",
     "output_type": "stream",
     "text": [
      "120 102 120 116\n"
     ]
    }
   ],
   "source": [
    "print(len(brand),len(desc),len(price),len(disc))"
   ]
  },
  {
   "cell_type": "code",
   "execution_count": 183,
   "metadata": {},
   "outputs": [],
   "source": [
    "s_flip=pd.DataFrame({})\n",
    "s_flip['Brand']=brand[:100]\n",
    "s_flip['Description']=desc[:100]\n",
    "s_flip['Prices']=price[:100]\n",
    "s_flip['Discount %']=disc[:100]"
   ]
  },
  {
   "cell_type": "code",
   "execution_count": 184,
   "metadata": {},
   "outputs": [
    {
     "data": {
      "text/html": [
       "<div>\n",
       "<style scoped>\n",
       "    .dataframe tbody tr th:only-of-type {\n",
       "        vertical-align: middle;\n",
       "    }\n",
       "\n",
       "    .dataframe tbody tr th {\n",
       "        vertical-align: top;\n",
       "    }\n",
       "\n",
       "    .dataframe thead th {\n",
       "        text-align: right;\n",
       "    }\n",
       "</style>\n",
       "<table border=\"1\" class=\"dataframe\">\n",
       "  <thead>\n",
       "    <tr style=\"text-align: right;\">\n",
       "      <th></th>\n",
       "      <th>Brand</th>\n",
       "      <th>Description</th>\n",
       "      <th>Prices</th>\n",
       "      <th>Discount %</th>\n",
       "    </tr>\n",
       "  </thead>\n",
       "  <tbody>\n",
       "    <tr>\n",
       "      <th>0</th>\n",
       "      <td>Chevit</td>\n",
       "      <td>Men's Combo Pack of 02 Shoes for Men Casual Sn...</td>\n",
       "      <td>₹420</td>\n",
       "      <td>57% off</td>\n",
       "    </tr>\n",
       "    <tr>\n",
       "      <th>1</th>\n",
       "      <td>KWIK FIT</td>\n",
       "      <td>Sneakers For Men</td>\n",
       "      <td>₹399</td>\n",
       "      <td>60% off</td>\n",
       "    </tr>\n",
       "    <tr>\n",
       "      <th>2</th>\n",
       "      <td>CLARKS</td>\n",
       "      <td>Men Brown Solid Mahogany Leather Mid-Top Sneak...</td>\n",
       "      <td>₹2,566</td>\n",
       "      <td>63% off</td>\n",
       "    </tr>\n",
       "    <tr>\n",
       "      <th>3</th>\n",
       "      <td>SPARX</td>\n",
       "      <td>Men White Sneakers Sneakers For Men</td>\n",
       "      <td>₹615</td>\n",
       "      <td>17% off</td>\n",
       "    </tr>\n",
       "    <tr>\n",
       "      <th>4</th>\n",
       "      <td>SPARX</td>\n",
       "      <td>SM-439 Sneakers For Men</td>\n",
       "      <td>₹699</td>\n",
       "      <td>49% off</td>\n",
       "    </tr>\n",
       "    <tr>\n",
       "      <th>...</th>\n",
       "      <td>...</td>\n",
       "      <td>...</td>\n",
       "      <td>...</td>\n",
       "      <td>...</td>\n",
       "    </tr>\n",
       "    <tr>\n",
       "      <th>95</th>\n",
       "      <td>United Colors of Benetton.</td>\n",
       "      <td>Combo Pack of 3 Lattest Collection Stylish Cas...</td>\n",
       "      <td>₹1,749</td>\n",
       "      <td>62% off</td>\n",
       "    </tr>\n",
       "    <tr>\n",
       "      <th>96</th>\n",
       "      <td>HRX by Hrithik Roshan</td>\n",
       "      <td>Smash v2 CV Sneakers For Men</td>\n",
       "      <td>₹2,249</td>\n",
       "      <td>53% off</td>\n",
       "    </tr>\n",
       "    <tr>\n",
       "      <th>97</th>\n",
       "      <td>SWIGGY</td>\n",
       "      <td>Sneakers For Men</td>\n",
       "      <td>₹664</td>\n",
       "      <td>19% off</td>\n",
       "    </tr>\n",
       "    <tr>\n",
       "      <th>98</th>\n",
       "      <td>ARMADO</td>\n",
       "      <td>shoes For Mens Combo(AR)-1635-1525 ( Multicolo...</td>\n",
       "      <td>₹759</td>\n",
       "      <td>25% off</td>\n",
       "    </tr>\n",
       "    <tr>\n",
       "      <th>99</th>\n",
       "      <td>VORII</td>\n",
       "      <td>Sneakers For Men</td>\n",
       "      <td>₹379</td>\n",
       "      <td>54% off</td>\n",
       "    </tr>\n",
       "  </tbody>\n",
       "</table>\n",
       "<p>100 rows × 4 columns</p>\n",
       "</div>"
      ],
      "text/plain": [
       "                         Brand  \\\n",
       "0                       Chevit   \n",
       "1                     KWIK FIT   \n",
       "2                       CLARKS   \n",
       "3                        SPARX   \n",
       "4                        SPARX   \n",
       "..                         ...   \n",
       "95  United Colors of Benetton.   \n",
       "96       HRX by Hrithik Roshan   \n",
       "97                      SWIGGY   \n",
       "98                      ARMADO   \n",
       "99                       VORII   \n",
       "\n",
       "                                          Description  Prices Discount %  \n",
       "0   Men's Combo Pack of 02 Shoes for Men Casual Sn...    ₹420    57% off  \n",
       "1                                    Sneakers For Men    ₹399    60% off  \n",
       "2   Men Brown Solid Mahogany Leather Mid-Top Sneak...  ₹2,566    63% off  \n",
       "3                 Men White Sneakers Sneakers For Men    ₹615    17% off  \n",
       "4                             SM-439 Sneakers For Men    ₹699    49% off  \n",
       "..                                                ...     ...        ...  \n",
       "95  Combo Pack of 3 Lattest Collection Stylish Cas...  ₹1,749    62% off  \n",
       "96                       Smash v2 CV Sneakers For Men  ₹2,249    53% off  \n",
       "97                                   Sneakers For Men    ₹664    19% off  \n",
       "98  shoes For Mens Combo(AR)-1635-1525 ( Multicolo...    ₹759    25% off  \n",
       "99                                   Sneakers For Men    ₹379    54% off  \n",
       "\n",
       "[100 rows x 4 columns]"
      ]
     },
     "execution_count": 184,
     "metadata": {},
     "output_type": "execute_result"
    }
   ],
   "source": [
    "s_flip"
   ]
  },
  {
   "cell_type": "markdown",
   "metadata": {},
   "source": [
    "# Q9: Go to the link - https://www.myntra.com/shoes Set Price filter to “Rs. 6649 to Rs. 13099” , Color filter to “Black”."
   ]
  },
  {
   "cell_type": "markdown",
   "metadata": {},
   "source": [
    "- And then scrape First 100 shoes data you get. The data should include “Brand” of the shoes , Short Shoe description, price of the shoe as shown in the below image.\n",
    "- Please note that applying the filter and scraping the data , everything should be done through code only and there should not be any manual step."
   ]
  },
  {
   "cell_type": "code",
   "execution_count": 3,
   "metadata": {},
   "outputs": [],
   "source": [
    "driver.get(\" https://www.myntra.com/shoes\")"
   ]
  },
  {
   "cell_type": "code",
   "execution_count": 5,
   "metadata": {},
   "outputs": [],
   "source": [
    "pri_button = driver.find_element_by_css_selector('input[value*=\"6612.0 TO 13075.0\"]') \n",
    "webdriver.ActionChains(driver).move_to_element(pri_button ).click(pri_button ).perform()"
   ]
  },
  {
   "cell_type": "code",
   "execution_count": 6,
   "metadata": {},
   "outputs": [],
   "source": [
    "col_button = driver.find_element_by_css_selector('input[value*=\"Black\"]')\n",
    "webdriver.ActionChains(driver).move_to_element(col_button ).click(col_button ).perform()"
   ]
  },
  {
   "cell_type": "code",
   "execution_count": 7,
   "metadata": {},
   "outputs": [],
   "source": [
    "#URL for 1st 50 entries\n",
    "url = \"https://www.myntra.com/shoes?f=Color%3ABlack_36454f&plaEnabled=false&rf=Price%3A6612.0_13075.0_6612.0%20TO%2013075.0\"\n",
    "driver.get(url)"
   ]
  },
  {
   "cell_type": "code",
   "execution_count": 8,
   "metadata": {},
   "outputs": [],
   "source": [
    "brand = []\n",
    "desc = []\n",
    "price =[]"
   ]
  },
  {
   "cell_type": "code",
   "execution_count": 9,
   "metadata": {},
   "outputs": [
    {
     "data": {
      "text/plain": [
       "[<selenium.webdriver.remote.webelement.WebElement (session=\"ed1b97abb0ce1150df78fac3c6c62bd3\", element=\"5d0140ba-8970-4662-92ce-14f2f412aa29\")>,\n",
       " <selenium.webdriver.remote.webelement.WebElement (session=\"ed1b97abb0ce1150df78fac3c6c62bd3\", element=\"3c87172a-93c7-4051-b77c-5ee698ccc95f\")>,\n",
       " <selenium.webdriver.remote.webelement.WebElement (session=\"ed1b97abb0ce1150df78fac3c6c62bd3\", element=\"910f9c16-02dd-4519-b070-42dee9e23d37\")>,\n",
       " <selenium.webdriver.remote.webelement.WebElement (session=\"ed1b97abb0ce1150df78fac3c6c62bd3\", element=\"eef87bda-4989-499f-970f-a8387c20eaad\")>]"
      ]
     },
     "execution_count": 9,
     "metadata": {},
     "output_type": "execute_result"
    }
   ],
   "source": [
    "#Fetching brand 1-40\n",
    "b_t = driver.find_elements_by_xpath(\"//h3[@class='product-brand']\")\n",
    "b_t[0:4]"
   ]
  },
  {
   "cell_type": "code",
   "execution_count": 10,
   "metadata": {},
   "outputs": [
    {
     "data": {
      "text/plain": [
       "['Nike', 'Nike', 'PUMA Motorsport', 'Nike']"
      ]
     },
     "execution_count": 10,
     "metadata": {},
     "output_type": "execute_result"
    }
   ],
   "source": [
    "for i in b_t:\n",
    "    bra = i.text\n",
    "    brand.append(bra)\n",
    "brand[0:4]"
   ]
  },
  {
   "cell_type": "code",
   "execution_count": 11,
   "metadata": {},
   "outputs": [
    {
     "data": {
      "text/plain": [
       "[<selenium.webdriver.remote.webelement.WebElement (session=\"ed1b97abb0ce1150df78fac3c6c62bd3\", element=\"a096308a-5061-40ed-a71f-b652e027c327\")>,\n",
       " <selenium.webdriver.remote.webelement.WebElement (session=\"ed1b97abb0ce1150df78fac3c6c62bd3\", element=\"f6ed5a3b-aa5e-420c-8fd1-24ba38bdbb59\")>,\n",
       " <selenium.webdriver.remote.webelement.WebElement (session=\"ed1b97abb0ce1150df78fac3c6c62bd3\", element=\"9ee5403e-e3a0-4ec4-803d-ff98ebc01ea2\")>,\n",
       " <selenium.webdriver.remote.webelement.WebElement (session=\"ed1b97abb0ce1150df78fac3c6c62bd3\", element=\"fffb8710-0cb7-426f-9e4c-fbfa244550f6\")>]"
      ]
     },
     "execution_count": 11,
     "metadata": {},
     "output_type": "execute_result"
    }
   ],
   "source": [
    "#Fetching price 1-500\n",
    "p_t = driver.find_elements_by_xpath(\"//div[@class='product-discountedPrice']|//div[@class='product-price']\")\n",
    "p_t[0:4]"
   ]
  },
  {
   "cell_type": "code",
   "execution_count": 12,
   "metadata": {},
   "outputs": [
    {
     "data": {
      "text/plain": [
       "['Rs. 8246Rs. 10995(25% OFF)',\n",
       " 'Rs. 7197Rs. 11995( 40 % OFF)',\n",
       " 'Rs. 7999',\n",
       " 'Rs. 10121Rs. 13495(25% OFF)']"
      ]
     },
     "execution_count": 12,
     "metadata": {},
     "output_type": "execute_result"
    }
   ],
   "source": [
    "for i in p_t:\n",
    "    pri = i.text\n",
    "    price.append(pri)\n",
    "price[0:4]"
   ]
  },
  {
   "cell_type": "code",
   "execution_count": 13,
   "metadata": {},
   "outputs": [
    {
     "data": {
      "text/plain": [
       "[<selenium.webdriver.remote.webelement.WebElement (session=\"ed1b97abb0ce1150df78fac3c6c62bd3\", element=\"423fda77-564d-4f56-8a02-bd69850c075c\")>,\n",
       " <selenium.webdriver.remote.webelement.WebElement (session=\"ed1b97abb0ce1150df78fac3c6c62bd3\", element=\"9c5235cc-31bd-42a9-95a6-6aecaca9fed8\")>,\n",
       " <selenium.webdriver.remote.webelement.WebElement (session=\"ed1b97abb0ce1150df78fac3c6c62bd3\", element=\"e22bc0d1-ffc7-4e53-8fab-b22ab113b9fc\")>,\n",
       " <selenium.webdriver.remote.webelement.WebElement (session=\"ed1b97abb0ce1150df78fac3c6c62bd3\", element=\"7d18ffb7-e25a-4e2d-8be8-2e882169767c\")>]"
      ]
     },
     "execution_count": 13,
     "metadata": {},
     "output_type": "execute_result"
    }
   ],
   "source": [
    "#Fetching description 1-40\n",
    "d_t = driver.find_elements_by_xpath(\"//h4[@class='product-product']\")\n",
    "d_t[0:4]"
   ]
  },
  {
   "cell_type": "code",
   "execution_count": 14,
   "metadata": {},
   "outputs": [
    {
     "data": {
      "text/plain": [
       "['Men REACT MILER Running Shoes',\n",
       " 'Women Running Shoes',\n",
       " 'Unisex Mercedes Running Shoes',\n",
       " 'Men AIR ZOOM Running Shoes']"
      ]
     },
     "execution_count": 14,
     "metadata": {},
     "output_type": "execute_result"
    }
   ],
   "source": [
    "for i in d_t:\n",
    "    des = i.text\n",
    "    desc.append(des)\n",
    "desc[0:4]"
   ]
  },
  {
   "cell_type": "code",
   "execution_count": 15,
   "metadata": {},
   "outputs": [
    {
     "name": "stdout",
     "output_type": "stream",
     "text": [
      "50 50 50\n"
     ]
    }
   ],
   "source": [
    "print(len(brand),len(desc),len(price))"
   ]
  },
  {
   "cell_type": "code",
   "execution_count": 16,
   "metadata": {},
   "outputs": [],
   "source": [
    "#Search button for next 50\n",
    "search_btn=driver.find_element_by_xpath(\"//li[@class='pagination-next']\")\n",
    "search_btn.click()"
   ]
  },
  {
   "cell_type": "code",
   "execution_count": 17,
   "metadata": {},
   "outputs": [
    {
     "data": {
      "text/plain": [
       "[<selenium.webdriver.remote.webelement.WebElement (session=\"ed1b97abb0ce1150df78fac3c6c62bd3\", element=\"0987b23d-4d9c-458c-9212-93d094ee26a5\")>,\n",
       " <selenium.webdriver.remote.webelement.WebElement (session=\"ed1b97abb0ce1150df78fac3c6c62bd3\", element=\"f2a343ca-733b-44fc-831f-59a17776ea5d\")>,\n",
       " <selenium.webdriver.remote.webelement.WebElement (session=\"ed1b97abb0ce1150df78fac3c6c62bd3\", element=\"dbfe12cf-f4ff-4a17-8407-ef77dc357d48\")>,\n",
       " <selenium.webdriver.remote.webelement.WebElement (session=\"ed1b97abb0ce1150df78fac3c6c62bd3\", element=\"18467105-d1e3-4127-a46b-4c5e0e540a1d\")>]"
      ]
     },
     "execution_count": 17,
     "metadata": {},
     "output_type": "execute_result"
    }
   ],
   "source": [
    "#Fetching brand 50-100\n",
    "b_t = driver.find_elements_by_xpath(\"//h3[@class='product-brand']\")\n",
    "b_t[0:4]"
   ]
  },
  {
   "cell_type": "code",
   "execution_count": 18,
   "metadata": {},
   "outputs": [],
   "source": [
    "for i in b_t:\n",
    "    bra = i.text\n",
    "    brand.append(bra)"
   ]
  },
  {
   "cell_type": "code",
   "execution_count": 19,
   "metadata": {},
   "outputs": [
    {
     "data": {
      "text/plain": [
       "[<selenium.webdriver.remote.webelement.WebElement (session=\"ed1b97abb0ce1150df78fac3c6c62bd3\", element=\"258b6d36-6f3e-42b9-ae6a-651aa510577b\")>,\n",
       " <selenium.webdriver.remote.webelement.WebElement (session=\"ed1b97abb0ce1150df78fac3c6c62bd3\", element=\"09e21d18-73b9-4422-8fdd-d17ca62e11b5\")>,\n",
       " <selenium.webdriver.remote.webelement.WebElement (session=\"ed1b97abb0ce1150df78fac3c6c62bd3\", element=\"b6c19379-f474-4929-b278-564f0941807b\")>,\n",
       " <selenium.webdriver.remote.webelement.WebElement (session=\"ed1b97abb0ce1150df78fac3c6c62bd3\", element=\"d8c513f3-cca2-48a2-a4c1-198bf681b4ba\")>]"
      ]
     },
     "execution_count": 19,
     "metadata": {},
     "output_type": "execute_result"
    }
   ],
   "source": [
    "#Fetching price 50-100\n",
    "p_t = driver.find_elements_by_xpath(\"//div[@class='product-discountedPrice']|//div[@class='product-price']\")\n",
    "p_t[0:4]"
   ]
  },
  {
   "cell_type": "code",
   "execution_count": 20,
   "metadata": {},
   "outputs": [],
   "source": [
    "for i in p_t:\n",
    "    pri = i.text\n",
    "    price.append(pri)"
   ]
  },
  {
   "cell_type": "code",
   "execution_count": 21,
   "metadata": {},
   "outputs": [
    {
     "data": {
      "text/plain": [
       "[<selenium.webdriver.remote.webelement.WebElement (session=\"ed1b97abb0ce1150df78fac3c6c62bd3\", element=\"28e576ad-dc57-4192-a538-31b2dec27951\")>,\n",
       " <selenium.webdriver.remote.webelement.WebElement (session=\"ed1b97abb0ce1150df78fac3c6c62bd3\", element=\"864a1477-aa32-4f75-8982-fca0edc7440a\")>,\n",
       " <selenium.webdriver.remote.webelement.WebElement (session=\"ed1b97abb0ce1150df78fac3c6c62bd3\", element=\"85bd1d4c-b4e9-41c3-8982-81623fa39e7b\")>,\n",
       " <selenium.webdriver.remote.webelement.WebElement (session=\"ed1b97abb0ce1150df78fac3c6c62bd3\", element=\"3ad872ed-f50a-4919-92c5-0056de2bf78a\")>]"
      ]
     },
     "execution_count": 21,
     "metadata": {},
     "output_type": "execute_result"
    }
   ],
   "source": [
    "#Fetching description 50-100\n",
    "d_t = driver.find_elements_by_xpath(\"//h4[@class='product-product']\")\n",
    "d_t[0:4]"
   ]
  },
  {
   "cell_type": "code",
   "execution_count": 22,
   "metadata": {},
   "outputs": [],
   "source": [
    "for i in d_t:\n",
    "    des = i.text\n",
    "    desc.append(des)"
   ]
  },
  {
   "cell_type": "code",
   "execution_count": 23,
   "metadata": {},
   "outputs": [
    {
     "name": "stdout",
     "output_type": "stream",
     "text": [
      "100 100 100\n"
     ]
    }
   ],
   "source": [
    "print(len(brand),len(desc),len(price))"
   ]
  },
  {
   "cell_type": "code",
   "execution_count": 24,
   "metadata": {},
   "outputs": [],
   "source": [
    "myn_sne=pd.DataFrame({})\n",
    "myn_sne['Brand']=brand\n",
    "myn_sne['Price']=price\n",
    "myn_sne['Description']=desc"
   ]
  },
  {
   "cell_type": "code",
   "execution_count": 25,
   "metadata": {},
   "outputs": [
    {
     "data": {
      "text/html": [
       "<div>\n",
       "<style scoped>\n",
       "    .dataframe tbody tr th:only-of-type {\n",
       "        vertical-align: middle;\n",
       "    }\n",
       "\n",
       "    .dataframe tbody tr th {\n",
       "        vertical-align: top;\n",
       "    }\n",
       "\n",
       "    .dataframe thead th {\n",
       "        text-align: right;\n",
       "    }\n",
       "</style>\n",
       "<table border=\"1\" class=\"dataframe\">\n",
       "  <thead>\n",
       "    <tr style=\"text-align: right;\">\n",
       "      <th></th>\n",
       "      <th>Brand</th>\n",
       "      <th>Price</th>\n",
       "      <th>Description</th>\n",
       "    </tr>\n",
       "  </thead>\n",
       "  <tbody>\n",
       "    <tr>\n",
       "      <th>0</th>\n",
       "      <td>Nike</td>\n",
       "      <td>Rs. 8246Rs. 10995(25% OFF)</td>\n",
       "      <td>Men REACT MILER Running Shoes</td>\n",
       "    </tr>\n",
       "    <tr>\n",
       "      <th>1</th>\n",
       "      <td>Nike</td>\n",
       "      <td>Rs. 7197Rs. 11995( 40 % OFF)</td>\n",
       "      <td>Women Running Shoes</td>\n",
       "    </tr>\n",
       "    <tr>\n",
       "      <th>2</th>\n",
       "      <td>PUMA Motorsport</td>\n",
       "      <td>Rs. 7999</td>\n",
       "      <td>Unisex Mercedes Running Shoes</td>\n",
       "    </tr>\n",
       "    <tr>\n",
       "      <th>3</th>\n",
       "      <td>Nike</td>\n",
       "      <td>Rs. 10121Rs. 13495(25% OFF)</td>\n",
       "      <td>Men AIR ZOOM Running Shoes</td>\n",
       "    </tr>\n",
       "    <tr>\n",
       "      <th>4</th>\n",
       "      <td>Nike</td>\n",
       "      <td>Rs. 11495</td>\n",
       "      <td>AIR ZOOM PEGASUS Running Shoes</td>\n",
       "    </tr>\n",
       "    <tr>\n",
       "      <th>...</th>\n",
       "      <td>...</td>\n",
       "      <td>...</td>\n",
       "      <td>...</td>\n",
       "    </tr>\n",
       "    <tr>\n",
       "      <th>95</th>\n",
       "      <td>Geox</td>\n",
       "      <td>Rs. 7867Rs. 10490(25% OFF)</td>\n",
       "      <td>Men Leather Formal Oxfords</td>\n",
       "    </tr>\n",
       "    <tr>\n",
       "      <th>96</th>\n",
       "      <td>Geox</td>\n",
       "      <td>Rs. 9367Rs. 12490(25% OFF)</td>\n",
       "      <td>Men Leather Formal Oxfords</td>\n",
       "    </tr>\n",
       "    <tr>\n",
       "      <th>97</th>\n",
       "      <td>Cole Haan</td>\n",
       "      <td>Rs. 7499Rs. 14999(50% OFF)</td>\n",
       "      <td>Women Woven Design Sneakers</td>\n",
       "    </tr>\n",
       "    <tr>\n",
       "      <th>98</th>\n",
       "      <td>Geox</td>\n",
       "      <td>Rs. 11242Rs. 14990(25% OFF)</td>\n",
       "      <td>Men Leather Formal Derbyacs</td>\n",
       "    </tr>\n",
       "    <tr>\n",
       "      <th>99</th>\n",
       "      <td>UNDER ARMOUR</td>\n",
       "      <td>Rs. 8999</td>\n",
       "      <td>Charged RC Sportstyle Sneakers</td>\n",
       "    </tr>\n",
       "  </tbody>\n",
       "</table>\n",
       "<p>100 rows × 3 columns</p>\n",
       "</div>"
      ],
      "text/plain": [
       "              Brand                         Price  \\\n",
       "0              Nike    Rs. 8246Rs. 10995(25% OFF)   \n",
       "1              Nike  Rs. 7197Rs. 11995( 40 % OFF)   \n",
       "2   PUMA Motorsport                      Rs. 7999   \n",
       "3              Nike   Rs. 10121Rs. 13495(25% OFF)   \n",
       "4              Nike                     Rs. 11495   \n",
       "..              ...                           ...   \n",
       "95             Geox    Rs. 7867Rs. 10490(25% OFF)   \n",
       "96             Geox    Rs. 9367Rs. 12490(25% OFF)   \n",
       "97        Cole Haan    Rs. 7499Rs. 14999(50% OFF)   \n",
       "98             Geox   Rs. 11242Rs. 14990(25% OFF)   \n",
       "99     UNDER ARMOUR                      Rs. 8999   \n",
       "\n",
       "                       Description  \n",
       "0    Men REACT MILER Running Shoes  \n",
       "1              Women Running Shoes  \n",
       "2    Unisex Mercedes Running Shoes  \n",
       "3       Men AIR ZOOM Running Shoes  \n",
       "4   AIR ZOOM PEGASUS Running Shoes  \n",
       "..                             ...  \n",
       "95      Men Leather Formal Oxfords  \n",
       "96      Men Leather Formal Oxfords  \n",
       "97     Women Woven Design Sneakers  \n",
       "98     Men Leather Formal Derbyacs  \n",
       "99  Charged RC Sportstyle Sneakers  \n",
       "\n",
       "[100 rows x 3 columns]"
      ]
     },
     "execution_count": 25,
     "metadata": {},
     "output_type": "execute_result"
    }
   ],
   "source": [
    "myn_sne"
   ]
  },
  {
   "cell_type": "markdown",
   "metadata": {},
   "source": [
    "# Q10: Go to webpage https://www.amazon.in/. Enter “Laptop” in the search field and then click the search icon. Then set CPU Type filter to “Intel Core i7” and “Intel Core i9” "
   ]
  },
  {
   "cell_type": "markdown",
   "metadata": {},
   "source": [
    "After setting the filters scrape first 10 laptops data. You have to scrape 3 attributes for each laptop:\n",
    "1. Title\n",
    "2. Ratings\n",
    "3. Price"
   ]
  },
  {
   "cell_type": "code",
   "execution_count": 26,
   "metadata": {},
   "outputs": [],
   "source": [
    "driver.get(' https://www.amazon.in/')"
   ]
  },
  {
   "cell_type": "code",
   "execution_count": 28,
   "metadata": {},
   "outputs": [],
   "source": [
    "lap_s=driver.find_element_by_id('twotabsearchtextbox')\n",
    "lap_s.send_keys('Laptop')"
   ]
  },
  {
   "cell_type": "code",
   "execution_count": 29,
   "metadata": {},
   "outputs": [],
   "source": [
    "search_btn = driver.find_element_by_id('nav-search-submit-button')\n",
    "search_btn.click()"
   ]
  },
  {
   "cell_type": "code",
   "execution_count": 30,
   "metadata": {},
   "outputs": [],
   "source": [
    "isev = driver.find_element_by_xpath('//*[@id=\"p_n_feature_thirteen_browse-bin/12598163031\"]/span/a/div')\n",
    "titletext=isev.get_attribute('innerHTML').splitlines()[0]\n",
    "isev.click()"
   ]
  },
  {
   "cell_type": "code",
   "execution_count": 34,
   "metadata": {},
   "outputs": [],
   "source": [
    "brand = []\n",
    "rating = []\n",
    "price =[]"
   ]
  },
  {
   "cell_type": "code",
   "execution_count": 35,
   "metadata": {},
   "outputs": [
    {
     "data": {
      "text/plain": [
       "[<selenium.webdriver.remote.webelement.WebElement (session=\"ed1b97abb0ce1150df78fac3c6c62bd3\", element=\"4b70d0ec-58c7-429d-8b83-7fed5c18c85d\")>,\n",
       " <selenium.webdriver.remote.webelement.WebElement (session=\"ed1b97abb0ce1150df78fac3c6c62bd3\", element=\"1452e922-be90-450c-b85d-706b95b5b82d\")>,\n",
       " <selenium.webdriver.remote.webelement.WebElement (session=\"ed1b97abb0ce1150df78fac3c6c62bd3\", element=\"c6b3d718-04af-4bb3-b68c-31700f297393\")>,\n",
       " <selenium.webdriver.remote.webelement.WebElement (session=\"ed1b97abb0ce1150df78fac3c6c62bd3\", element=\"7a2b7431-c8b6-4b90-883e-084a2b01e651\")>]"
      ]
     },
     "execution_count": 35,
     "metadata": {},
     "output_type": "execute_result"
    }
   ],
   "source": [
    "b_t=driver.find_elements_by_xpath(\"//h2[@class='a-size-mini a-spacing-none a-color-base s-line-clamp-2']\")\n",
    "b_t[0:4]"
   ]
  },
  {
   "cell_type": "code",
   "execution_count": 36,
   "metadata": {},
   "outputs": [
    {
     "data": {
      "text/plain": [
       "['Lenovo IdeaPad Flex 5 11th Gen Intel Core i7 14-inch FHD IPS 2-in-1 Touchscreen Laptop (16GB/512GB SSD/Win 10/Office 2019/Lenovo Digital Pen Stylus/Fingerprint Reader/Graphite Grey/1.5Kg), 82HS0092IN',\n",
       " 'MSI Creator 15M, Intel i7-10750H, 15.6\" FHD IPS-Level 144Hz 72%NTSC Thin Bezel, close to 100%sRGB Panel Laptop (16GB/512GB NVMe SSD/Windows 10 Home/Nvidia GTX 1660Ti Max-Q/Silver/1.86Kg), A10SD-1041IN',\n",
       " 'Dell Alienware m15(R3) 15.6-inch FHD Gaming Laptop (10th Gen Core i7-10750H/16GB/512GB SSD/Windows 10 Home & MS Office/6GB NVIDIA GTX 1660 Ti Graphics), Lunar Light',\n",
       " 'Mi Notebook Horizon Edition 14 Intel Core i5-10210U 10th Gen Thin and Light Laptop(8GB/512GB SSD/Windows 10/Nvidia MX350 2GB Graphics/Grey/1.35Kg), XMA1904-AR+Webcam']"
      ]
     },
     "execution_count": 36,
     "metadata": {},
     "output_type": "execute_result"
    }
   ],
   "source": [
    "for i in b_t:\n",
    "    bra=i.text\n",
    "    brand.append(bra)\n",
    "    \n",
    "brand[0:4]"
   ]
  },
  {
   "cell_type": "code",
   "execution_count": 37,
   "metadata": {},
   "outputs": [
    {
     "data": {
      "text/plain": [
       "[<selenium.webdriver.remote.webelement.WebElement (session=\"ed1b97abb0ce1150df78fac3c6c62bd3\", element=\"1fff4a51-7801-43f1-96b3-6c0569f049ce\")>,\n",
       " <selenium.webdriver.remote.webelement.WebElement (session=\"ed1b97abb0ce1150df78fac3c6c62bd3\", element=\"f2a091b1-bd7a-4e34-9473-42f594ef88e1\")>,\n",
       " <selenium.webdriver.remote.webelement.WebElement (session=\"ed1b97abb0ce1150df78fac3c6c62bd3\", element=\"32b022b4-d08b-41ff-8b04-39287a43f280\")>,\n",
       " <selenium.webdriver.remote.webelement.WebElement (session=\"ed1b97abb0ce1150df78fac3c6c62bd3\", element=\"66310618-ebd3-40b0-be0a-2a48d47a0876\")>]"
      ]
     },
     "execution_count": 37,
     "metadata": {},
     "output_type": "execute_result"
    }
   ],
   "source": [
    "r_t=driver.find_elements_by_xpath(\"//span[@class='a-icon-alt']\")\n",
    "r_t[0:4]"
   ]
  },
  {
   "cell_type": "code",
   "execution_count": 38,
   "metadata": {},
   "outputs": [
    {
     "data": {
      "text/plain": [
       "['', '', '', '']"
      ]
     },
     "execution_count": 38,
     "metadata": {},
     "output_type": "execute_result"
    }
   ],
   "source": [
    "for i in r_t:\n",
    "    rat=i.text\n",
    "    rating.append(rat)\n",
    "    \n",
    "rating[:4]"
   ]
  },
  {
   "cell_type": "code",
   "execution_count": 39,
   "metadata": {},
   "outputs": [
    {
     "data": {
      "text/plain": [
       "[<selenium.webdriver.remote.webelement.WebElement (session=\"ed1b97abb0ce1150df78fac3c6c62bd3\", element=\"a02cdf9c-d29b-4e35-87cc-4707948e33e5\")>,\n",
       " <selenium.webdriver.remote.webelement.WebElement (session=\"ed1b97abb0ce1150df78fac3c6c62bd3\", element=\"5606d163-b9ce-4c0b-9116-7189b8692aa0\")>,\n",
       " <selenium.webdriver.remote.webelement.WebElement (session=\"ed1b97abb0ce1150df78fac3c6c62bd3\", element=\"698f310b-2b03-4b3f-b6cd-5256d8093696\")>,\n",
       " <selenium.webdriver.remote.webelement.WebElement (session=\"ed1b97abb0ce1150df78fac3c6c62bd3\", element=\"e540b008-afda-4780-aceb-202abb693cdf\")>]"
      ]
     },
     "execution_count": 39,
     "metadata": {},
     "output_type": "execute_result"
    }
   ],
   "source": [
    "p_t=driver.find_elements_by_xpath(\"//span[@class='a-price-whole']\")\n",
    "p_t[0:4]"
   ]
  },
  {
   "cell_type": "code",
   "execution_count": 40,
   "metadata": {},
   "outputs": [
    {
     "data": {
      "text/plain": [
       "['86,990', '1,09,990', '1,98,590', '49,999']"
      ]
     },
     "execution_count": 40,
     "metadata": {},
     "output_type": "execute_result"
    }
   ],
   "source": [
    "for i in p_t:\n",
    "    pri=i.text\n",
    "    price.append(pri)\n",
    "price[0:4]"
   ]
  },
  {
   "cell_type": "code",
   "execution_count": 41,
   "metadata": {},
   "outputs": [
    {
     "name": "stdout",
     "output_type": "stream",
     "text": [
      "28 28 25\n"
     ]
    }
   ],
   "source": [
    "print(len(brand),len(rating),len(price))"
   ]
  },
  {
   "cell_type": "code",
   "execution_count": 42,
   "metadata": {},
   "outputs": [],
   "source": [
    "ama_l=pd.DataFrame({})\n",
    "ama_l['Brand']=brand[:20]\n",
    "ama_l['Rating']=rating[:20]\n",
    "ama_l['Price']=price[:20]"
   ]
  },
  {
   "cell_type": "code",
   "execution_count": 43,
   "metadata": {},
   "outputs": [
    {
     "data": {
      "text/html": [
       "<div>\n",
       "<style scoped>\n",
       "    .dataframe tbody tr th:only-of-type {\n",
       "        vertical-align: middle;\n",
       "    }\n",
       "\n",
       "    .dataframe tbody tr th {\n",
       "        vertical-align: top;\n",
       "    }\n",
       "\n",
       "    .dataframe thead th {\n",
       "        text-align: right;\n",
       "    }\n",
       "</style>\n",
       "<table border=\"1\" class=\"dataframe\">\n",
       "  <thead>\n",
       "    <tr style=\"text-align: right;\">\n",
       "      <th></th>\n",
       "      <th>Brand</th>\n",
       "      <th>Rating</th>\n",
       "      <th>Price</th>\n",
       "    </tr>\n",
       "  </thead>\n",
       "  <tbody>\n",
       "    <tr>\n",
       "      <th>0</th>\n",
       "      <td>Lenovo IdeaPad Flex 5 11th Gen Intel Core i7 1...</td>\n",
       "      <td></td>\n",
       "      <td>86,990</td>\n",
       "    </tr>\n",
       "    <tr>\n",
       "      <th>1</th>\n",
       "      <td>MSI Creator 15M, Intel i7-10750H, 15.6\" FHD IP...</td>\n",
       "      <td></td>\n",
       "      <td>1,09,990</td>\n",
       "    </tr>\n",
       "    <tr>\n",
       "      <th>2</th>\n",
       "      <td>Dell Alienware m15(R3) 15.6-inch FHD Gaming La...</td>\n",
       "      <td></td>\n",
       "      <td>1,98,590</td>\n",
       "    </tr>\n",
       "    <tr>\n",
       "      <th>3</th>\n",
       "      <td>Mi Notebook Horizon Edition 14 Intel Core i5-1...</td>\n",
       "      <td></td>\n",
       "      <td>49,999</td>\n",
       "    </tr>\n",
       "    <tr>\n",
       "      <th>4</th>\n",
       "      <td>Asus ROG Zephyrus S Ultra Slim Gaming Laptop, ...</td>\n",
       "      <td></td>\n",
       "      <td>79,999</td>\n",
       "    </tr>\n",
       "    <tr>\n",
       "      <th>5</th>\n",
       "      <td>HP Pavilion Gaming 10th Gen Intel Core i7 Proc...</td>\n",
       "      <td></td>\n",
       "      <td>1,35,490</td>\n",
       "    </tr>\n",
       "    <tr>\n",
       "      <th>6</th>\n",
       "      <td>Lenovo Legion 5Pi 10th Gen Intel Core i7 15.6\"...</td>\n",
       "      <td></td>\n",
       "      <td>76,500</td>\n",
       "    </tr>\n",
       "    <tr>\n",
       "      <th>7</th>\n",
       "      <td>HP 14 Thin &amp; Light 14-inch FHD Laptop (11th Ge...</td>\n",
       "      <td></td>\n",
       "      <td>40,790</td>\n",
       "    </tr>\n",
       "    <tr>\n",
       "      <th>8</th>\n",
       "      <td>(Renewed) HP EliteBook 820 G4 Laptop (CORE I5 ...</td>\n",
       "      <td></td>\n",
       "      <td>1,44,990</td>\n",
       "    </tr>\n",
       "    <tr>\n",
       "      <th>9</th>\n",
       "      <td>ASUS ROG Zephyrus M15 (2020), 15.6\" 4K UHD, In...</td>\n",
       "      <td></td>\n",
       "      <td>47,190</td>\n",
       "    </tr>\n",
       "    <tr>\n",
       "      <th>10</th>\n",
       "      <td>(Renewed) Lenovo Thinkpad Yoga S1 Laptop (CORE...</td>\n",
       "      <td></td>\n",
       "      <td>78,990</td>\n",
       "    </tr>\n",
       "    <tr>\n",
       "      <th>11</th>\n",
       "      <td>Lenovo Legion Y540 Intel Core i7 9th Gen 15.6 ...</td>\n",
       "      <td></td>\n",
       "      <td>77,990</td>\n",
       "    </tr>\n",
       "    <tr>\n",
       "      <th>12</th>\n",
       "      <td>Dell G3 3500 Gaming 15.6inch 120hz FHD Display...</td>\n",
       "      <td></td>\n",
       "      <td>86,990</td>\n",
       "    </tr>\n",
       "    <tr>\n",
       "      <th>13</th>\n",
       "      <td>Lenovo IdeaPad Flex 5 11th Gen Intel Core i7 1...</td>\n",
       "      <td></td>\n",
       "      <td>35,989</td>\n",
       "    </tr>\n",
       "    <tr>\n",
       "      <th>14</th>\n",
       "      <td>LifeDigital ZED AIR CX7 15.6 IPS FHD Screen Bl...</td>\n",
       "      <td></td>\n",
       "      <td>1,20,240</td>\n",
       "    </tr>\n",
       "    <tr>\n",
       "      <th>15</th>\n",
       "      <td>MSI GL65 Leopard 10SDK-069IN Intel Core i7-107...</td>\n",
       "      <td></td>\n",
       "      <td>96,061</td>\n",
       "    </tr>\n",
       "    <tr>\n",
       "      <th>16</th>\n",
       "      <td>ASUS ZenBook 14 (2020) Intel Core i7-1165G7 11...</td>\n",
       "      <td></td>\n",
       "      <td>92,888</td>\n",
       "    </tr>\n",
       "    <tr>\n",
       "      <th>17</th>\n",
       "      <td>ASUS TUF Gaming F15, 15.6\" FHD 144Hz, Intel Co...</td>\n",
       "      <td></td>\n",
       "      <td>77,990</td>\n",
       "    </tr>\n",
       "    <tr>\n",
       "      <th>18</th>\n",
       "      <td>Lenovo IdeaPad Gaming 3 10th Gen Intel Core i7...</td>\n",
       "      <td></td>\n",
       "      <td>76,990</td>\n",
       "    </tr>\n",
       "    <tr>\n",
       "      <th>19</th>\n",
       "      <td>HP Pavilion x360 (2021) 14\" FHD Touchscreen La...</td>\n",
       "      <td></td>\n",
       "      <td>36,990</td>\n",
       "    </tr>\n",
       "  </tbody>\n",
       "</table>\n",
       "</div>"
      ],
      "text/plain": [
       "                                                Brand Rating     Price\n",
       "0   Lenovo IdeaPad Flex 5 11th Gen Intel Core i7 1...           86,990\n",
       "1   MSI Creator 15M, Intel i7-10750H, 15.6\" FHD IP...         1,09,990\n",
       "2   Dell Alienware m15(R3) 15.6-inch FHD Gaming La...         1,98,590\n",
       "3   Mi Notebook Horizon Edition 14 Intel Core i5-1...           49,999\n",
       "4   Asus ROG Zephyrus S Ultra Slim Gaming Laptop, ...           79,999\n",
       "5   HP Pavilion Gaming 10th Gen Intel Core i7 Proc...         1,35,490\n",
       "6   Lenovo Legion 5Pi 10th Gen Intel Core i7 15.6\"...           76,500\n",
       "7   HP 14 Thin & Light 14-inch FHD Laptop (11th Ge...           40,790\n",
       "8   (Renewed) HP EliteBook 820 G4 Laptop (CORE I5 ...         1,44,990\n",
       "9   ASUS ROG Zephyrus M15 (2020), 15.6\" 4K UHD, In...           47,190\n",
       "10  (Renewed) Lenovo Thinkpad Yoga S1 Laptop (CORE...           78,990\n",
       "11  Lenovo Legion Y540 Intel Core i7 9th Gen 15.6 ...           77,990\n",
       "12  Dell G3 3500 Gaming 15.6inch 120hz FHD Display...           86,990\n",
       "13  Lenovo IdeaPad Flex 5 11th Gen Intel Core i7 1...           35,989\n",
       "14  LifeDigital ZED AIR CX7 15.6 IPS FHD Screen Bl...         1,20,240\n",
       "15  MSI GL65 Leopard 10SDK-069IN Intel Core i7-107...           96,061\n",
       "16  ASUS ZenBook 14 (2020) Intel Core i7-1165G7 11...           92,888\n",
       "17  ASUS TUF Gaming F15, 15.6\" FHD 144Hz, Intel Co...           77,990\n",
       "18  Lenovo IdeaPad Gaming 3 10th Gen Intel Core i7...           76,990\n",
       "19  HP Pavilion x360 (2021) 14\" FHD Touchscreen La...           36,990"
      ]
     },
     "execution_count": 43,
     "metadata": {},
     "output_type": "execute_result"
    }
   ],
   "source": [
    "ama_l"
   ]
  }
 ],
 "metadata": {
  "kernelspec": {
   "display_name": "Python 3",
   "language": "python",
   "name": "python3"
  },
  "language_info": {
   "codemirror_mode": {
    "name": "ipython",
    "version": 3
   },
   "file_extension": ".py",
   "mimetype": "text/x-python",
   "name": "python",
   "nbconvert_exporter": "python",
   "pygments_lexer": "ipython3",
   "version": "3.8.3"
  }
 },
 "nbformat": 4,
 "nbformat_minor": 4
}
