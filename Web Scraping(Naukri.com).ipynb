{
 "cells": [
  {
   "cell_type": "code",
   "execution_count": 1,
   "metadata": {},
   "outputs": [
    {
     "name": "stdout",
     "output_type": "stream",
     "text": [
      "Collecting selenium\n",
      "  Downloading selenium-3.141.0-py2.py3-none-any.whl (904 kB)\n",
      "Requirement already satisfied: urllib3 in c:\\programdata\\anaconda3\\lib\\site-packages (from selenium) (1.25.9)\n",
      "Installing collected packages: selenium\n",
      "Successfully installed selenium-3.141.0\n"
     ]
    }
   ],
   "source": [
    "!pip install selenium"
   ]
  },
  {
   "cell_type": "code",
   "execution_count": 2,
   "metadata": {},
   "outputs": [],
   "source": [
    "#Importing reqiured libraries\n",
    "import selenium\n",
    "import pandas as pd\n",
    "from selenium import webdriver"
   ]
  },
  {
   "cell_type": "code",
   "execution_count": 7,
   "metadata": {},
   "outputs": [],
   "source": [
    "#Connecting to web driver\n",
    "driver = webdriver.Chrome(r\"C://chromedriver.exe\")"
   ]
  },
  {
   "cell_type": "code",
   "execution_count": 4,
   "metadata": {},
   "outputs": [],
   "source": [
    "driver.close()"
   ]
  },
  {
   "cell_type": "code",
   "execution_count": 8,
   "metadata": {},
   "outputs": [],
   "source": [
    "driver.get(\"https://www.naukri.com\")"
   ]
  },
  {
   "cell_type": "code",
   "execution_count": 10,
   "metadata": {},
   "outputs": [],
   "source": [
    "search_job = driver.find_element_by_id(\"qsb-keyword-sugg\")"
   ]
  },
  {
   "cell_type": "code",
   "execution_count": 12,
   "metadata": {},
   "outputs": [],
   "source": [
    "search_job.send_keys(\"Data Scientist\")"
   ]
  },
  {
   "cell_type": "code",
   "execution_count": 13,
   "metadata": {},
   "outputs": [],
   "source": [
    "search_loc = driver.find_element_by_id(\"qsb-location-sugg\")"
   ]
  },
  {
   "cell_type": "code",
   "execution_count": 14,
   "metadata": {},
   "outputs": [],
   "source": [
    "search_loc.send_keys(\"Delhi\")"
   ]
  },
  {
   "cell_type": "code",
   "execution_count": 16,
   "metadata": {},
   "outputs": [],
   "source": [
    "search_btn = driver.find_element_by_xpath(\"//div[@class='search-btn']/button\")\n",
    "search_btn.click()"
   ]
  },
  {
   "cell_type": "code",
   "execution_count": 17,
   "metadata": {},
   "outputs": [],
   "source": [
    "#url of the webpage to be scraped\n",
    "url = \"https://www.naukri.com/data-scientist-jobs-in-delhi?k=data%20scientist&l=delhi\""
   ]
  },
  {
   "cell_type": "code",
   "execution_count": 18,
   "metadata": {},
   "outputs": [],
   "source": [
    "driver.get(url)"
   ]
  },
  {
   "cell_type": "code",
   "execution_count": 19,
   "metadata": {},
   "outputs": [],
   "source": [
    "#List for storing information\n",
    "job_title = []\n",
    "comp_name = []\n",
    "loca = []"
   ]
  },
  {
   "cell_type": "code",
   "execution_count": 21,
   "metadata": {},
   "outputs": [
    {
     "data": {
      "text/plain": [
       "[<selenium.webdriver.remote.webelement.WebElement (session=\"9f115e13586c31f0b5fb3545c23df49d\", element=\"8671e5ef-f566-4b25-b3bc-b51c94e4dba9\")>,\n",
       " <selenium.webdriver.remote.webelement.WebElement (session=\"9f115e13586c31f0b5fb3545c23df49d\", element=\"cde52332-0a0e-448a-95b8-ef9edcb46490\")>,\n",
       " <selenium.webdriver.remote.webelement.WebElement (session=\"9f115e13586c31f0b5fb3545c23df49d\", element=\"af969299-6d49-4f58-8e0b-f08fe8521a70\")>,\n",
       " <selenium.webdriver.remote.webelement.WebElement (session=\"9f115e13586c31f0b5fb3545c23df49d\", element=\"0052e821-e609-424d-b63b-7863798a98c0\")>]"
      ]
     },
     "execution_count": 21,
     "metadata": {},
     "output_type": "execute_result"
    }
   ],
   "source": [
    "#Extracting job title\n",
    "t_t = driver.find_elements_by_xpath(\"//a[@class = 'title fw500 ellipsis']\")\n",
    "t_t[0:4]"
   ]
  },
  {
   "cell_type": "code",
   "execution_count": 22,
   "metadata": {},
   "outputs": [
    {
     "data": {
      "text/plain": [
       "['Data Scientist',\n",
       " 'Senior Data Scientist',\n",
       " 'Data Scientist - Python - Banking Domain',\n",
       " 'Data Scientist']"
      ]
     },
     "execution_count": 22,
     "metadata": {},
     "output_type": "execute_result"
    }
   ],
   "source": [
    "for i in t_t:\n",
    "    title = i.text\n",
    "    job_title.append(title)\n",
    "job_title[0:4]"
   ]
  },
  {
   "cell_type": "code",
   "execution_count": 23,
   "metadata": {},
   "outputs": [
    {
     "data": {
      "text/plain": [
       "[<selenium.webdriver.remote.webelement.WebElement (session=\"9f115e13586c31f0b5fb3545c23df49d\", element=\"d99c603c-565a-4609-b076-932323a865ce\")>,\n",
       " <selenium.webdriver.remote.webelement.WebElement (session=\"9f115e13586c31f0b5fb3545c23df49d\", element=\"2898f2f7-e7b0-47dd-b349-236dfa7de9e9\")>,\n",
       " <selenium.webdriver.remote.webelement.WebElement (session=\"9f115e13586c31f0b5fb3545c23df49d\", element=\"ce48349c-1af8-4476-9ff0-4e00a06a6e0e\")>,\n",
       " <selenium.webdriver.remote.webelement.WebElement (session=\"9f115e13586c31f0b5fb3545c23df49d\", element=\"c518ec4e-a8a0-422a-8f77-a4f9f26d7b8f\")>]"
      ]
     },
     "execution_count": 23,
     "metadata": {},
     "output_type": "execute_result"
    }
   ],
   "source": [
    "#Extracting company name\n",
    "c_n = driver.find_elements_by_xpath(\"//a[@class = 'subTitle ellipsis fleft']\")\n",
    "c_n[0:4]"
   ]
  },
  {
   "cell_type": "code",
   "execution_count": 24,
   "metadata": {},
   "outputs": [
    {
     "data": {
      "text/plain": [
       "['NatWest Group',\n",
       " 'Avom Consultants',\n",
       " 'Huquo Consulting Pvt. Ltd',\n",
       " 'itForte Staffing Services Private Ltd.']"
      ]
     },
     "execution_count": 24,
     "metadata": {},
     "output_type": "execute_result"
    }
   ],
   "source": [
    "for i in c_n:\n",
    "    names = i.text\n",
    "    comp_name.append(names)\n",
    "comp_name[0:4]"
   ]
  },
  {
   "cell_type": "code",
   "execution_count": 27,
   "metadata": {},
   "outputs": [
    {
     "data": {
      "text/plain": [
       "[<selenium.webdriver.remote.webelement.WebElement (session=\"9f115e13586c31f0b5fb3545c23df49d\", element=\"4ca3bf1c-f048-4cb3-9290-521200e6488e\")>,\n",
       " <selenium.webdriver.remote.webelement.WebElement (session=\"9f115e13586c31f0b5fb3545c23df49d\", element=\"37d1f27e-ab60-4b92-bad2-9b7a36a914b4\")>,\n",
       " <selenium.webdriver.remote.webelement.WebElement (session=\"9f115e13586c31f0b5fb3545c23df49d\", element=\"9aa7656f-5e3c-49b1-bdc5-f8c5b9d32cee\")>,\n",
       " <selenium.webdriver.remote.webelement.WebElement (session=\"9f115e13586c31f0b5fb3545c23df49d\", element=\"2bbf5af4-dbc2-4ac2-8998-575c047ec9cd\")>]"
      ]
     },
     "execution_count": 27,
     "metadata": {},
     "output_type": "execute_result"
    }
   ],
   "source": [
    "#Extracting location\n",
    "l_n = driver.find_elements_by_xpath(\"//li[@class = 'fleft grey-text br2 placeHolderLi location']/span[1]\")\n",
    "l_n[0:4]"
   ]
  },
  {
   "cell_type": "code",
   "execution_count": 28,
   "metadata": {},
   "outputs": [
    {
     "data": {
      "text/plain": [
       "['Delhi / NCR',\n",
       " 'Pune, Bangalore/Bengaluru, Delhi / NCR',\n",
       " 'Delhi / NCR',\n",
       " 'Gurgaon/Gurugram']"
      ]
     },
     "execution_count": 28,
     "metadata": {},
     "output_type": "execute_result"
    }
   ],
   "source": [
    "for i in l_n:\n",
    "    locations = i.text\n",
    "    loca.append(locations)\n",
    "loca[0:4]"
   ]
  },
  {
   "cell_type": "code",
   "execution_count": 29,
   "metadata": {},
   "outputs": [
    {
     "name": "stdout",
     "output_type": "stream",
     "text": [
      "20 20 20\n"
     ]
    }
   ],
   "source": [
    "#Checking lengths of all three lists\n",
    "print(len(t_t),len(c_n),len(l_n))"
   ]
  },
  {
   "cell_type": "code",
   "execution_count": 33,
   "metadata": {},
   "outputs": [],
   "source": [
    "#Creating and storing data in a dataframe\n",
    "naukri = pd.DataFrame({})\n",
    "naukri['Title']=job_title\n",
    "naukri['Company Name']=comp_name\n",
    "naukri['Locations']=loca"
   ]
  },
  {
   "cell_type": "code",
   "execution_count": 35,
   "metadata": {},
   "outputs": [
    {
     "data": {
      "text/html": [
       "<div>\n",
       "<style scoped>\n",
       "    .dataframe tbody tr th:only-of-type {\n",
       "        vertical-align: middle;\n",
       "    }\n",
       "\n",
       "    .dataframe tbody tr th {\n",
       "        vertical-align: top;\n",
       "    }\n",
       "\n",
       "    .dataframe thead th {\n",
       "        text-align: right;\n",
       "    }\n",
       "</style>\n",
       "<table border=\"1\" class=\"dataframe\">\n",
       "  <thead>\n",
       "    <tr style=\"text-align: right;\">\n",
       "      <th></th>\n",
       "      <th>Title</th>\n",
       "      <th>Company Name</th>\n",
       "      <th>Locations</th>\n",
       "    </tr>\n",
       "  </thead>\n",
       "  <tbody>\n",
       "    <tr>\n",
       "      <th>0</th>\n",
       "      <td>Data Scientist</td>\n",
       "      <td>NatWest Group</td>\n",
       "      <td>Delhi / NCR</td>\n",
       "    </tr>\n",
       "    <tr>\n",
       "      <th>1</th>\n",
       "      <td>Senior Data Scientist</td>\n",
       "      <td>Avom Consultants</td>\n",
       "      <td>Pune, Bangalore/Bengaluru, Delhi / NCR</td>\n",
       "    </tr>\n",
       "    <tr>\n",
       "      <th>2</th>\n",
       "      <td>Data Scientist - Python - Banking Domain</td>\n",
       "      <td>Huquo Consulting Pvt. Ltd</td>\n",
       "      <td>Delhi / NCR</td>\n",
       "    </tr>\n",
       "    <tr>\n",
       "      <th>3</th>\n",
       "      <td>Data Scientist</td>\n",
       "      <td>itForte Staffing Services Private Ltd.</td>\n",
       "      <td>Gurgaon/Gurugram</td>\n",
       "    </tr>\n",
       "    <tr>\n",
       "      <th>4</th>\n",
       "      <td>Data Scientist - KPO - IIT/NIT/BITS</td>\n",
       "      <td>TalentCo Search Pvt Ltd</td>\n",
       "      <td>Mumbai, Bangalore/Bengaluru, Delhi NCR</td>\n",
       "    </tr>\n",
       "    <tr>\n",
       "      <th>5</th>\n",
       "      <td>SAVP - Data Scientist - Data Science Team - In...</td>\n",
       "      <td>Huquo Consulting Pvt. Ltd</td>\n",
       "      <td>Gurgaon/Gurugram</td>\n",
       "    </tr>\n",
       "    <tr>\n",
       "      <th>6</th>\n",
       "      <td>Data Scientist</td>\n",
       "      <td>American Express Global Business Travel</td>\n",
       "      <td>Gurgaon/Gurugram</td>\n",
       "    </tr>\n",
       "    <tr>\n",
       "      <th>7</th>\n",
       "      <td>Data Scientist</td>\n",
       "      <td>Msg.ai</td>\n",
       "      <td>Gurgaon/Gurugram</td>\n",
       "    </tr>\n",
       "    <tr>\n",
       "      <th>8</th>\n",
       "      <td>Data Scientist</td>\n",
       "      <td>Seven Consultancy</td>\n",
       "      <td>New Delhi</td>\n",
       "    </tr>\n",
       "    <tr>\n",
       "      <th>9</th>\n",
       "      <td>Senior Data Scientist/Manager Data Scientist</td>\n",
       "      <td>Novitas Infotech</td>\n",
       "      <td>Noida, Gurgaon/Gurugram, Bangalore/Bengaluru</td>\n",
       "    </tr>\n",
       "    <tr>\n",
       "      <th>10</th>\n",
       "      <td>Data Scientist-Analytics &amp; Insights</td>\n",
       "      <td>Hiring Joint</td>\n",
       "      <td>Noida</td>\n",
       "    </tr>\n",
       "    <tr>\n",
       "      <th>11</th>\n",
       "      <td>Machine Learning Engineer/ Data Scientist</td>\n",
       "      <td>D rr AG</td>\n",
       "      <td>Noida</td>\n",
       "    </tr>\n",
       "    <tr>\n",
       "      <th>12</th>\n",
       "      <td>Data Scientist</td>\n",
       "      <td>NEEMTREE INTERNET PVT LTD</td>\n",
       "      <td>Gurgaon/Gurugram, haryana</td>\n",
       "    </tr>\n",
       "    <tr>\n",
       "      <th>13</th>\n",
       "      <td>Data Scientist - Analytics</td>\n",
       "      <td>Optum Global Solutions (India) Private Limited</td>\n",
       "      <td>Gurgaon/Gurugram</td>\n",
       "    </tr>\n",
       "    <tr>\n",
       "      <th>14</th>\n",
       "      <td>Data Scientist - Natural Language Processing/S...</td>\n",
       "      <td>Optum Global Solutions (India) Private Limited</td>\n",
       "      <td>Gurgaon/Gurugram</td>\n",
       "    </tr>\n",
       "    <tr>\n",
       "      <th>15</th>\n",
       "      <td>Data Scientist</td>\n",
       "      <td>Beno Staffing</td>\n",
       "      <td>Gurgaon/Gurugram</td>\n",
       "    </tr>\n",
       "    <tr>\n",
       "      <th>16</th>\n",
       "      <td>Data Scientist</td>\n",
       "      <td>SUPPORT STAR CORPORATE SERVICES PVT. LTD.</td>\n",
       "      <td>Gurgaon/Gurugram</td>\n",
       "    </tr>\n",
       "    <tr>\n",
       "      <th>17</th>\n",
       "      <td>Senior Data Scientist</td>\n",
       "      <td>STATXO</td>\n",
       "      <td>Gurgaon/Gurugram, Bangalore/Bengaluru</td>\n",
       "    </tr>\n",
       "    <tr>\n",
       "      <th>18</th>\n",
       "      <td>Data Scientist - Digital Enterprise</td>\n",
       "      <td>Maruti Suzuki India</td>\n",
       "      <td>Gurgaon/Gurugram</td>\n",
       "    </tr>\n",
       "    <tr>\n",
       "      <th>19</th>\n",
       "      <td>Senior Data Scientist-Machine Learning</td>\n",
       "      <td>B G CONSULTANTS PVT LTD</td>\n",
       "      <td>New Delhi</td>\n",
       "    </tr>\n",
       "  </tbody>\n",
       "</table>\n",
       "</div>"
      ],
      "text/plain": [
       "                                                Title  \\\n",
       "0                                      Data Scientist   \n",
       "1                               Senior Data Scientist   \n",
       "2            Data Scientist - Python - Banking Domain   \n",
       "3                                      Data Scientist   \n",
       "4                 Data Scientist - KPO - IIT/NIT/BITS   \n",
       "5   SAVP - Data Scientist - Data Science Team - In...   \n",
       "6                                      Data Scientist   \n",
       "7                                      Data Scientist   \n",
       "8                                      Data Scientist   \n",
       "9        Senior Data Scientist/Manager Data Scientist   \n",
       "10                Data Scientist-Analytics & Insights   \n",
       "11          Machine Learning Engineer/ Data Scientist   \n",
       "12                                     Data Scientist   \n",
       "13                         Data Scientist - Analytics   \n",
       "14  Data Scientist - Natural Language Processing/S...   \n",
       "15                                     Data Scientist   \n",
       "16                                     Data Scientist   \n",
       "17                              Senior Data Scientist   \n",
       "18                Data Scientist - Digital Enterprise   \n",
       "19             Senior Data Scientist-Machine Learning   \n",
       "\n",
       "                                      Company Name  \\\n",
       "0                                    NatWest Group   \n",
       "1                                 Avom Consultants   \n",
       "2                        Huquo Consulting Pvt. Ltd   \n",
       "3           itForte Staffing Services Private Ltd.   \n",
       "4                          TalentCo Search Pvt Ltd   \n",
       "5                        Huquo Consulting Pvt. Ltd   \n",
       "6          American Express Global Business Travel   \n",
       "7                                           Msg.ai   \n",
       "8                                Seven Consultancy   \n",
       "9                                 Novitas Infotech   \n",
       "10                                    Hiring Joint   \n",
       "11                                         D rr AG   \n",
       "12                       NEEMTREE INTERNET PVT LTD   \n",
       "13  Optum Global Solutions (India) Private Limited   \n",
       "14  Optum Global Solutions (India) Private Limited   \n",
       "15                                   Beno Staffing   \n",
       "16       SUPPORT STAR CORPORATE SERVICES PVT. LTD.   \n",
       "17                                          STATXO   \n",
       "18                             Maruti Suzuki India   \n",
       "19                         B G CONSULTANTS PVT LTD   \n",
       "\n",
       "                                       Locations  \n",
       "0                                    Delhi / NCR  \n",
       "1         Pune, Bangalore/Bengaluru, Delhi / NCR  \n",
       "2                                    Delhi / NCR  \n",
       "3                               Gurgaon/Gurugram  \n",
       "4         Mumbai, Bangalore/Bengaluru, Delhi NCR  \n",
       "5                               Gurgaon/Gurugram  \n",
       "6                               Gurgaon/Gurugram  \n",
       "7                               Gurgaon/Gurugram  \n",
       "8                                      New Delhi  \n",
       "9   Noida, Gurgaon/Gurugram, Bangalore/Bengaluru  \n",
       "10                                         Noida  \n",
       "11                                         Noida  \n",
       "12                     Gurgaon/Gurugram, haryana  \n",
       "13                              Gurgaon/Gurugram  \n",
       "14                              Gurgaon/Gurugram  \n",
       "15                              Gurgaon/Gurugram  \n",
       "16                              Gurgaon/Gurugram  \n",
       "17         Gurgaon/Gurugram, Bangalore/Bengaluru  \n",
       "18                              Gurgaon/Gurugram  \n",
       "19                                     New Delhi  "
      ]
     },
     "execution_count": 35,
     "metadata": {},
     "output_type": "execute_result"
    }
   ],
   "source": [
    "naukri"
   ]
  }
 ],
 "metadata": {
  "kernelspec": {
   "display_name": "Python 3",
   "language": "python",
   "name": "python3"
  },
  "language_info": {
   "codemirror_mode": {
    "name": "ipython",
    "version": 3
   },
   "file_extension": ".py",
   "mimetype": "text/x-python",
   "name": "python",
   "nbconvert_exporter": "python",
   "pygments_lexer": "ipython3",
   "version": "3.8.3"
  }
 },
 "nbformat": 4,
 "nbformat_minor": 4
}
